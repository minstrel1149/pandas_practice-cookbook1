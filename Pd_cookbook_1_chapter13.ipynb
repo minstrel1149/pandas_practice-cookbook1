{
 "cells": [
  {
   "cell_type": "code",
   "execution_count": 2,
   "metadata": {},
   "outputs": [],
   "source": [
    "import datetime\n",
    "import time\n",
    "from datetime import datetime, date, timedelta\n",
    "import pandas as pd\n",
    "import numpy as np\n",
    "from pathlib import Path\n",
    "from pandas.testing import assert_frame_equal\n",
    "import matplotlib.pyplot as plt\n",
    "from matplotlib.cm import Greys\n",
    "import matplotlib.dates as mdt\n",
    "import seaborn as sns\n",
    "import scipy.stats as ss\n",
    "p1 = Path.cwd() / 'back_data'"
   ]
  },
  {
   "cell_type": "code",
   "execution_count": 4,
   "metadata": {},
   "outputs": [],
   "source": [
    "# matplotlib에게 notebook에서 그림을 그리도록 지시\n",
    "%matplotlib inline\n",
    "# Jupyter Notebook 상에서 한글이 깨지지 않고 나오도록 조치\n",
    "plt.rcParams['font.family'] = 'Malgun Gothic'\n",
    "plt.rcParams['axes.unicode_minus'] = False\n",
    "# config 설정으로 고화질 도표 생성\n",
    "%config InlineBackend.figure_format = 'svg'"
   ]
  },
  {
   "cell_type": "code",
   "execution_count": 5,
   "metadata": {},
   "outputs": [],
   "source": [
    "# pandas는 plot 속성(혹은 plot() 메서드)을 호출하여 도식화 가능 -> 내부적으로 matplotlib 함수 호출해 도면\n",
    "# seaborn은 정돈된 데이터와 작업, matplotlib은 집계된 데이터에 작동\n",
    "# seaborn은 도식화 함수에서 pandas DataFrame 객체를 허용"
   ]
  },
  {
   "cell_type": "code",
   "execution_count": 6,
   "metadata": {},
   "outputs": [],
   "source": [
    "# matplotlib은 객체의 계층 구조를 사용해 출력 -> Figure > Axes(axis와는 별개) / axis는 x, y 축 나타내기"
   ]
  },
  {
   "cell_type": "code",
   "execution_count": 12,
   "metadata": {},
   "outputs": [
    {
     "data": {
      "text/plain": [
       "[(0.0, 10.0),\n",
       " (-3.0, 8.0),\n",
       " Text(0.5, 0, 'X axis'),\n",
       " Text(0, 0.5, 'Y axis'),\n",
       " Text(0.5, 1.0, 'Line Plot')]"
      ]
     },
     "execution_count": 12,
     "metadata": {},
     "output_type": "execute_result"
    },
    {
     "data": {
      "image/svg+xml": "<?xml version=\"1.0\" encoding=\"utf-8\" standalone=\"no\"?>\n<!DOCTYPE svg PUBLIC \"-//W3C//DTD SVG 1.1//EN\"\n  \"http://www.w3.org/Graphics/SVG/1.1/DTD/svg11.dtd\">\n<svg xmlns:xlink=\"http://www.w3.org/1999/xlink\" width=\"720.073438pt\" height=\"277.863125pt\" viewBox=\"0 0 720.073438 277.863125\" xmlns=\"http://www.w3.org/2000/svg\" version=\"1.1\">\n <metadata>\n  <rdf:RDF xmlns:dc=\"http://purl.org/dc/elements/1.1/\" xmlns:cc=\"http://creativecommons.org/ns#\" xmlns:rdf=\"http://www.w3.org/1999/02/22-rdf-syntax-ns#\">\n   <cc:Work>\n    <dc:type rdf:resource=\"http://purl.org/dc/dcmitype/StillImage\"/>\n    <dc:date>2022-08-06T14:58:38.626818</dc:date>\n    <dc:format>image/svg+xml</dc:format>\n    <dc:creator>\n     <cc:Agent>\n      <dc:title>Matplotlib v3.5.1, https://matplotlib.org/</dc:title>\n     </cc:Agent>\n    </dc:creator>\n   </cc:Work>\n  </rdf:RDF>\n </metadata>\n <defs>\n  <style type=\"text/css\">*{stroke-linejoin: round; stroke-linecap: butt}</style>\n </defs>\n <g id=\"figure_1\">\n  <g id=\"patch_1\">\n   <path d=\"M 0 277.863125 \nL 720.073438 277.863125 \nL 720.073438 0 \nL 0 0 \nL 0 277.863125 \nz\n\" style=\"fill: none\"/>\n  </g>\n  <g id=\"axes_1\">\n   <g id=\"patch_2\">\n    <path d=\"M 37.765625 239.750625 \nL 707.365625 239.750625 \nL 707.365625 22.310625 \nL 37.765625 22.310625 \nz\n\" style=\"fill: #ffffff\"/>\n   </g>\n   <g id=\"matplotlib.axis_1\">\n    <g id=\"xtick_1\">\n     <g id=\"line2d_1\">\n      <defs>\n       <path id=\"m75efa8a10c\" d=\"M 0 0 \nL 0 3.5 \n\" style=\"stroke: #000000; stroke-width: 0.8\"/>\n      </defs>\n      <g>\n       <use xlink:href=\"#m75efa8a10c\" x=\"37.765625\" y=\"239.750625\" style=\"stroke: #000000; stroke-width: 0.8\"/>\n      </g>\n     </g>\n     <g id=\"text_1\">\n      <!-- 0 -->\n      <g transform=\"translate(35.011719 254.342812)scale(0.1 -0.1)\">\n       <defs>\n        <path id=\"MalgunGothic-30\" d=\"M 278 2206 \nQ 278 3425 675 4050 \nQ 1072 4675 1819 4675 \nQ 3253 4675 3253 2319 \nQ 3253 1156 2854 539 \nQ 2456 -78 1716 -78 \nQ 1016 -78 647 520 \nQ 278 1119 278 2206 \nz\nM 784 2231 \nQ 784 344 1769 344 \nQ 2747 344 2747 2259 \nQ 2747 4250 1794 4250 \nQ 784 4250 784 2231 \nz\n\" transform=\"scale(0.015625)\"/>\n       </defs>\n       <use xlink:href=\"#MalgunGothic-30\"/>\n      </g>\n     </g>\n    </g>\n    <g id=\"xtick_2\">\n     <g id=\"line2d_2\">\n      <g>\n       <use xlink:href=\"#m75efa8a10c\" x=\"171.685625\" y=\"239.750625\" style=\"stroke: #000000; stroke-width: 0.8\"/>\n      </g>\n     </g>\n     <g id=\"text_2\">\n      <!-- 2 -->\n      <g transform=\"translate(168.931719 254.342812)scale(0.1 -0.1)\">\n       <defs>\n        <path id=\"MalgunGothic-32\" d=\"M 2519 3372 \nQ 2519 3784 2275 4018 \nQ 2031 4253 1628 4253 \nQ 1341 4253 1053 4104 \nQ 766 3956 534 3697 \nL 534 4234 \nQ 981 4675 1691 4675 \nQ 2281 4675 2642 4334 \nQ 3003 3994 3003 3416 \nQ 3003 2919 2772 2545 \nQ 2541 2172 1984 1775 \nQ 1459 1406 1254 1215 \nQ 1050 1025 967 854 \nQ 884 684 884 450 \nL 3116 450 \nL 3116 0 \nL 356 0 \nL 356 225 \nQ 356 603 461 870 \nQ 566 1138 811 1392 \nQ 1056 1647 1597 2022 \nQ 2091 2363 2305 2670 \nQ 2519 2978 2519 3372 \nz\n\" transform=\"scale(0.015625)\"/>\n       </defs>\n       <use xlink:href=\"#MalgunGothic-32\"/>\n      </g>\n     </g>\n    </g>\n    <g id=\"xtick_3\">\n     <g id=\"line2d_3\">\n      <g>\n       <use xlink:href=\"#m75efa8a10c\" x=\"305.605625\" y=\"239.750625\" style=\"stroke: #000000; stroke-width: 0.8\"/>\n      </g>\n     </g>\n     <g id=\"text_3\">\n      <!-- 4 -->\n      <g transform=\"translate(302.851719 254.342812)scale(0.1 -0.1)\">\n       <defs>\n        <path id=\"MalgunGothic-34\" d=\"M 2703 4600 \nL 2703 1563 \nL 3309 1563 \nL 3309 1113 \nL 2703 1113 \nL 2703 0 \nL 2213 0 \nL 2213 1113 \nL 50 1113 \nL 50 1534 \nQ 728 2297 1295 3109 \nQ 1863 3922 2172 4600 \nL 2703 4600 \nz\nM 625 1563 \nL 2213 1563 \nL 2213 3831 \nQ 1613 2788 959 1981 \nL 625 1563 \nz\n\" transform=\"scale(0.015625)\"/>\n       </defs>\n       <use xlink:href=\"#MalgunGothic-34\"/>\n      </g>\n     </g>\n    </g>\n    <g id=\"xtick_4\">\n     <g id=\"line2d_4\">\n      <g>\n       <use xlink:href=\"#m75efa8a10c\" x=\"439.525625\" y=\"239.750625\" style=\"stroke: #000000; stroke-width: 0.8\"/>\n      </g>\n     </g>\n     <g id=\"text_4\">\n      <!-- 6 -->\n      <g transform=\"translate(436.771719 254.342812)scale(0.1 -0.1)\">\n       <defs>\n        <path id=\"MalgunGothic-36\" d=\"M 2981 4069 \nQ 2619 4250 2228 4250 \nQ 1591 4250 1228 3689 \nQ 866 3128 869 2213 \nL 884 2213 \nQ 1203 2872 1938 2872 \nQ 2547 2872 2903 2478 \nQ 3259 2084 3259 1450 \nQ 3259 797 2857 359 \nQ 2456 -78 1825 -78 \nQ 1116 -78 736 478 \nQ 356 1034 356 2019 \nQ 356 3181 847 3928 \nQ 1338 4675 2222 4675 \nQ 2700 4675 2981 4544 \nL 2981 4069 \nz\nM 906 1506 \nQ 906 1022 1165 683 \nQ 1425 344 1844 344 \nQ 2247 344 2498 645 \nQ 2750 947 2750 1388 \nQ 2750 1888 2509 2167 \nQ 2269 2447 1838 2447 \nQ 1444 2447 1175 2173 \nQ 906 1900 906 1506 \nz\n\" transform=\"scale(0.015625)\"/>\n       </defs>\n       <use xlink:href=\"#MalgunGothic-36\"/>\n      </g>\n     </g>\n    </g>\n    <g id=\"xtick_5\">\n     <g id=\"line2d_5\">\n      <g>\n       <use xlink:href=\"#m75efa8a10c\" x=\"573.445625\" y=\"239.750625\" style=\"stroke: #000000; stroke-width: 0.8\"/>\n      </g>\n     </g>\n     <g id=\"text_5\">\n      <!-- 8 -->\n      <g transform=\"translate(570.691719 254.342812)scale(0.1 -0.1)\">\n       <defs>\n        <path id=\"MalgunGothic-38\" d=\"M 303 1281 \nQ 303 1669 539 2011 \nQ 775 2353 1153 2494 \nQ 856 2647 675 2915 \nQ 494 3184 494 3500 \nQ 494 3828 659 4098 \nQ 825 4369 1122 4522 \nQ 1419 4675 1778 4675 \nQ 2334 4675 2700 4342 \nQ 3066 4009 3066 3500 \nQ 3066 3181 2881 2914 \nQ 2697 2647 2413 2494 \nQ 2788 2350 3022 2009 \nQ 3256 1669 3256 1281 \nQ 3256 672 2843 297 \nQ 2431 -78 1778 -78 \nQ 1131 -78 717 301 \nQ 303 681 303 1281 \nz\nM 809 1328 \nQ 809 878 1081 611 \nQ 1353 344 1781 344 \nQ 2206 344 2482 619 \nQ 2759 894 2759 1328 \nQ 2759 1731 2482 2011 \nQ 2206 2291 1781 2291 \nQ 1372 2291 1090 2020 \nQ 809 1750 809 1328 \nz\nM 1003 3459 \nQ 1003 3125 1234 2900 \nQ 1466 2675 1781 2675 \nQ 2097 2675 2330 2900 \nQ 2563 3125 2563 3459 \nQ 2563 3803 2341 4026 \nQ 2119 4250 1781 4250 \nQ 1450 4250 1226 4029 \nQ 1003 3809 1003 3459 \nz\n\" transform=\"scale(0.015625)\"/>\n       </defs>\n       <use xlink:href=\"#MalgunGothic-38\"/>\n      </g>\n     </g>\n    </g>\n    <g id=\"xtick_6\">\n     <g id=\"line2d_6\">\n      <g>\n       <use xlink:href=\"#m75efa8a10c\" x=\"707.365625\" y=\"239.750625\" style=\"stroke: #000000; stroke-width: 0.8\"/>\n      </g>\n     </g>\n     <g id=\"text_6\">\n      <!-- 10 -->\n      <g transform=\"translate(701.857813 254.342812)scale(0.1 -0.1)\">\n       <defs>\n        <path id=\"MalgunGothic-31\" d=\"M 2231 0 \nL 1734 0 \nL 1734 3972 \nQ 1591 3828 1266 3661 \nQ 941 3494 672 3428 \nL 672 3959 \nQ 1016 4056 1409 4275 \nQ 1803 4494 2031 4700 \nL 2231 4700 \nL 2231 0 \nz\n\" transform=\"scale(0.015625)\"/>\n       </defs>\n       <use xlink:href=\"#MalgunGothic-31\"/>\n       <use xlink:href=\"#MalgunGothic-30\" x=\"55.078125\"/>\n      </g>\n     </g>\n    </g>\n    <g id=\"text_7\">\n     <!-- X axis -->\n     <g transform=\"translate(359.482031 268.299062)scale(0.1 -0.1)\">\n      <defs>\n       <path id=\"MalgunGothic-58\" d=\"M 3744 0 \nL 3125 0 \nL 2050 1778 \nQ 2003 1853 1941 2000 \nL 1928 2000 \nQ 1891 1913 1819 1778 \nL 713 0 \nL 88 0 \nL 1631 2313 \nL 209 4600 \nL 831 4600 \nL 1788 2966 \nQ 1903 2769 1953 2647 \nL 1966 2647 \nQ 2072 2866 2150 2981 \nL 3141 4600 \nL 3725 4600 \nL 2278 2319 \nL 3744 0 \nz\n\" transform=\"scale(0.015625)\"/>\n       <path id=\"MalgunGothic-20\" transform=\"scale(0.015625)\"/>\n       <path id=\"MalgunGothic-61\" d=\"M 616 3050 \nQ 1097 3359 1722 3359 \nQ 2866 3359 2866 2147 \nL 2866 0 \nL 2369 0 \nL 2369 516 \nL 2350 516 \nQ 2009 -78 1341 -78 \nQ 859 -78 576 180 \nQ 294 438 294 869 \nQ 294 1784 1375 1934 \nL 2366 2078 \nQ 2366 2934 1684 2934 \nQ 1084 2934 616 2525 \nL 616 3050 \nz\nM 1563 1559 \nQ 1178 1509 993 1371 \nQ 809 1234 809 903 \nQ 809 653 986 500 \nQ 1163 347 1450 347 \nQ 1847 347 2106 628 \nQ 2366 909 2366 1334 \nL 2366 1666 \nL 1563 1559 \nz\n\" transform=\"scale(0.015625)\"/>\n       <path id=\"MalgunGothic-78\" d=\"M 2884 3284 \nL 1784 1616 \nL 2869 0 \nL 2288 0 \nL 1634 1078 \nQ 1563 1197 1491 1325 \nL 1475 1325 \nQ 1456 1284 1328 1078 \nL 656 0 \nL 88 0 \nL 1209 1606 \nL 134 3284 \nL 713 3284 \nL 1494 1897 \nL 1506 1897 \nQ 1525 1925 1641 2119 \nL 2344 3284 \nL 2884 3284 \nz\n\" transform=\"scale(0.015625)\"/>\n       <path id=\"MalgunGothic-69\" d=\"M 472 4466 \nQ 472 4606 565 4701 \nQ 659 4797 794 4797 \nQ 934 4797 1029 4700 \nQ 1125 4603 1125 4466 \nQ 1125 4325 1029 4231 \nQ 934 4138 794 4138 \nQ 659 4138 565 4230 \nQ 472 4322 472 4466 \nz\nM 541 0 \nL 541 3284 \nL 1034 3284 \nL 1034 0 \nL 541 0 \nz\n\" transform=\"scale(0.015625)\"/>\n       <path id=\"MalgunGothic-73\" d=\"M 331 669 \nQ 763 350 1278 350 \nQ 1978 350 1978 822 \nQ 1978 1025 1825 1158 \nQ 1672 1291 1222 1459 \nQ 703 1666 520 1878 \nQ 338 2091 338 2416 \nQ 338 2834 700 3096 \nQ 1063 3359 1584 3359 \nQ 2003 3359 2341 3213 \nL 2341 2697 \nQ 1975 2934 1506 2934 \nQ 1200 2934 1025 2798 \nQ 850 2663 850 2459 \nQ 850 2241 979 2125 \nQ 1109 2009 1544 1838 \nQ 2131 1609 2309 1390 \nQ 2488 1172 2488 869 \nQ 2488 431 2127 176 \nQ 1766 -78 1203 -78 \nQ 694 -78 331 122 \nL 331 669 \nz\n\" transform=\"scale(0.015625)\"/>\n      </defs>\n      <use xlink:href=\"#MalgunGothic-58\"/>\n      <use xlink:href=\"#MalgunGothic-20\" x=\"60.107422\"/>\n      <use xlink:href=\"#MalgunGothic-61\" x=\"95.263672\"/>\n      <use xlink:href=\"#MalgunGothic-78\" x=\"147.265625\"/>\n      <use xlink:href=\"#MalgunGothic-69\" x=\"193.75\"/>\n      <use xlink:href=\"#MalgunGothic-73\" x=\"218.359375\"/>\n     </g>\n    </g>\n   </g>\n   <g id=\"matplotlib.axis_2\">\n    <g id=\"ytick_1\">\n     <g id=\"line2d_7\">\n      <defs>\n       <path id=\"mfc02c83226\" d=\"M 0 0 \nL -3.5 0 \n\" style=\"stroke: #000000; stroke-width: 0.8\"/>\n      </defs>\n      <g>\n       <use xlink:href=\"#mfc02c83226\" x=\"37.765625\" y=\"219.983352\" style=\"stroke: #000000; stroke-width: 0.8\"/>\n      </g>\n     </g>\n     <g id=\"text_8\">\n      <!-- -2 -->\n      <g transform=\"translate(21.15625 223.779446)scale(0.1 -0.1)\">\n       <defs>\n        <path id=\"MalgunGothic-2d\" d=\"M 2213 1634 \nL 463 1634 \nL 463 2031 \nL 2213 2031 \nL 2213 1634 \nz\n\" transform=\"scale(0.015625)\"/>\n       </defs>\n       <use xlink:href=\"#MalgunGothic-2d\"/>\n       <use xlink:href=\"#MalgunGothic-32\" x=\"41.015625\"/>\n      </g>\n     </g>\n    </g>\n    <g id=\"ytick_2\">\n     <g id=\"line2d_8\">\n      <g>\n       <use xlink:href=\"#mfc02c83226\" x=\"37.765625\" y=\"180.448807\" style=\"stroke: #000000; stroke-width: 0.8\"/>\n      </g>\n     </g>\n     <g id=\"text_9\">\n      <!-- 0 -->\n      <g transform=\"translate(25.257812 184.244901)scale(0.1 -0.1)\">\n       <use xlink:href=\"#MalgunGothic-30\"/>\n      </g>\n     </g>\n    </g>\n    <g id=\"ytick_3\">\n     <g id=\"line2d_9\">\n      <g>\n       <use xlink:href=\"#mfc02c83226\" x=\"37.765625\" y=\"140.914261\" style=\"stroke: #000000; stroke-width: 0.8\"/>\n      </g>\n     </g>\n     <g id=\"text_10\">\n      <!-- 2 -->\n      <g transform=\"translate(25.257812 144.710355)scale(0.1 -0.1)\">\n       <use xlink:href=\"#MalgunGothic-32\"/>\n      </g>\n     </g>\n    </g>\n    <g id=\"ytick_4\">\n     <g id=\"line2d_10\">\n      <g>\n       <use xlink:href=\"#mfc02c83226\" x=\"37.765625\" y=\"101.379716\" style=\"stroke: #000000; stroke-width: 0.8\"/>\n      </g>\n     </g>\n     <g id=\"text_11\">\n      <!-- 4 -->\n      <g transform=\"translate(25.257812 105.17581)scale(0.1 -0.1)\">\n       <use xlink:href=\"#MalgunGothic-34\"/>\n      </g>\n     </g>\n    </g>\n    <g id=\"ytick_5\">\n     <g id=\"line2d_11\">\n      <g>\n       <use xlink:href=\"#mfc02c83226\" x=\"37.765625\" y=\"61.84517\" style=\"stroke: #000000; stroke-width: 0.8\"/>\n      </g>\n     </g>\n     <g id=\"text_12\">\n      <!-- 6 -->\n      <g transform=\"translate(25.257812 65.641264)scale(0.1 -0.1)\">\n       <use xlink:href=\"#MalgunGothic-36\"/>\n      </g>\n     </g>\n    </g>\n    <g id=\"ytick_6\">\n     <g id=\"line2d_12\">\n      <g>\n       <use xlink:href=\"#mfc02c83226\" x=\"37.765625\" y=\"22.310625\" style=\"stroke: #000000; stroke-width: 0.8\"/>\n      </g>\n     </g>\n     <g id=\"text_13\">\n      <!-- 8 -->\n      <g transform=\"translate(25.257812 26.106719)scale(0.1 -0.1)\">\n       <use xlink:href=\"#MalgunGothic-38\"/>\n      </g>\n     </g>\n    </g>\n    <g id=\"text_14\">\n     <!-- Y axis -->\n     <g transform=\"translate(14.792188 143.925937)rotate(-90)scale(0.1 -0.1)\">\n      <defs>\n       <path id=\"MalgunGothic-59\" d=\"M 3566 4600 \nL 2050 1700 \nL 2050 0 \nL 1541 0 \nL 1541 1694 \nL 59 4600 \nL 638 4600 \nL 1684 2497 \nQ 1703 2459 1797 2222 \nL 1806 2222 \nQ 1838 2322 1931 2497 \nL 3028 4600 \nL 3566 4600 \nz\n\" transform=\"scale(0.015625)\"/>\n      </defs>\n      <use xlink:href=\"#MalgunGothic-59\"/>\n      <use xlink:href=\"#MalgunGothic-20\" x=\"56.347656\"/>\n      <use xlink:href=\"#MalgunGothic-61\" x=\"91.503906\"/>\n      <use xlink:href=\"#MalgunGothic-78\" x=\"143.505859\"/>\n      <use xlink:href=\"#MalgunGothic-69\" x=\"189.990234\"/>\n      <use xlink:href=\"#MalgunGothic-73\" x=\"214.599609\"/>\n     </g>\n    </g>\n   </g>\n   <g id=\"line2d_13\">\n    <path d=\"M -1 30.633891 \nL 372.565625 140.914261 \nL 506.485625 81.612443 \n\" clip-path=\"url(#p8999d29927)\" style=\"fill: none; stroke: #1f77b4; stroke-width: 1.5; stroke-linecap: square\"/>\n   </g>\n   <g id=\"patch_3\">\n    <path d=\"M 37.765625 239.750625 \nL 37.765625 22.310625 \n\" style=\"fill: none; stroke: #000000; stroke-width: 0.8; stroke-linejoin: miter; stroke-linecap: square\"/>\n   </g>\n   <g id=\"patch_4\">\n    <path d=\"M 707.365625 239.750625 \nL 707.365625 22.310625 \n\" style=\"fill: none; stroke: #000000; stroke-width: 0.8; stroke-linejoin: miter; stroke-linecap: square\"/>\n   </g>\n   <g id=\"patch_5\">\n    <path d=\"M 37.765625 239.750625 \nL 707.365625 239.750625 \n\" style=\"fill: none; stroke: #000000; stroke-width: 0.8; stroke-linejoin: miter; stroke-linecap: square\"/>\n   </g>\n   <g id=\"patch_6\">\n    <path d=\"M 37.765625 22.310625 \nL 707.365625 22.310625 \n\" style=\"fill: none; stroke: #000000; stroke-width: 0.8; stroke-linejoin: miter; stroke-linecap: square\"/>\n   </g>\n   <g id=\"text_15\">\n    <!-- Line Plot -->\n    <g transform=\"translate(348.85625 16.310625)scale(0.12 -0.12)\">\n     <defs>\n      <path id=\"MalgunGothic-4c\" d=\"M 2972 0 \nL 609 0 \nL 609 4600 \nL 1113 4600 \nL 1113 463 \nL 2972 463 \nL 2972 0 \nz\n\" transform=\"scale(0.015625)\"/>\n      <path id=\"MalgunGothic-6e\" d=\"M 3238 0 \nL 2741 0 \nL 2741 1875 \nQ 2741 2941 1963 2941 \nQ 1563 2941 1298 2639 \nQ 1034 2338 1034 1872 \nL 1034 0 \nL 538 0 \nL 538 3284 \nL 1034 3284 \nL 1034 2734 \nL 1047 2734 \nQ 1416 3359 2125 3359 \nQ 2666 3359 2952 3012 \nQ 3238 2666 3238 2006 \nL 3238 0 \nz\n\" transform=\"scale(0.015625)\"/>\n      <path id=\"MalgunGothic-65\" d=\"M 3156 1519 \nL 828 1519 \nQ 844 950 1133 648 \nQ 1422 347 1909 347 \nQ 2472 347 2934 719 \nL 2934 244 \nQ 2494 -78 1794 -78 \nQ 1100 -78 708 376 \nQ 316 831 316 1634 \nQ 316 2381 747 2870 \nQ 1178 3359 1816 3359 \nQ 2453 3359 2804 2942 \nQ 3156 2525 3156 1788 \nL 3156 1519 \nz\nM 2644 1956 \nQ 2644 2416 2423 2675 \nQ 2203 2934 1809 2934 \nQ 1438 2934 1169 2667 \nQ 900 2400 834 1956 \nL 2644 1956 \nz\n\" transform=\"scale(0.015625)\"/>\n      <path id=\"MalgunGothic-50\" d=\"M 1113 1747 \nL 1113 0 \nL 609 0 \nL 609 4600 \nL 1850 4600 \nQ 2575 4600 2979 4240 \nQ 3384 3881 3384 3231 \nQ 3384 2559 2909 2140 \nQ 2434 1722 1728 1747 \nL 1113 1747 \nz\nM 1113 4131 \nL 1113 2219 \nL 1691 2219 \nQ 2256 2219 2554 2475 \nQ 2853 2731 2853 3206 \nQ 2853 4131 1759 4131 \nL 1113 4131 \nz\n\" transform=\"scale(0.015625)\"/>\n      <path id=\"MalgunGothic-6c\" d=\"M 541 0 \nL 541 4859 \nL 1034 4859 \nL 1034 0 \nL 541 0 \nz\n\" transform=\"scale(0.015625)\"/>\n      <path id=\"MalgunGothic-6f\" d=\"M 316 1600 \nQ 316 2419 761 2889 \nQ 1206 3359 1978 3359 \nQ 2697 3359 3111 2907 \nQ 3525 2456 3525 1650 \nQ 3525 869 3078 395 \nQ 2631 -78 1900 -78 \nQ 1184 -78 750 384 \nQ 316 847 316 1600 \nz\nM 819 1622 \nQ 819 1041 1123 692 \nQ 1428 344 1934 344 \nQ 2459 344 2739 680 \nQ 3019 1016 3019 1634 \nQ 3019 2256 2737 2598 \nQ 2456 2941 1934 2941 \nQ 1425 2941 1122 2587 \nQ 819 2234 819 1622 \nz\n\" transform=\"scale(0.015625)\"/>\n      <path id=\"MalgunGothic-74\" d=\"M 2031 31 \nQ 1844 -72 1553 -72 \nQ 706 -72 706 881 \nL 706 2856 \nL 138 2856 \nL 138 3284 \nL 706 3284 \nL 706 4091 \nL 1200 4250 \nL 1200 3284 \nL 2031 3284 \nL 2031 2856 \nL 1200 2856 \nL 1200 972 \nQ 1200 625 1315 487 \nQ 1431 350 1691 350 \nQ 1888 350 2031 459 \nL 2031 31 \nz\n\" transform=\"scale(0.015625)\"/>\n     </defs>\n     <use xlink:href=\"#MalgunGothic-4c\"/>\n     <use xlink:href=\"#MalgunGothic-69\" x=\"47.998047\"/>\n     <use xlink:href=\"#MalgunGothic-6e\" x=\"72.607422\"/>\n     <use xlink:href=\"#MalgunGothic-65\" x=\"130.419922\"/>\n     <use xlink:href=\"#MalgunGothic-20\" x=\"183.935547\"/>\n     <use xlink:href=\"#MalgunGothic-50\" x=\"219.091797\"/>\n     <use xlink:href=\"#MalgunGothic-6c\" x=\"276.171875\"/>\n     <use xlink:href=\"#MalgunGothic-6f\" x=\"300.78125\"/>\n     <use xlink:href=\"#MalgunGothic-74\" x=\"360.693359\"/>\n    </g>\n   </g>\n  </g>\n </g>\n <defs>\n  <clipPath id=\"p8999d29927\">\n   <rect x=\"37.765625\" y=\"22.310625\" width=\"669.6\" height=\"217.44\"/>\n  </clipPath>\n </defs>\n</svg>\n",
      "text/plain": [
       "<Figure size 864x288 with 1 Axes>"
      ]
     },
     "metadata": {
      "needs_background": "light"
     },
     "output_type": "display_data"
    }
   ],
   "source": [
    "# subplots() 함수 사용하여 상태 저장 및 객체지향 혼용\n",
    "x = [-3, 5, 7]\n",
    "y = [10, 2, 5]\n",
    "fig, ax = plt.subplots(figsize=(12, 4))\n",
    "# ax라는 Axes 객체에 x, y에 대한 선 그래프 그리기\n",
    "ax.plot(x, y)\n",
    "# set() 메서드 활용하여 각종 설정 가능\n",
    "ax.set(xlim=(0, 10), ylim=(-3, 8), xlabel='X axis', ylabel='Y axis', title='Line Plot')"
   ]
  },
  {
   "cell_type": "code",
   "execution_count": null,
   "metadata": {},
   "outputs": [],
   "source": []
  }
 ],
 "metadata": {
  "kernelspec": {
   "display_name": "Python 3.9.12 ('base')",
   "language": "python",
   "name": "python3"
  },
  "language_info": {
   "codemirror_mode": {
    "name": "ipython",
    "version": 3
   },
   "file_extension": ".py",
   "mimetype": "text/x-python",
   "name": "python",
   "nbconvert_exporter": "python",
   "pygments_lexer": "ipython3",
   "version": "3.9.12"
  },
  "orig_nbformat": 4,
  "vscode": {
   "interpreter": {
    "hash": "610a6f344c2137faf927ea819c63f6cee33a2c04455044b28099f39fe9722347"
   }
  }
 },
 "nbformat": 4,
 "nbformat_minor": 2
}
