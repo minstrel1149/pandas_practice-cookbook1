{
 "cells": [
  {
   "cell_type": "code",
   "execution_count": 1,
   "metadata": {},
   "outputs": [],
   "source": [
    "import pandas as pd\n",
    "import numpy as np\n",
    "from pathlib import Path\n",
    "import zipfile\n",
    "import matplotlib.pyplot as plt\n",
    "import seaborn as sns\n",
    "import glob\n",
    "import datetime as dt"
   ]
  },
  {
   "cell_type": "code",
   "execution_count": 2,
   "metadata": {},
   "outputs": [],
   "source": [
    "# matplotlib에게 notebook에서 그림을 그리도록 지시\n",
    "%matplotlib inline\n",
    "# Jupyter Notebook 상에서 한글이 깨지지 않고 나오도록 조치\n",
    "plt.rcParams['font.family'] = 'Malgun Gothic'\n",
    "plt.rcParams['axes.unicode_minus'] = False\n",
    "# config 설정으로 고화질 도표 생성\n",
    "%config InlineBackend.figure_format = 'svg'"
   ]
  },
  {
   "cell_type": "code",
   "execution_count": 9,
   "metadata": {},
   "outputs": [
    {
     "data": {
      "image/svg+xml": "<?xml version=\"1.0\" encoding=\"utf-8\" standalone=\"no\"?>\n<!DOCTYPE svg PUBLIC \"-//W3C//DTD SVG 1.1//EN\"\n  \"http://www.w3.org/Graphics/SVG/1.1/DTD/svg11.dtd\">\n<svg xmlns:xlink=\"http://www.w3.org/1999/xlink\" width=\"721.479688pt\" height=\"226.83625pt\" viewBox=\"0 0 721.479688 226.83625\" xmlns=\"http://www.w3.org/2000/svg\" version=\"1.1\">\n <metadata>\n  <rdf:RDF xmlns:dc=\"http://purl.org/dc/elements/1.1/\" xmlns:cc=\"http://creativecommons.org/ns#\" xmlns:rdf=\"http://www.w3.org/1999/02/22-rdf-syntax-ns#\">\n   <cc:Work>\n    <dc:type rdf:resource=\"http://purl.org/dc/dcmitype/StillImage\"/>\n    <dc:date>2023-03-01T13:28:50.311268</dc:date>\n    <dc:format>image/svg+xml</dc:format>\n    <dc:creator>\n     <cc:Agent>\n      <dc:title>Matplotlib v3.5.1, https://matplotlib.org/</dc:title>\n     </cc:Agent>\n    </dc:creator>\n   </cc:Work>\n  </rdf:RDF>\n </metadata>\n <defs>\n  <style type=\"text/css\">*{stroke-linejoin: round; stroke-linecap: butt}</style>\n </defs>\n <g id=\"figure_1\">\n  <g id=\"patch_1\">\n   <path d=\"M 0 226.83625 \nL 721.479688 226.83625 \nL 721.479688 0 \nL 0 0 \nL 0 226.83625 \nz\n\" style=\"fill: none\"/>\n  </g>\n  <g id=\"axes_1\">\n   <g id=\"patch_2\">\n    <path d=\"M 39.171875 202.68 \nL 708.771875 202.68 \nL 708.771875 39.6 \nL 39.171875 39.6 \nz\n\" style=\"fill: #ffffff\"/>\n   </g>\n   <g id=\"matplotlib.axis_1\">\n    <g id=\"xtick_1\">\n     <g id=\"line2d_1\">\n      <defs>\n       <path id=\"m1e1b3f74c7\" d=\"M 0 0 \nL 0 3.5 \n\" style=\"stroke: #000000; stroke-width: 0.8\"/>\n      </defs>\n      <g>\n       <use xlink:href=\"#m1e1b3f74c7\" x=\"39.171875\" y=\"202.68\" style=\"stroke: #000000; stroke-width: 0.8\"/>\n      </g>\n     </g>\n     <g id=\"text_1\">\n      <!-- 10 -->\n      <g transform=\"translate(33.664062 217.272188)scale(0.1 -0.1)\">\n       <defs>\n        <path id=\"MalgunGothic-31\" d=\"M 2231 0 \nL 1734 0 \nL 1734 3972 \nQ 1591 3828 1266 3661 \nQ 941 3494 672 3428 \nL 672 3959 \nQ 1016 4056 1409 4275 \nQ 1803 4494 2031 4700 \nL 2231 4700 \nL 2231 0 \nz\n\" transform=\"scale(0.015625)\"/>\n        <path id=\"MalgunGothic-30\" d=\"M 278 2206 \nQ 278 3425 675 4050 \nQ 1072 4675 1819 4675 \nQ 3253 4675 3253 2319 \nQ 3253 1156 2854 539 \nQ 2456 -78 1716 -78 \nQ 1016 -78 647 520 \nQ 278 1119 278 2206 \nz\nM 784 2231 \nQ 784 344 1769 344 \nQ 2747 344 2747 2259 \nQ 2747 4250 1794 4250 \nQ 784 4250 784 2231 \nz\n\" transform=\"scale(0.015625)\"/>\n       </defs>\n       <use xlink:href=\"#MalgunGothic-31\"/>\n       <use xlink:href=\"#MalgunGothic-30\" x=\"55.078125\"/>\n      </g>\n     </g>\n    </g>\n    <g id=\"xtick_2\">\n     <g id=\"line2d_2\">\n      <g>\n       <use xlink:href=\"#m1e1b3f74c7\" x=\"106.131875\" y=\"202.68\" style=\"stroke: #000000; stroke-width: 0.8\"/>\n      </g>\n     </g>\n     <g id=\"text_2\">\n      <!-- 11 -->\n      <g transform=\"translate(100.624063 217.272188)scale(0.1 -0.1)\">\n       <use xlink:href=\"#MalgunGothic-31\"/>\n       <use xlink:href=\"#MalgunGothic-31\" x=\"55.078125\"/>\n      </g>\n     </g>\n    </g>\n    <g id=\"xtick_3\">\n     <g id=\"line2d_3\">\n      <g>\n       <use xlink:href=\"#m1e1b3f74c7\" x=\"173.091875\" y=\"202.68\" style=\"stroke: #000000; stroke-width: 0.8\"/>\n      </g>\n     </g>\n     <g id=\"text_3\">\n      <!-- 12 -->\n      <g transform=\"translate(167.584063 217.272188)scale(0.1 -0.1)\">\n       <defs>\n        <path id=\"MalgunGothic-32\" d=\"M 2519 3372 \nQ 2519 3784 2275 4018 \nQ 2031 4253 1628 4253 \nQ 1341 4253 1053 4104 \nQ 766 3956 534 3697 \nL 534 4234 \nQ 981 4675 1691 4675 \nQ 2281 4675 2642 4334 \nQ 3003 3994 3003 3416 \nQ 3003 2919 2772 2545 \nQ 2541 2172 1984 1775 \nQ 1459 1406 1254 1215 \nQ 1050 1025 967 854 \nQ 884 684 884 450 \nL 3116 450 \nL 3116 0 \nL 356 0 \nL 356 225 \nQ 356 603 461 870 \nQ 566 1138 811 1392 \nQ 1056 1647 1597 2022 \nQ 2091 2363 2305 2670 \nQ 2519 2978 2519 3372 \nz\n\" transform=\"scale(0.015625)\"/>\n       </defs>\n       <use xlink:href=\"#MalgunGothic-31\"/>\n       <use xlink:href=\"#MalgunGothic-32\" x=\"55.078125\"/>\n      </g>\n     </g>\n    </g>\n    <g id=\"xtick_4\">\n     <g id=\"line2d_4\">\n      <g>\n       <use xlink:href=\"#m1e1b3f74c7\" x=\"240.051875\" y=\"202.68\" style=\"stroke: #000000; stroke-width: 0.8\"/>\n      </g>\n     </g>\n     <g id=\"text_4\">\n      <!-- 13 -->\n      <g transform=\"translate(234.544063 217.272188)scale(0.1 -0.1)\">\n       <defs>\n        <path id=\"MalgunGothic-33\" d=\"M 416 719 \nQ 891 344 1478 344 \nQ 1959 344 2254 587 \nQ 2550 831 2550 1247 \nQ 2550 2169 1253 2169 \nL 872 2169 \nL 872 2591 \nL 1234 2591 \nQ 2388 2591 2388 3453 \nQ 2388 4250 1509 4250 \nQ 1022 4250 594 3916 \nL 594 4413 \nQ 1031 4675 1634 4675 \nQ 2184 4675 2539 4372 \nQ 2894 4069 2894 3581 \nQ 2894 2678 1972 2409 \nL 1972 2400 \nQ 2469 2356 2764 2053 \nQ 3059 1750 3059 1300 \nQ 3059 672 2604 297 \nQ 2150 -78 1450 -78 \nQ 806 -78 416 169 \nL 416 719 \nz\n\" transform=\"scale(0.015625)\"/>\n       </defs>\n       <use xlink:href=\"#MalgunGothic-31\"/>\n       <use xlink:href=\"#MalgunGothic-33\" x=\"55.078125\"/>\n      </g>\n     </g>\n    </g>\n    <g id=\"xtick_5\">\n     <g id=\"line2d_5\">\n      <g>\n       <use xlink:href=\"#m1e1b3f74c7\" x=\"307.011875\" y=\"202.68\" style=\"stroke: #000000; stroke-width: 0.8\"/>\n      </g>\n     </g>\n     <g id=\"text_5\">\n      <!-- 14 -->\n      <g transform=\"translate(301.504063 217.272188)scale(0.1 -0.1)\">\n       <defs>\n        <path id=\"MalgunGothic-34\" d=\"M 2703 4600 \nL 2703 1563 \nL 3309 1563 \nL 3309 1113 \nL 2703 1113 \nL 2703 0 \nL 2213 0 \nL 2213 1113 \nL 50 1113 \nL 50 1534 \nQ 728 2297 1295 3109 \nQ 1863 3922 2172 4600 \nL 2703 4600 \nz\nM 625 1563 \nL 2213 1563 \nL 2213 3831 \nQ 1613 2788 959 1981 \nL 625 1563 \nz\n\" transform=\"scale(0.015625)\"/>\n       </defs>\n       <use xlink:href=\"#MalgunGothic-31\"/>\n       <use xlink:href=\"#MalgunGothic-34\" x=\"55.078125\"/>\n      </g>\n     </g>\n    </g>\n    <g id=\"xtick_6\">\n     <g id=\"line2d_6\">\n      <g>\n       <use xlink:href=\"#m1e1b3f74c7\" x=\"373.971875\" y=\"202.68\" style=\"stroke: #000000; stroke-width: 0.8\"/>\n      </g>\n     </g>\n     <g id=\"text_6\">\n      <!-- 15 -->\n      <g transform=\"translate(368.464063 217.272188)scale(0.1 -0.1)\">\n       <defs>\n        <path id=\"MalgunGothic-35\" d=\"M 3072 1403 \nQ 3072 722 2636 322 \nQ 2200 -78 1469 -78 \nQ 828 -78 516 113 \nL 516 650 \nQ 994 344 1475 344 \nQ 1969 344 2270 630 \nQ 2572 916 2572 1372 \nQ 2572 1838 2265 2092 \nQ 1959 2347 1381 2347 \nQ 994 2347 603 2300 \nL 759 4600 \nL 2869 4600 \nL 2869 4147 \nL 1206 4147 \nL 1106 2763 \nQ 1347 2784 1547 2784 \nQ 2263 2784 2667 2414 \nQ 3072 2044 3072 1403 \nz\n\" transform=\"scale(0.015625)\"/>\n       </defs>\n       <use xlink:href=\"#MalgunGothic-31\"/>\n       <use xlink:href=\"#MalgunGothic-35\" x=\"55.078125\"/>\n      </g>\n     </g>\n    </g>\n    <g id=\"xtick_7\">\n     <g id=\"line2d_7\">\n      <g>\n       <use xlink:href=\"#m1e1b3f74c7\" x=\"440.931875\" y=\"202.68\" style=\"stroke: #000000; stroke-width: 0.8\"/>\n      </g>\n     </g>\n     <g id=\"text_7\">\n      <!-- 16 -->\n      <g transform=\"translate(435.424063 217.272188)scale(0.1 -0.1)\">\n       <defs>\n        <path id=\"MalgunGothic-36\" d=\"M 2981 4069 \nQ 2619 4250 2228 4250 \nQ 1591 4250 1228 3689 \nQ 866 3128 869 2213 \nL 884 2213 \nQ 1203 2872 1938 2872 \nQ 2547 2872 2903 2478 \nQ 3259 2084 3259 1450 \nQ 3259 797 2857 359 \nQ 2456 -78 1825 -78 \nQ 1116 -78 736 478 \nQ 356 1034 356 2019 \nQ 356 3181 847 3928 \nQ 1338 4675 2222 4675 \nQ 2700 4675 2981 4544 \nL 2981 4069 \nz\nM 906 1506 \nQ 906 1022 1165 683 \nQ 1425 344 1844 344 \nQ 2247 344 2498 645 \nQ 2750 947 2750 1388 \nQ 2750 1888 2509 2167 \nQ 2269 2447 1838 2447 \nQ 1444 2447 1175 2173 \nQ 906 1900 906 1506 \nz\n\" transform=\"scale(0.015625)\"/>\n       </defs>\n       <use xlink:href=\"#MalgunGothic-31\"/>\n       <use xlink:href=\"#MalgunGothic-36\" x=\"55.078125\"/>\n      </g>\n     </g>\n    </g>\n    <g id=\"xtick_8\">\n     <g id=\"line2d_8\">\n      <g>\n       <use xlink:href=\"#m1e1b3f74c7\" x=\"507.891875\" y=\"202.68\" style=\"stroke: #000000; stroke-width: 0.8\"/>\n      </g>\n     </g>\n     <g id=\"text_8\">\n      <!-- 17 -->\n      <g transform=\"translate(502.384063 217.272188)scale(0.1 -0.1)\">\n       <defs>\n        <path id=\"MalgunGothic-37\" d=\"M 3213 4297 \nQ 2478 3006 2064 1918 \nQ 1650 831 1550 0 \nL 1009 0 \nQ 1084 531 1290 1176 \nQ 1497 1822 1815 2537 \nQ 2134 3253 2631 4147 \nL 291 4147 \nL 291 4600 \nL 3213 4600 \nL 3213 4297 \nz\n\" transform=\"scale(0.015625)\"/>\n       </defs>\n       <use xlink:href=\"#MalgunGothic-31\"/>\n       <use xlink:href=\"#MalgunGothic-37\" x=\"55.078125\"/>\n      </g>\n     </g>\n    </g>\n    <g id=\"xtick_9\">\n     <g id=\"line2d_9\">\n      <g>\n       <use xlink:href=\"#m1e1b3f74c7\" x=\"574.851875\" y=\"202.68\" style=\"stroke: #000000; stroke-width: 0.8\"/>\n      </g>\n     </g>\n     <g id=\"text_9\">\n      <!-- 18 -->\n      <g transform=\"translate(569.344063 217.272188)scale(0.1 -0.1)\">\n       <defs>\n        <path id=\"MalgunGothic-38\" d=\"M 303 1281 \nQ 303 1669 539 2011 \nQ 775 2353 1153 2494 \nQ 856 2647 675 2915 \nQ 494 3184 494 3500 \nQ 494 3828 659 4098 \nQ 825 4369 1122 4522 \nQ 1419 4675 1778 4675 \nQ 2334 4675 2700 4342 \nQ 3066 4009 3066 3500 \nQ 3066 3181 2881 2914 \nQ 2697 2647 2413 2494 \nQ 2788 2350 3022 2009 \nQ 3256 1669 3256 1281 \nQ 3256 672 2843 297 \nQ 2431 -78 1778 -78 \nQ 1131 -78 717 301 \nQ 303 681 303 1281 \nz\nM 809 1328 \nQ 809 878 1081 611 \nQ 1353 344 1781 344 \nQ 2206 344 2482 619 \nQ 2759 894 2759 1328 \nQ 2759 1731 2482 2011 \nQ 2206 2291 1781 2291 \nQ 1372 2291 1090 2020 \nQ 809 1750 809 1328 \nz\nM 1003 3459 \nQ 1003 3125 1234 2900 \nQ 1466 2675 1781 2675 \nQ 2097 2675 2330 2900 \nQ 2563 3125 2563 3459 \nQ 2563 3803 2341 4026 \nQ 2119 4250 1781 4250 \nQ 1450 4250 1226 4029 \nQ 1003 3809 1003 3459 \nz\n\" transform=\"scale(0.015625)\"/>\n       </defs>\n       <use xlink:href=\"#MalgunGothic-31\"/>\n       <use xlink:href=\"#MalgunGothic-38\" x=\"55.078125\"/>\n      </g>\n     </g>\n    </g>\n    <g id=\"xtick_10\">\n     <g id=\"line2d_10\">\n      <g>\n       <use xlink:href=\"#m1e1b3f74c7\" x=\"641.811875\" y=\"202.68\" style=\"stroke: #000000; stroke-width: 0.8\"/>\n      </g>\n     </g>\n     <g id=\"text_10\">\n      <!-- 19 -->\n      <g transform=\"translate(636.304063 217.272188)scale(0.1 -0.1)\">\n       <defs>\n        <path id=\"MalgunGothic-39\" d=\"M 556 563 \nQ 941 344 1366 344 \nQ 1994 344 2347 855 \nQ 2700 1366 2700 2313 \nQ 2694 2306 2688 2313 \nQ 2388 1713 1653 1713 \nQ 1059 1713 682 2120 \nQ 306 2528 306 3144 \nQ 306 3806 711 4240 \nQ 1116 4675 1772 4675 \nQ 2466 4675 2833 4131 \nQ 3200 3588 3200 2578 \nQ 3200 1319 2717 620 \nQ 2234 -78 1344 -78 \nQ 881 -78 556 78 \nL 556 563 \nz\nM 813 3219 \nQ 813 2741 1063 2450 \nQ 1313 2159 1759 2159 \nQ 2147 2159 2406 2417 \nQ 2666 2675 2666 3047 \nQ 2666 3556 2411 3903 \nQ 2156 4250 1725 4250 \nQ 1322 4250 1067 3948 \nQ 813 3647 813 3219 \nz\n\" transform=\"scale(0.015625)\"/>\n       </defs>\n       <use xlink:href=\"#MalgunGothic-31\"/>\n       <use xlink:href=\"#MalgunGothic-39\" x=\"55.078125\"/>\n      </g>\n     </g>\n    </g>\n    <g id=\"xtick_11\">\n     <g id=\"line2d_11\">\n      <g>\n       <use xlink:href=\"#m1e1b3f74c7\" x=\"708.771875\" y=\"202.68\" style=\"stroke: #000000; stroke-width: 0.8\"/>\n      </g>\n     </g>\n     <g id=\"text_11\">\n      <!-- 20 -->\n      <g transform=\"translate(703.264063 217.272188)scale(0.1 -0.1)\">\n       <use xlink:href=\"#MalgunGothic-32\"/>\n       <use xlink:href=\"#MalgunGothic-30\" x=\"55.078125\"/>\n      </g>\n     </g>\n    </g>\n   </g>\n   <g id=\"matplotlib.axis_2\">\n    <g id=\"ytick_1\">\n     <g id=\"line2d_12\">\n      <defs>\n       <path id=\"m24157a326b\" d=\"M 0 0 \nL -3.5 0 \n\" style=\"stroke: #000000; stroke-width: 0.8\"/>\n      </defs>\n      <g>\n       <use xlink:href=\"#m24157a326b\" x=\"39.171875\" y=\"195.267273\" style=\"stroke: #000000; stroke-width: 0.8\"/>\n      </g>\n     </g>\n     <g id=\"text_12\">\n      <!-- 2 -->\n      <g transform=\"translate(26.664062 199.063366)scale(0.1 -0.1)\">\n       <use xlink:href=\"#MalgunGothic-32\"/>\n      </g>\n     </g>\n    </g>\n    <g id=\"ytick_2\">\n     <g id=\"line2d_13\">\n      <g>\n       <use xlink:href=\"#m24157a326b\" x=\"39.171875\" y=\"158.203636\" style=\"stroke: #000000; stroke-width: 0.8\"/>\n      </g>\n     </g>\n     <g id=\"text_13\">\n      <!-- 4 -->\n      <g transform=\"translate(26.664062 161.99973)scale(0.1 -0.1)\">\n       <use xlink:href=\"#MalgunGothic-34\"/>\n      </g>\n     </g>\n    </g>\n    <g id=\"ytick_3\">\n     <g id=\"line2d_14\">\n      <g>\n       <use xlink:href=\"#m24157a326b\" x=\"39.171875\" y=\"121.14\" style=\"stroke: #000000; stroke-width: 0.8\"/>\n      </g>\n     </g>\n     <g id=\"text_14\">\n      <!-- 6 -->\n      <g transform=\"translate(26.664062 124.936094)scale(0.1 -0.1)\">\n       <use xlink:href=\"#MalgunGothic-36\"/>\n      </g>\n     </g>\n    </g>\n    <g id=\"ytick_4\">\n     <g id=\"line2d_15\">\n      <g>\n       <use xlink:href=\"#m24157a326b\" x=\"39.171875\" y=\"84.076364\" style=\"stroke: #000000; stroke-width: 0.8\"/>\n      </g>\n     </g>\n     <g id=\"text_15\">\n      <!-- 8 -->\n      <g transform=\"translate(26.664062 87.872457)scale(0.1 -0.1)\">\n       <use xlink:href=\"#MalgunGothic-38\"/>\n      </g>\n     </g>\n    </g>\n    <g id=\"ytick_5\">\n     <g id=\"line2d_16\">\n      <g>\n       <use xlink:href=\"#m24157a326b\" x=\"39.171875\" y=\"47.012727\" style=\"stroke: #000000; stroke-width: 0.8\"/>\n      </g>\n     </g>\n     <g id=\"text_16\">\n      <!-- 10 -->\n      <g transform=\"translate(21.15625 50.808821)scale(0.1 -0.1)\">\n       <use xlink:href=\"#MalgunGothic-31\"/>\n       <use xlink:href=\"#MalgunGothic-30\" x=\"55.078125\"/>\n      </g>\n     </g>\n    </g>\n    <g id=\"text_17\">\n     <!-- Y axis -->\n     <g transform=\"translate(14.792188 134.035313)rotate(-90)scale(0.1 -0.1)\">\n      <defs>\n       <path id=\"MalgunGothic-59\" d=\"M 3566 4600 \nL 2050 1700 \nL 2050 0 \nL 1541 0 \nL 1541 1694 \nL 59 4600 \nL 638 4600 \nL 1684 2497 \nQ 1703 2459 1797 2222 \nL 1806 2222 \nQ 1838 2322 1931 2497 \nL 3028 4600 \nL 3566 4600 \nz\n\" transform=\"scale(0.015625)\"/>\n       <path id=\"MalgunGothic-20\" transform=\"scale(0.015625)\"/>\n       <path id=\"MalgunGothic-61\" d=\"M 616 3050 \nQ 1097 3359 1722 3359 \nQ 2866 3359 2866 2147 \nL 2866 0 \nL 2369 0 \nL 2369 516 \nL 2350 516 \nQ 2009 -78 1341 -78 \nQ 859 -78 576 180 \nQ 294 438 294 869 \nQ 294 1784 1375 1934 \nL 2366 2078 \nQ 2366 2934 1684 2934 \nQ 1084 2934 616 2525 \nL 616 3050 \nz\nM 1563 1559 \nQ 1178 1509 993 1371 \nQ 809 1234 809 903 \nQ 809 653 986 500 \nQ 1163 347 1450 347 \nQ 1847 347 2106 628 \nQ 2366 909 2366 1334 \nL 2366 1666 \nL 1563 1559 \nz\n\" transform=\"scale(0.015625)\"/>\n       <path id=\"MalgunGothic-78\" d=\"M 2884 3284 \nL 1784 1616 \nL 2869 0 \nL 2288 0 \nL 1634 1078 \nQ 1563 1197 1491 1325 \nL 1475 1325 \nQ 1456 1284 1328 1078 \nL 656 0 \nL 88 0 \nL 1209 1606 \nL 134 3284 \nL 713 3284 \nL 1494 1897 \nL 1506 1897 \nQ 1525 1925 1641 2119 \nL 2344 3284 \nL 2884 3284 \nz\n\" transform=\"scale(0.015625)\"/>\n       <path id=\"MalgunGothic-69\" d=\"M 472 4466 \nQ 472 4606 565 4701 \nQ 659 4797 794 4797 \nQ 934 4797 1029 4700 \nQ 1125 4603 1125 4466 \nQ 1125 4325 1029 4231 \nQ 934 4138 794 4138 \nQ 659 4138 565 4230 \nQ 472 4322 472 4466 \nz\nM 541 0 \nL 541 3284 \nL 1034 3284 \nL 1034 0 \nL 541 0 \nz\n\" transform=\"scale(0.015625)\"/>\n       <path id=\"MalgunGothic-73\" d=\"M 331 669 \nQ 763 350 1278 350 \nQ 1978 350 1978 822 \nQ 1978 1025 1825 1158 \nQ 1672 1291 1222 1459 \nQ 703 1666 520 1878 \nQ 338 2091 338 2416 \nQ 338 2834 700 3096 \nQ 1063 3359 1584 3359 \nQ 2003 3359 2341 3213 \nL 2341 2697 \nQ 1975 2934 1506 2934 \nQ 1200 2934 1025 2798 \nQ 850 2663 850 2459 \nQ 850 2241 979 2125 \nQ 1109 2009 1544 1838 \nQ 2131 1609 2309 1390 \nQ 2488 1172 2488 869 \nQ 2488 431 2127 176 \nQ 1766 -78 1203 -78 \nQ 694 -78 331 122 \nL 331 669 \nz\n\" transform=\"scale(0.015625)\"/>\n      </defs>\n      <use xlink:href=\"#MalgunGothic-59\"/>\n      <use xlink:href=\"#MalgunGothic-20\" x=\"56.347656\"/>\n      <use xlink:href=\"#MalgunGothic-61\" x=\"91.503906\"/>\n      <use xlink:href=\"#MalgunGothic-78\" x=\"143.505859\"/>\n      <use xlink:href=\"#MalgunGothic-69\" x=\"189.990234\"/>\n      <use xlink:href=\"#MalgunGothic-73\" x=\"214.599609\"/>\n     </g>\n    </g>\n   </g>\n   <g id=\"line2d_17\">\n    <path d=\"M -1 91.490233 \nL 373.971875 195.267273 \nL 507.891875 139.671818 \n\" clip-path=\"url(#pa382dc49ea)\" style=\"fill: none; stroke: #1f77b4; stroke-width: 1.5; stroke-linecap: square\"/>\n   </g>\n   <g id=\"patch_3\">\n    <path d=\"M 39.171875 202.68 \nL 39.171875 39.6 \n\" style=\"fill: none; stroke: #000000; stroke-width: 0.8; stroke-linejoin: miter; stroke-linecap: square\"/>\n   </g>\n   <g id=\"patch_4\">\n    <path d=\"M 708.771875 202.68 \nL 708.771875 39.6 \n\" style=\"fill: none; stroke: #000000; stroke-width: 0.8; stroke-linejoin: miter; stroke-linecap: square\"/>\n   </g>\n   <g id=\"patch_5\">\n    <path d=\"M 39.171875 202.68 \nL 708.771875 202.68 \n\" style=\"fill: none; stroke: #000000; stroke-width: 0.8; stroke-linejoin: miter; stroke-linecap: square\"/>\n   </g>\n   <g id=\"patch_6\">\n    <path d=\"M 39.171875 39.6 \nL 708.771875 39.6 \n\" style=\"fill: none; stroke: #000000; stroke-width: 0.8; stroke-linejoin: miter; stroke-linecap: square\"/>\n   </g>\n   <g id=\"text_18\">\n    <!-- Line Plot -->\n    <g transform=\"translate(350.2625 33.6)scale(0.12 -0.12)\">\n     <defs>\n      <path id=\"MalgunGothic-4c\" d=\"M 2972 0 \nL 609 0 \nL 609 4600 \nL 1113 4600 \nL 1113 463 \nL 2972 463 \nL 2972 0 \nz\n\" transform=\"scale(0.015625)\"/>\n      <path id=\"MalgunGothic-6e\" d=\"M 3238 0 \nL 2741 0 \nL 2741 1875 \nQ 2741 2941 1963 2941 \nQ 1563 2941 1298 2639 \nQ 1034 2338 1034 1872 \nL 1034 0 \nL 538 0 \nL 538 3284 \nL 1034 3284 \nL 1034 2734 \nL 1047 2734 \nQ 1416 3359 2125 3359 \nQ 2666 3359 2952 3012 \nQ 3238 2666 3238 2006 \nL 3238 0 \nz\n\" transform=\"scale(0.015625)\"/>\n      <path id=\"MalgunGothic-65\" d=\"M 3156 1519 \nL 828 1519 \nQ 844 950 1133 648 \nQ 1422 347 1909 347 \nQ 2472 347 2934 719 \nL 2934 244 \nQ 2494 -78 1794 -78 \nQ 1100 -78 708 376 \nQ 316 831 316 1634 \nQ 316 2381 747 2870 \nQ 1178 3359 1816 3359 \nQ 2453 3359 2804 2942 \nQ 3156 2525 3156 1788 \nL 3156 1519 \nz\nM 2644 1956 \nQ 2644 2416 2423 2675 \nQ 2203 2934 1809 2934 \nQ 1438 2934 1169 2667 \nQ 900 2400 834 1956 \nL 2644 1956 \nz\n\" transform=\"scale(0.015625)\"/>\n      <path id=\"MalgunGothic-50\" d=\"M 1113 1747 \nL 1113 0 \nL 609 0 \nL 609 4600 \nL 1850 4600 \nQ 2575 4600 2979 4240 \nQ 3384 3881 3384 3231 \nQ 3384 2559 2909 2140 \nQ 2434 1722 1728 1747 \nL 1113 1747 \nz\nM 1113 4131 \nL 1113 2219 \nL 1691 2219 \nQ 2256 2219 2554 2475 \nQ 2853 2731 2853 3206 \nQ 2853 4131 1759 4131 \nL 1113 4131 \nz\n\" transform=\"scale(0.015625)\"/>\n      <path id=\"MalgunGothic-6c\" d=\"M 541 0 \nL 541 4859 \nL 1034 4859 \nL 1034 0 \nL 541 0 \nz\n\" transform=\"scale(0.015625)\"/>\n      <path id=\"MalgunGothic-6f\" d=\"M 316 1600 \nQ 316 2419 761 2889 \nQ 1206 3359 1978 3359 \nQ 2697 3359 3111 2907 \nQ 3525 2456 3525 1650 \nQ 3525 869 3078 395 \nQ 2631 -78 1900 -78 \nQ 1184 -78 750 384 \nQ 316 847 316 1600 \nz\nM 819 1622 \nQ 819 1041 1123 692 \nQ 1428 344 1934 344 \nQ 2459 344 2739 680 \nQ 3019 1016 3019 1634 \nQ 3019 2256 2737 2598 \nQ 2456 2941 1934 2941 \nQ 1425 2941 1122 2587 \nQ 819 2234 819 1622 \nz\n\" transform=\"scale(0.015625)\"/>\n      <path id=\"MalgunGothic-74\" d=\"M 2031 31 \nQ 1844 -72 1553 -72 \nQ 706 -72 706 881 \nL 706 2856 \nL 138 2856 \nL 138 3284 \nL 706 3284 \nL 706 4091 \nL 1200 4250 \nL 1200 3284 \nL 2031 3284 \nL 2031 2856 \nL 1200 2856 \nL 1200 972 \nQ 1200 625 1315 487 \nQ 1431 350 1691 350 \nQ 1888 350 2031 459 \nL 2031 31 \nz\n\" transform=\"scale(0.015625)\"/>\n     </defs>\n     <use xlink:href=\"#MalgunGothic-4c\"/>\n     <use xlink:href=\"#MalgunGothic-69\" x=\"47.998047\"/>\n     <use xlink:href=\"#MalgunGothic-6e\" x=\"72.607422\"/>\n     <use xlink:href=\"#MalgunGothic-65\" x=\"130.419922\"/>\n     <use xlink:href=\"#MalgunGothic-20\" x=\"183.935547\"/>\n     <use xlink:href=\"#MalgunGothic-50\" x=\"219.091797\"/>\n     <use xlink:href=\"#MalgunGothic-6c\" x=\"276.171875\"/>\n     <use xlink:href=\"#MalgunGothic-6f\" x=\"300.78125\"/>\n     <use xlink:href=\"#MalgunGothic-74\" x=\"360.693359\"/>\n    </g>\n   </g>\n  </g>\n  <g id=\"text_19\">\n   <!-- Figure Title -->\n   <g transform=\"translate(332.82875 16.310625)scale(0.12 -0.12)\">\n    <defs>\n     <path id=\"MalgunGothic-46\" d=\"M 2922 4134 \nL 1113 4134 \nL 1113 2516 \nL 2788 2516 \nL 2788 2050 \nL 1113 2050 \nL 1113 0 \nL 609 0 \nL 609 4600 \nL 2922 4600 \nL 2922 4134 \nz\n\" transform=\"scale(0.015625)\"/>\n     <path id=\"MalgunGothic-67\" d=\"M 3313 259 \nQ 3313 -1547 1603 -1547 \nQ 1003 -1547 538 -1313 \nL 538 -806 \nQ 1088 -1116 1600 -1116 \nQ 2822 -1116 2822 194 \nL 2822 559 \nL 2809 559 \nQ 2422 -78 1675 -78 \nQ 1066 -78 691 362 \nQ 316 803 316 1534 \nQ 316 2375 722 2867 \nQ 1128 3359 1816 3359 \nQ 2484 3359 2809 2822 \nL 2822 2822 \nL 2822 3284 \nL 3313 3284 \nL 3313 259 \nz\nM 2822 1978 \nQ 2822 2378 2547 2659 \nQ 2272 2941 1878 2941 \nQ 1384 2941 1101 2577 \nQ 819 2213 819 1572 \nQ 819 1016 1092 680 \nQ 1366 344 1803 344 \nQ 2247 344 2534 666 \nQ 2822 988 2822 1478 \nL 2822 1978 \nz\n\" transform=\"scale(0.015625)\"/>\n     <path id=\"MalgunGothic-75\" d=\"M 3166 0 \nL 2669 0 \nL 2669 519 \nL 2656 519 \nQ 2331 -78 1644 -78 \nQ 469 -78 469 1322 \nL 469 3284 \nL 959 3284 \nL 959 1403 \nQ 959 344 1766 344 \nQ 2159 344 2414 636 \nQ 2669 928 2669 1394 \nL 2669 3284 \nL 3166 3284 \nL 3166 0 \nz\n\" transform=\"scale(0.015625)\"/>\n     <path id=\"MalgunGothic-72\" d=\"M 2225 2775 \nQ 2084 2881 1828 2881 \nQ 1491 2881 1262 2553 \nQ 1034 2225 1034 1681 \nL 1034 0 \nL 538 0 \nL 538 3284 \nL 1034 3284 \nL 1034 2603 \nL 1047 2603 \nQ 1159 2950 1389 3145 \nQ 1619 3341 1903 3341 \nQ 2109 3341 2225 3297 \nL 2225 2775 \nz\n\" transform=\"scale(0.015625)\"/>\n     <path id=\"MalgunGothic-54\" d=\"M 3294 4134 \nL 1966 4134 \nL 1966 0 \nL 1456 0 \nL 1456 4134 \nL 134 4134 \nL 134 4600 \nL 3294 4600 \nL 3294 4134 \nz\n\" transform=\"scale(0.015625)\"/>\n    </defs>\n    <use xlink:href=\"#MalgunGothic-46\"/>\n    <use xlink:href=\"#MalgunGothic-69\" x=\"49.853516\"/>\n    <use xlink:href=\"#MalgunGothic-67\" x=\"74.462891\"/>\n    <use xlink:href=\"#MalgunGothic-75\" x=\"134.667969\"/>\n    <use xlink:href=\"#MalgunGothic-72\" x=\"192.480469\"/>\n    <use xlink:href=\"#MalgunGothic-65\" x=\"226.457031\"/>\n    <use xlink:href=\"#MalgunGothic-20\" x=\"279.972656\"/>\n    <use xlink:href=\"#MalgunGothic-54\" x=\"315.128906\"/>\n    <use xlink:href=\"#MalgunGothic-69\" x=\"368.498047\"/>\n    <use xlink:href=\"#MalgunGothic-74\" x=\"393.107422\"/>\n    <use xlink:href=\"#MalgunGothic-6c\" x=\"427.580078\"/>\n    <use xlink:href=\"#MalgunGothic-65\" x=\"452.189453\"/>\n   </g>\n  </g>\n </g>\n <defs>\n  <clipPath id=\"pa382dc49ea\">\n   <rect x=\"39.171875\" y=\"39.6\" width=\"669.6\" height=\"163.08\"/>\n  </clipPath>\n </defs>\n</svg>\n",
      "text/plain": [
       "<Figure size 864x216 with 1 Axes>"
      ]
     },
     "metadata": {
      "needs_background": "light"
     },
     "output_type": "display_data"
    }
   ],
   "source": [
    "x = [-3, 5, 7]\n",
    "y = [10, 2, 5]\n",
    "fig, ax = plt.subplots(figsize=(12, 3))\n",
    "ax.plot(x, y)\n",
    "ax.set_xlim(0, 10)\n",
    "ax.set_ylabel('Y axis')\n",
    "ax.set_title('Line Plot')\n",
    "fig.suptitle('Figure Title', y=1.03)\n",
    "ax.set_xticks(range(0, 11), labels=range(10, 21))\n",
    "plt.show()"
   ]
  },
  {
   "cell_type": "code",
   "execution_count": 11,
   "metadata": {},
   "outputs": [
    {
     "data": {
      "text/html": [
       "<div>\n",
       "<style scoped>\n",
       "    .dataframe tbody tr th:only-of-type {\n",
       "        vertical-align: middle;\n",
       "    }\n",
       "\n",
       "    .dataframe tbody tr th {\n",
       "        vertical-align: top;\n",
       "    }\n",
       "\n",
       "    .dataframe thead th {\n",
       "        text-align: right;\n",
       "    }\n",
       "</style>\n",
       "<table border=\"1\" class=\"dataframe\">\n",
       "  <thead>\n",
       "    <tr style=\"text-align: right;\">\n",
       "      <th></th>\n",
       "      <th>STATION</th>\n",
       "      <th>NAME</th>\n",
       "      <th>LATITUDE</th>\n",
       "      <th>LONGITUDE</th>\n",
       "      <th>ELEVATION</th>\n",
       "      <th>DAPR</th>\n",
       "      <th>DASF</th>\n",
       "      <th>MDPR</th>\n",
       "      <th>MDSF</th>\n",
       "      <th>PRCP</th>\n",
       "      <th>...</th>\n",
       "      <th>SNWD</th>\n",
       "      <th>TMAX</th>\n",
       "      <th>TMIN</th>\n",
       "      <th>TOBS</th>\n",
       "      <th>WT01</th>\n",
       "      <th>WT03</th>\n",
       "      <th>WT04</th>\n",
       "      <th>WT05</th>\n",
       "      <th>WT06</th>\n",
       "      <th>WT11</th>\n",
       "    </tr>\n",
       "    <tr>\n",
       "      <th>DATE</th>\n",
       "      <th></th>\n",
       "      <th></th>\n",
       "      <th></th>\n",
       "      <th></th>\n",
       "      <th></th>\n",
       "      <th></th>\n",
       "      <th></th>\n",
       "      <th></th>\n",
       "      <th></th>\n",
       "      <th></th>\n",
       "      <th></th>\n",
       "      <th></th>\n",
       "      <th></th>\n",
       "      <th></th>\n",
       "      <th></th>\n",
       "      <th></th>\n",
       "      <th></th>\n",
       "      <th></th>\n",
       "      <th></th>\n",
       "      <th></th>\n",
       "      <th></th>\n",
       "    </tr>\n",
       "  </thead>\n",
       "  <tbody>\n",
       "    <tr>\n",
       "      <th>1980-01-01</th>\n",
       "      <td>USC00420072</td>\n",
       "      <td>ALTA, UT US</td>\n",
       "      <td>40.5905</td>\n",
       "      <td>-111.6369</td>\n",
       "      <td>2660.9</td>\n",
       "      <td>NaN</td>\n",
       "      <td>NaN</td>\n",
       "      <td>NaN</td>\n",
       "      <td>NaN</td>\n",
       "      <td>0.10</td>\n",
       "      <td>...</td>\n",
       "      <td>29.0</td>\n",
       "      <td>38.0</td>\n",
       "      <td>25.0</td>\n",
       "      <td>25.0</td>\n",
       "      <td>NaN</td>\n",
       "      <td>NaN</td>\n",
       "      <td>NaN</td>\n",
       "      <td>NaN</td>\n",
       "      <td>NaN</td>\n",
       "      <td>NaN</td>\n",
       "    </tr>\n",
       "    <tr>\n",
       "      <th>1980-01-02</th>\n",
       "      <td>USC00420072</td>\n",
       "      <td>ALTA, UT US</td>\n",
       "      <td>40.5905</td>\n",
       "      <td>-111.6369</td>\n",
       "      <td>2660.9</td>\n",
       "      <td>NaN</td>\n",
       "      <td>NaN</td>\n",
       "      <td>NaN</td>\n",
       "      <td>NaN</td>\n",
       "      <td>0.43</td>\n",
       "      <td>...</td>\n",
       "      <td>34.0</td>\n",
       "      <td>27.0</td>\n",
       "      <td>18.0</td>\n",
       "      <td>18.0</td>\n",
       "      <td>NaN</td>\n",
       "      <td>NaN</td>\n",
       "      <td>NaN</td>\n",
       "      <td>NaN</td>\n",
       "      <td>NaN</td>\n",
       "      <td>NaN</td>\n",
       "    </tr>\n",
       "    <tr>\n",
       "      <th>1980-01-03</th>\n",
       "      <td>USC00420072</td>\n",
       "      <td>ALTA, UT US</td>\n",
       "      <td>40.5905</td>\n",
       "      <td>-111.6369</td>\n",
       "      <td>2660.9</td>\n",
       "      <td>NaN</td>\n",
       "      <td>NaN</td>\n",
       "      <td>NaN</td>\n",
       "      <td>NaN</td>\n",
       "      <td>0.09</td>\n",
       "      <td>...</td>\n",
       "      <td>30.0</td>\n",
       "      <td>27.0</td>\n",
       "      <td>12.0</td>\n",
       "      <td>18.0</td>\n",
       "      <td>NaN</td>\n",
       "      <td>NaN</td>\n",
       "      <td>NaN</td>\n",
       "      <td>NaN</td>\n",
       "      <td>NaN</td>\n",
       "      <td>NaN</td>\n",
       "    </tr>\n",
       "    <tr>\n",
       "      <th>1980-01-04</th>\n",
       "      <td>USC00420072</td>\n",
       "      <td>ALTA, UT US</td>\n",
       "      <td>40.5905</td>\n",
       "      <td>-111.6369</td>\n",
       "      <td>2660.9</td>\n",
       "      <td>NaN</td>\n",
       "      <td>NaN</td>\n",
       "      <td>NaN</td>\n",
       "      <td>NaN</td>\n",
       "      <td>0.00</td>\n",
       "      <td>...</td>\n",
       "      <td>30.0</td>\n",
       "      <td>31.0</td>\n",
       "      <td>18.0</td>\n",
       "      <td>27.0</td>\n",
       "      <td>NaN</td>\n",
       "      <td>NaN</td>\n",
       "      <td>NaN</td>\n",
       "      <td>NaN</td>\n",
       "      <td>NaN</td>\n",
       "      <td>NaN</td>\n",
       "    </tr>\n",
       "    <tr>\n",
       "      <th>1980-01-05</th>\n",
       "      <td>USC00420072</td>\n",
       "      <td>ALTA, UT US</td>\n",
       "      <td>40.5905</td>\n",
       "      <td>-111.6369</td>\n",
       "      <td>2660.9</td>\n",
       "      <td>NaN</td>\n",
       "      <td>NaN</td>\n",
       "      <td>NaN</td>\n",
       "      <td>NaN</td>\n",
       "      <td>0.00</td>\n",
       "      <td>...</td>\n",
       "      <td>30.0</td>\n",
       "      <td>34.0</td>\n",
       "      <td>26.0</td>\n",
       "      <td>34.0</td>\n",
       "      <td>NaN</td>\n",
       "      <td>NaN</td>\n",
       "      <td>NaN</td>\n",
       "      <td>NaN</td>\n",
       "      <td>NaN</td>\n",
       "      <td>NaN</td>\n",
       "    </tr>\n",
       "  </tbody>\n",
       "</table>\n",
       "<p>5 rows × 21 columns</p>\n",
       "</div>"
      ],
      "text/plain": [
       "                STATION         NAME  LATITUDE  LONGITUDE  ELEVATION  DAPR  \\\n",
       "DATE                                                                         \n",
       "1980-01-01  USC00420072  ALTA, UT US   40.5905  -111.6369     2660.9   NaN   \n",
       "1980-01-02  USC00420072  ALTA, UT US   40.5905  -111.6369     2660.9   NaN   \n",
       "1980-01-03  USC00420072  ALTA, UT US   40.5905  -111.6369     2660.9   NaN   \n",
       "1980-01-04  USC00420072  ALTA, UT US   40.5905  -111.6369     2660.9   NaN   \n",
       "1980-01-05  USC00420072  ALTA, UT US   40.5905  -111.6369     2660.9   NaN   \n",
       "\n",
       "            DASF  MDPR  MDSF  PRCP  ...  SNWD  TMAX  TMIN  TOBS  WT01  WT03  \\\n",
       "DATE                                ...                                       \n",
       "1980-01-01   NaN   NaN   NaN  0.10  ...  29.0  38.0  25.0  25.0   NaN   NaN   \n",
       "1980-01-02   NaN   NaN   NaN  0.43  ...  34.0  27.0  18.0  18.0   NaN   NaN   \n",
       "1980-01-03   NaN   NaN   NaN  0.09  ...  30.0  27.0  12.0  18.0   NaN   NaN   \n",
       "1980-01-04   NaN   NaN   NaN  0.00  ...  30.0  31.0  18.0  27.0   NaN   NaN   \n",
       "1980-01-05   NaN   NaN   NaN  0.00  ...  30.0  34.0  26.0  34.0   NaN   NaN   \n",
       "\n",
       "            WT04  WT05  WT06  WT11  \n",
       "DATE                                \n",
       "1980-01-01   NaN   NaN   NaN   NaN  \n",
       "1980-01-02   NaN   NaN   NaN   NaN  \n",
       "1980-01-03   NaN   NaN   NaN   NaN  \n",
       "1980-01-04   NaN   NaN   NaN   NaN  \n",
       "1980-01-05   NaN   NaN   NaN   NaN  \n",
       "\n",
       "[5 rows x 21 columns]"
      ]
     },
     "execution_count": 11,
     "metadata": {},
     "output_type": "execute_result"
    }
   ],
   "source": [
    "p1 = Path.cwd() / 'back_data'\n",
    "alta = pd.read_csv(p1 / 'alta-noaa-1980-2019.csv', parse_dates=['DATE'], index_col='DATE')\n",
    "alta.head()"
   ]
  },
  {
   "cell_type": "code",
   "execution_count": 12,
   "metadata": {},
   "outputs": [
    {
     "data": {
      "text/plain": [
       "DATE\n",
       "2018-09-01    0.0\n",
       "2018-09-02    0.0\n",
       "2018-09-03    0.0\n",
       "2018-09-04    0.0\n",
       "2018-09-05    0.0\n",
       "Name: SNWD, dtype: float64"
      ]
     },
     "execution_count": 12,
     "metadata": {},
     "output_type": "execute_result"
    }
   ],
   "source": [
    "data = (alta\n",
    "        .sort_index()\n",
    "        .loc['2018-09':'2019-08', 'SNWD']\n",
    ")\n",
    "data.head()"
   ]
  },
  {
   "cell_type": "code",
   "execution_count": 21,
   "metadata": {},
   "outputs": [
    {
     "data": {
      "text/plain": [
       "<matplotlib.collections.PolyCollection at 0x1b454387b20>"
      ]
     },
     "execution_count": 21,
     "metadata": {},
     "output_type": "execute_result"
    },
    {
     "data": {
      "image/svg+xml": "<?xml version=\"1.0\" encoding=\"utf-8\" standalone=\"no\"?>\n<!DOCTYPE svg PUBLIC \"-//W3C//DTD SVG 1.1//EN\"\n  \"http://www.w3.org/Graphics/SVG/1.1/DTD/svg11.dtd\">\n<svg xmlns:xlink=\"http://www.w3.org/1999/xlink\" width=\"721.479687pt\" height=\"194.43625pt\" viewBox=\"0 0 721.479687 194.43625\" xmlns=\"http://www.w3.org/2000/svg\" version=\"1.1\">\n <metadata>\n  <rdf:RDF xmlns:dc=\"http://purl.org/dc/elements/1.1/\" xmlns:cc=\"http://creativecommons.org/ns#\" xmlns:rdf=\"http://www.w3.org/1999/02/22-rdf-syntax-ns#\">\n   <cc:Work>\n    <dc:type rdf:resource=\"http://purl.org/dc/dcmitype/StillImage\"/>\n    <dc:date>2023-03-01T13:39:52.694459</dc:date>\n    <dc:format>image/svg+xml</dc:format>\n    <dc:creator>\n     <cc:Agent>\n      <dc:title>Matplotlib v3.5.1, https://matplotlib.org/</dc:title>\n     </cc:Agent>\n    </dc:creator>\n   </cc:Work>\n  </rdf:RDF>\n </metadata>\n <defs>\n  <style type=\"text/css\">*{stroke-linejoin: round; stroke-linecap: butt}</style>\n </defs>\n <g id=\"figure_1\">\n  <g id=\"patch_1\">\n   <path d=\"M -0 194.43625 \nL 721.479687 194.43625 \nL 721.479687 0 \nL -0 0 \nz\n\" style=\"fill: #99ddee\"/>\n  </g>\n  <g id=\"axes_1\">\n   <g id=\"patch_2\">\n    <path d=\"M 44.679688 170.28 \nL 714.279688 170.28 \nL 714.279688 7.2 \nL 44.679688 7.2 \nz\n\" style=\"fill: #99ddee\"/>\n   </g>\n   <g id=\"PolyCollection_1\">\n    <path d=\"M 75.116051 162.867273 \nL 75.116051 162.867273 \nL 76.788379 162.867273 \nL 78.460706 162.867273 \nL 80.133034 162.867273 \nL 81.805362 162.867273 \nL 83.477689 162.867273 \nL 85.150017 162.867273 \nL 86.822345 162.867273 \nL 88.494673 162.867273 \nL 90.167 162.867273 \nL 91.839328 162.867273 \nL 93.511656 162.867273 \nL 95.183983 162.867273 \nL 96.856311 162.867273 \nL 98.528639 162.867273 \nL 100.200966 162.867273 \nL 101.873294 162.867273 \nL 103.545622 162.867273 \nL 105.217949 162.867273 \nL 106.890277 162.867273 \nL 108.562605 162.867273 \nL 110.234932 162.867273 \nL 111.90726 162.867273 \nL 113.579588 162.867273 \nL 115.251915 162.867273 \nL 116.924243 162.867273 \nL 118.596571 162.867273 \nL 120.268898 162.867273 \nL 121.941226 162.867273 \nL 123.613554 162.867273 \nL 125.285881 162.867273 \nL 126.958209 162.867273 \nL 128.630537 162.867273 \nL 130.302864 162.867273 \nL 131.975192 162.867273 \nL 133.64752 162.867273 \nL 135.319847 162.867273 \nL 136.992175 162.867273 \nL 138.664503 162.867273 \nL 140.33683 146.146835 \nL 142.009158 148.376227 \nL 143.681486 152.83501 \nL 145.353813 153.949706 \nL 147.026141 152.83501 \nL 148.698469 155.064402 \nL 150.370796 157.293794 \nL 152.043124 158.408489 \nL 153.715452 158.408489 \nL 155.387779 162.867273 \nL 157.060107 162.867273 \nL 158.732435 162.867273 \nL 160.404762 162.867273 \nL 162.07709 162.867273 \nL 163.749418 162.867273 \nL 165.421745 162.867273 \nL 167.094073 162.867273 \nL 168.766401 162.867273 \nL 170.438728 162.867273 \nL 172.111056 162.867273 \nL 173.783384 162.867273 \nL 175.455711 162.867273 \nL 177.128039 160.637881 \nL 178.800367 161.752577 \nL 180.472694 161.752577 \nL 182.145022 161.752577 \nL 183.81735 161.752577 \nL 185.489678 161.752577 \nL 187.162005 161.752577 \nL 188.834333 161.752577 \nL 190.506661 161.752577 \nL 192.178988 161.752577 \nL 193.851316 157.293794 \nL 195.523644 159.523185 \nL 197.195971 161.752577 \nL 198.868299 162.867273 \nL 200.540627 162.867273 \nL 202.212954 162.867273 \nL 203.885282 161.752577 \nL 205.55761 161.752577 \nL 207.229937 161.752577 \nL 208.902265 161.752577 \nL 210.574593 161.752577 \nL 212.24692 155.064402 \nL 213.919248 155.064402 \nL 215.591576 143.917444 \nL 217.263903 145.032139 \nL 218.936231 146.146835 \nL 220.608559 147.261531 \nL 222.280886 147.261531 \nL 223.953214 140.573356 \nL 225.625542 133.885181 \nL 227.297869 129.426398 \nL 228.970197 123.852919 \nL 230.642525 113.820656 \nL 232.314852 119.394135 \nL 233.98718 123.852919 \nL 235.659508 127.197006 \nL 237.331835 128.311702 \nL 239.004163 129.426398 \nL 240.676491 130.541094 \nL 242.348818 130.541094 \nL 244.021146 132.770485 \nL 245.693474 119.394135 \nL 247.365801 122.738223 \nL 249.038129 124.967614 \nL 250.710457 126.08231 \nL 252.382784 128.311702 \nL 254.055112 129.426398 \nL 255.72744 130.541094 \nL 257.399767 129.426398 \nL 259.072095 129.426398 \nL 260.744423 126.08231 \nL 262.41675 123.852919 \nL 264.089078 123.852919 \nL 265.761406 122.738223 \nL 267.433733 121.623527 \nL 269.106061 112.70596 \nL 270.778389 112.70596 \nL 272.450716 113.820656 \nL 274.123044 114.935352 \nL 275.795372 108.247177 \nL 277.467699 102.673698 \nL 279.140027 113.820656 \nL 280.812355 113.820656 \nL 282.484683 113.820656 \nL 284.15701 116.050048 \nL 285.829338 117.164744 \nL 287.501666 101.559002 \nL 289.173993 98.214915 \nL 290.846321 101.559002 \nL 292.518649 104.90309 \nL 294.190976 103.788394 \nL 295.863304 108.247177 \nL 297.535632 108.247177 \nL 299.207959 108.247177 \nL 300.880287 109.361873 \nL 302.552615 109.361873 \nL 304.224942 99.32961 \nL 305.89727 88.182652 \nL 307.569598 75.920998 \nL 309.241925 80.379781 \nL 310.914253 82.609173 \nL 312.586581 61.429952 \nL 314.258908 65.888735 \nL 315.931236 70.347519 \nL 317.603564 65.888735 \nL 319.275891 69.232823 \nL 320.948219 71.462215 \nL 322.620547 73.691606 \nL 324.292874 73.691606 \nL 325.965202 79.265085 \nL 327.63753 79.265085 \nL 329.309857 80.379781 \nL 330.982185 82.609173 \nL 332.654513 83.723869 \nL 334.32684 74.806302 \nL 335.999168 68.118127 \nL 337.671496 55.856473 \nL 339.343823 35.791948 \nL 341.016151 30.218469 \nL 342.688479 46.938906 \nL 344.360806 46.938906 \nL 346.033134 45.824211 \nL 347.705462 39.136036 \nL 349.377789 45.824211 \nL 351.050117 43.594819 \nL 352.722445 39.136036 \nL 354.394772 42.480123 \nL 356.0671 31.333165 \nL 357.739428 36.906644 \nL 359.411755 35.791948 \nL 361.084083 33.562556 \nL 362.756411 36.906644 \nL 364.428738 38.02134 \nL 366.101066 39.136036 \nL 367.773394 40.250731 \nL 369.445721 42.480123 \nL 371.118049 43.594819 \nL 372.790377 46.938906 \nL 374.462704 46.938906 \nL 376.135032 46.938906 \nL 377.80736 48.053602 \nL 379.479687 43.594819 \nL 381.152015 38.02134 \nL 382.824343 39.136036 \nL 384.496671 43.594819 \nL 386.168998 40.250731 \nL 387.841326 40.250731 \nL 389.513654 30.218469 \nL 391.185981 25.759686 \nL 392.858309 26.874381 \nL 394.530637 29.103773 \nL 396.202964 34.677252 \nL 397.875292 23.530294 \nL 399.54762 14.612727 \nL 401.219947 21.300902 \nL 402.892275 31.333165 \nL 404.564603 36.906644 \nL 406.23693 39.136036 \nL 407.909258 41.365427 \nL 409.581586 42.480123 \nL 411.253913 43.594819 \nL 412.926241 42.480123 \nL 414.598569 41.365427 \nL 416.270896 33.562556 \nL 417.943224 36.906644 \nL 419.615552 42.480123 \nL 421.287879 48.053602 \nL 422.960207 48.053602 \nL 424.632535 24.64499 \nL 426.304862 29.103773 \nL 427.97719 32.447861 \nL 429.649518 34.677252 \nL 431.321845 36.906644 \nL 432.994173 33.562556 \nL 434.666501 42.480123 \nL 436.338828 44.709515 \nL 438.011156 45.824211 \nL 439.683484 46.938906 \nL 441.355811 49.168298 \nL 443.028139 44.709515 \nL 444.700467 24.64499 \nL 446.372794 20.186206 \nL 448.045122 19.071511 \nL 449.71745 20.186206 \nL 451.389777 25.759686 \nL 453.062105 25.759686 \nL 454.734433 17.956815 \nL 456.40676 23.530294 \nL 458.079088 32.447861 \nL 459.751416 39.136036 \nL 461.423743 42.480123 \nL 463.096071 44.709515 \nL 464.768399 46.938906 \nL 466.440726 50.282994 \nL 468.113054 50.282994 \nL 469.785382 54.741777 \nL 471.457709 56.971169 \nL 473.130037 59.20056 \nL 474.802365 61.429952 \nL 476.474692 63.659344 \nL 478.14702 58.085865 \nL 479.819348 59.20056 \nL 481.491676 62.544648 \nL 483.164003 63.659344 \nL 484.836331 68.118127 \nL 486.508659 69.232823 \nL 488.180986 71.462215 \nL 489.853314 71.462215 \nL 491.525642 71.462215 \nL 493.197969 72.57691 \nL 494.870297 74.806302 \nL 496.542625 78.15039 \nL 498.214952 80.379781 \nL 499.88728 85.95326 \nL 501.559608 89.297348 \nL 501.559608 162.867273 \nL 501.559608 162.867273 \nL 499.88728 162.867273 \nL 498.214952 162.867273 \nL 496.542625 162.867273 \nL 494.870297 162.867273 \nL 493.197969 162.867273 \nL 491.525642 162.867273 \nL 489.853314 162.867273 \nL 488.180986 162.867273 \nL 486.508659 162.867273 \nL 484.836331 162.867273 \nL 483.164003 162.867273 \nL 481.491676 162.867273 \nL 479.819348 162.867273 \nL 478.14702 162.867273 \nL 476.474692 162.867273 \nL 474.802365 162.867273 \nL 473.130037 162.867273 \nL 471.457709 162.867273 \nL 469.785382 162.867273 \nL 468.113054 162.867273 \nL 466.440726 162.867273 \nL 464.768399 162.867273 \nL 463.096071 162.867273 \nL 461.423743 162.867273 \nL 459.751416 162.867273 \nL 458.079088 162.867273 \nL 456.40676 162.867273 \nL 454.734433 162.867273 \nL 453.062105 162.867273 \nL 451.389777 162.867273 \nL 449.71745 162.867273 \nL 448.045122 162.867273 \nL 446.372794 162.867273 \nL 444.700467 162.867273 \nL 443.028139 162.867273 \nL 441.355811 162.867273 \nL 439.683484 162.867273 \nL 438.011156 162.867273 \nL 436.338828 162.867273 \nL 434.666501 162.867273 \nL 432.994173 162.867273 \nL 431.321845 162.867273 \nL 429.649518 162.867273 \nL 427.97719 162.867273 \nL 426.304862 162.867273 \nL 424.632535 162.867273 \nL 422.960207 162.867273 \nL 421.287879 162.867273 \nL 419.615552 162.867273 \nL 417.943224 162.867273 \nL 416.270896 162.867273 \nL 414.598569 162.867273 \nL 412.926241 162.867273 \nL 411.253913 162.867273 \nL 409.581586 162.867273 \nL 407.909258 162.867273 \nL 406.23693 162.867273 \nL 404.564603 162.867273 \nL 402.892275 162.867273 \nL 401.219947 162.867273 \nL 399.54762 162.867273 \nL 397.875292 162.867273 \nL 396.202964 162.867273 \nL 394.530637 162.867273 \nL 392.858309 162.867273 \nL 391.185981 162.867273 \nL 389.513654 162.867273 \nL 387.841326 162.867273 \nL 386.168998 162.867273 \nL 384.496671 162.867273 \nL 382.824343 162.867273 \nL 381.152015 162.867273 \nL 379.479687 162.867273 \nL 377.80736 162.867273 \nL 376.135032 162.867273 \nL 374.462704 162.867273 \nL 372.790377 162.867273 \nL 371.118049 162.867273 \nL 369.445721 162.867273 \nL 367.773394 162.867273 \nL 366.101066 162.867273 \nL 364.428738 162.867273 \nL 362.756411 162.867273 \nL 361.084083 162.867273 \nL 359.411755 162.867273 \nL 357.739428 162.867273 \nL 356.0671 162.867273 \nL 354.394772 162.867273 \nL 352.722445 162.867273 \nL 351.050117 162.867273 \nL 349.377789 162.867273 \nL 347.705462 162.867273 \nL 346.033134 162.867273 \nL 344.360806 162.867273 \nL 342.688479 162.867273 \nL 341.016151 162.867273 \nL 339.343823 162.867273 \nL 337.671496 162.867273 \nL 335.999168 162.867273 \nL 334.32684 162.867273 \nL 332.654513 162.867273 \nL 330.982185 162.867273 \nL 329.309857 162.867273 \nL 327.63753 162.867273 \nL 325.965202 162.867273 \nL 324.292874 162.867273 \nL 322.620547 162.867273 \nL 320.948219 162.867273 \nL 319.275891 162.867273 \nL 317.603564 162.867273 \nL 315.931236 162.867273 \nL 314.258908 162.867273 \nL 312.586581 162.867273 \nL 310.914253 162.867273 \nL 309.241925 162.867273 \nL 307.569598 162.867273 \nL 305.89727 162.867273 \nL 304.224942 162.867273 \nL 302.552615 162.867273 \nL 300.880287 162.867273 \nL 299.207959 162.867273 \nL 297.535632 162.867273 \nL 295.863304 162.867273 \nL 294.190976 162.867273 \nL 292.518649 162.867273 \nL 290.846321 162.867273 \nL 289.173993 162.867273 \nL 287.501666 162.867273 \nL 285.829338 162.867273 \nL 284.15701 162.867273 \nL 282.484683 162.867273 \nL 280.812355 162.867273 \nL 279.140027 162.867273 \nL 277.467699 162.867273 \nL 275.795372 162.867273 \nL 274.123044 162.867273 \nL 272.450716 162.867273 \nL 270.778389 162.867273 \nL 269.106061 162.867273 \nL 267.433733 162.867273 \nL 265.761406 162.867273 \nL 264.089078 162.867273 \nL 262.41675 162.867273 \nL 260.744423 162.867273 \nL 259.072095 162.867273 \nL 257.399767 162.867273 \nL 255.72744 162.867273 \nL 254.055112 162.867273 \nL 252.382784 162.867273 \nL 250.710457 162.867273 \nL 249.038129 162.867273 \nL 247.365801 162.867273 \nL 245.693474 162.867273 \nL 244.021146 162.867273 \nL 242.348818 162.867273 \nL 240.676491 162.867273 \nL 239.004163 162.867273 \nL 237.331835 162.867273 \nL 235.659508 162.867273 \nL 233.98718 162.867273 \nL 232.314852 162.867273 \nL 230.642525 162.867273 \nL 228.970197 162.867273 \nL 227.297869 162.867273 \nL 225.625542 162.867273 \nL 223.953214 162.867273 \nL 222.280886 162.867273 \nL 220.608559 162.867273 \nL 218.936231 162.867273 \nL 217.263903 162.867273 \nL 215.591576 162.867273 \nL 213.919248 162.867273 \nL 212.24692 162.867273 \nL 210.574593 162.867273 \nL 208.902265 162.867273 \nL 207.229937 162.867273 \nL 205.55761 162.867273 \nL 203.885282 162.867273 \nL 202.212954 162.867273 \nL 200.540627 162.867273 \nL 198.868299 162.867273 \nL 197.195971 162.867273 \nL 195.523644 162.867273 \nL 193.851316 162.867273 \nL 192.178988 162.867273 \nL 190.506661 162.867273 \nL 188.834333 162.867273 \nL 187.162005 162.867273 \nL 185.489678 162.867273 \nL 183.81735 162.867273 \nL 182.145022 162.867273 \nL 180.472694 162.867273 \nL 178.800367 162.867273 \nL 177.128039 162.867273 \nL 175.455711 162.867273 \nL 173.783384 162.867273 \nL 172.111056 162.867273 \nL 170.438728 162.867273 \nL 168.766401 162.867273 \nL 167.094073 162.867273 \nL 165.421745 162.867273 \nL 163.749418 162.867273 \nL 162.07709 162.867273 \nL 160.404762 162.867273 \nL 158.732435 162.867273 \nL 157.060107 162.867273 \nL 155.387779 162.867273 \nL 153.715452 162.867273 \nL 152.043124 162.867273 \nL 150.370796 162.867273 \nL 148.698469 162.867273 \nL 147.026141 162.867273 \nL 145.353813 162.867273 \nL 143.681486 162.867273 \nL 142.009158 162.867273 \nL 140.33683 162.867273 \nL 138.664503 162.867273 \nL 136.992175 162.867273 \nL 135.319847 162.867273 \nL 133.64752 162.867273 \nL 131.975192 162.867273 \nL 130.302864 162.867273 \nL 128.630537 162.867273 \nL 126.958209 162.867273 \nL 125.285881 162.867273 \nL 123.613554 162.867273 \nL 121.941226 162.867273 \nL 120.268898 162.867273 \nL 118.596571 162.867273 \nL 116.924243 162.867273 \nL 115.251915 162.867273 \nL 113.579588 162.867273 \nL 111.90726 162.867273 \nL 110.234932 162.867273 \nL 108.562605 162.867273 \nL 106.890277 162.867273 \nL 105.217949 162.867273 \nL 103.545622 162.867273 \nL 101.873294 162.867273 \nL 100.200966 162.867273 \nL 98.528639 162.867273 \nL 96.856311 162.867273 \nL 95.183983 162.867273 \nL 93.511656 162.867273 \nL 91.839328 162.867273 \nL 90.167 162.867273 \nL 88.494673 162.867273 \nL 86.822345 162.867273 \nL 85.150017 162.867273 \nL 83.477689 162.867273 \nL 81.805362 162.867273 \nL 80.133034 162.867273 \nL 78.460706 162.867273 \nL 76.788379 162.867273 \nL 75.116051 162.867273 \nz\n\" clip-path=\"url(#p5eb44b2dd1)\" style=\"fill: #ffffff; stroke: #ffffff\"/>\n    <path d=\"M 504.904263 162.867273 \nL 504.904263 95.985523 \nL 506.576591 90.412044 \nL 508.248918 85.95326 \nL 509.921246 88.182652 \nL 511.593574 88.182652 \nL 513.265901 88.182652 \nL 514.938229 88.182652 \nL 516.610557 84.838565 \nL 518.282884 82.609173 \nL 519.955212 88.182652 \nL 521.62754 89.297348 \nL 523.299867 91.52674 \nL 524.972195 91.52674 \nL 526.644523 94.870827 \nL 528.31685 98.214915 \nL 529.989178 102.673698 \nL 531.661506 103.788394 \nL 533.333833 108.247177 \nL 535.006161 113.820656 \nL 536.678489 117.164744 \nL 538.350816 120.508831 \nL 540.023144 122.738223 \nL 541.695472 127.197006 \nL 543.367799 133.885181 \nL 545.040127 136.114573 \nL 546.712455 140.573356 \nL 548.384782 142.802748 \nL 550.05711 145.032139 \nL 551.729438 149.490923 \nL 553.401765 155.064402 \nL 555.074093 159.523185 \nL 556.746421 162.867273 \nL 558.418748 162.867273 \nL 560.091076 162.867273 \nL 561.763404 162.867273 \nL 563.435731 162.867273 \nL 565.108059 162.867273 \nL 566.780387 162.867273 \nL 568.452714 162.867273 \nL 570.125042 162.867273 \nL 571.79737 162.867273 \nL 573.469697 162.867273 \nL 575.142025 162.867273 \nL 576.814353 162.867273 \nL 578.486681 162.867273 \nL 580.159008 162.867273 \nL 581.831336 162.867273 \nL 583.503664 162.867273 \nL 585.175991 162.867273 \nL 586.848319 162.867273 \nL 588.520647 162.867273 \nL 590.192974 162.867273 \nL 591.865302 162.867273 \nL 593.53763 162.867273 \nL 595.209957 162.867273 \nL 596.882285 162.867273 \nL 598.554613 162.867273 \nL 600.22694 162.867273 \nL 601.899268 162.867273 \nL 603.571596 162.867273 \nL 605.243923 162.867273 \nL 606.916251 162.867273 \nL 608.588579 162.867273 \nL 610.260906 162.867273 \nL 611.933234 162.867273 \nL 613.605562 162.867273 \nL 615.277889 162.867273 \nL 616.950217 162.867273 \nL 618.622545 162.867273 \nL 620.294872 162.867273 \nL 621.9672 162.867273 \nL 623.639528 162.867273 \nL 625.311855 162.867273 \nL 626.984183 162.867273 \nL 628.656511 162.867273 \nL 630.328838 162.867273 \nL 632.001166 162.867273 \nL 633.673494 162.867273 \nL 635.345821 162.867273 \nL 637.018149 162.867273 \nL 638.690477 162.867273 \nL 640.362804 162.867273 \nL 642.035132 162.867273 \nL 643.70746 162.867273 \nL 647.052115 162.867273 \nL 648.724443 162.867273 \nL 650.39677 162.867273 \nL 652.069098 162.867273 \nL 653.741426 162.867273 \nL 655.413753 162.867273 \nL 657.086081 162.867273 \nL 658.758409 162.867273 \nL 660.430736 162.867273 \nL 662.103064 162.867273 \nL 663.775392 162.867273 \nL 665.447719 162.867273 \nL 667.120047 162.867273 \nL 668.792375 162.867273 \nL 670.464702 162.867273 \nL 672.13703 162.867273 \nL 673.809358 162.867273 \nL 675.481686 162.867273 \nL 677.154013 162.867273 \nL 678.826341 162.867273 \nL 680.498669 162.867273 \nL 682.170996 162.867273 \nL 683.843324 162.867273 \nL 683.843324 162.867273 \nL 683.843324 162.867273 \nL 682.170996 162.867273 \nL 680.498669 162.867273 \nL 678.826341 162.867273 \nL 677.154013 162.867273 \nL 675.481686 162.867273 \nL 673.809358 162.867273 \nL 672.13703 162.867273 \nL 670.464702 162.867273 \nL 668.792375 162.867273 \nL 667.120047 162.867273 \nL 665.447719 162.867273 \nL 663.775392 162.867273 \nL 662.103064 162.867273 \nL 660.430736 162.867273 \nL 658.758409 162.867273 \nL 657.086081 162.867273 \nL 655.413753 162.867273 \nL 653.741426 162.867273 \nL 652.069098 162.867273 \nL 650.39677 162.867273 \nL 648.724443 162.867273 \nL 647.052115 162.867273 \nL 643.70746 162.867273 \nL 642.035132 162.867273 \nL 640.362804 162.867273 \nL 638.690477 162.867273 \nL 637.018149 162.867273 \nL 635.345821 162.867273 \nL 633.673494 162.867273 \nL 632.001166 162.867273 \nL 630.328838 162.867273 \nL 628.656511 162.867273 \nL 626.984183 162.867273 \nL 625.311855 162.867273 \nL 623.639528 162.867273 \nL 621.9672 162.867273 \nL 620.294872 162.867273 \nL 618.622545 162.867273 \nL 616.950217 162.867273 \nL 615.277889 162.867273 \nL 613.605562 162.867273 \nL 611.933234 162.867273 \nL 610.260906 162.867273 \nL 608.588579 162.867273 \nL 606.916251 162.867273 \nL 605.243923 162.867273 \nL 603.571596 162.867273 \nL 601.899268 162.867273 \nL 600.22694 162.867273 \nL 598.554613 162.867273 \nL 596.882285 162.867273 \nL 595.209957 162.867273 \nL 593.53763 162.867273 \nL 591.865302 162.867273 \nL 590.192974 162.867273 \nL 588.520647 162.867273 \nL 586.848319 162.867273 \nL 585.175991 162.867273 \nL 583.503664 162.867273 \nL 581.831336 162.867273 \nL 580.159008 162.867273 \nL 578.486681 162.867273 \nL 576.814353 162.867273 \nL 575.142025 162.867273 \nL 573.469697 162.867273 \nL 571.79737 162.867273 \nL 570.125042 162.867273 \nL 568.452714 162.867273 \nL 566.780387 162.867273 \nL 565.108059 162.867273 \nL 563.435731 162.867273 \nL 561.763404 162.867273 \nL 560.091076 162.867273 \nL 558.418748 162.867273 \nL 556.746421 162.867273 \nL 555.074093 162.867273 \nL 553.401765 162.867273 \nL 551.729438 162.867273 \nL 550.05711 162.867273 \nL 548.384782 162.867273 \nL 546.712455 162.867273 \nL 545.040127 162.867273 \nL 543.367799 162.867273 \nL 541.695472 162.867273 \nL 540.023144 162.867273 \nL 538.350816 162.867273 \nL 536.678489 162.867273 \nL 535.006161 162.867273 \nL 533.333833 162.867273 \nL 531.661506 162.867273 \nL 529.989178 162.867273 \nL 528.31685 162.867273 \nL 526.644523 162.867273 \nL 524.972195 162.867273 \nL 523.299867 162.867273 \nL 521.62754 162.867273 \nL 519.955212 162.867273 \nL 518.282884 162.867273 \nL 516.610557 162.867273 \nL 514.938229 162.867273 \nL 513.265901 162.867273 \nL 511.593574 162.867273 \nL 509.921246 162.867273 \nL 508.248918 162.867273 \nL 506.576591 162.867273 \nL 504.904263 162.867273 \nz\n\" clip-path=\"url(#p5eb44b2dd1)\" style=\"fill: #ffffff; stroke: #ffffff\"/>\n   </g>\n   <g id=\"matplotlib.axis_1\">\n    <g id=\"xtick_1\">\n     <g id=\"line2d_1\">\n      <defs>\n       <path id=\"m5fb7255f4a\" d=\"M 0 0 \nL 0 3.5 \n\" style=\"stroke: #ffffff; stroke-width: 0.8\"/>\n      </defs>\n      <g>\n       <use xlink:href=\"#m5fb7255f4a\" x=\"75.116051\" y=\"170.28\" style=\"fill: #ffffff; stroke: #ffffff; stroke-width: 0.8\"/>\n      </g>\n     </g>\n     <g id=\"text_1\">\n      <!-- 2018-09 -->\n      <g style=\"fill: #ffffff\" transform=\"translate(56.541832 184.872188)scale(0.1 -0.1)\">\n       <defs>\n        <path id=\"MalgunGothic-32\" d=\"M 2519 3372 \nQ 2519 3784 2275 4018 \nQ 2031 4253 1628 4253 \nQ 1341 4253 1053 4104 \nQ 766 3956 534 3697 \nL 534 4234 \nQ 981 4675 1691 4675 \nQ 2281 4675 2642 4334 \nQ 3003 3994 3003 3416 \nQ 3003 2919 2772 2545 \nQ 2541 2172 1984 1775 \nQ 1459 1406 1254 1215 \nQ 1050 1025 967 854 \nQ 884 684 884 450 \nL 3116 450 \nL 3116 0 \nL 356 0 \nL 356 225 \nQ 356 603 461 870 \nQ 566 1138 811 1392 \nQ 1056 1647 1597 2022 \nQ 2091 2363 2305 2670 \nQ 2519 2978 2519 3372 \nz\n\" transform=\"scale(0.015625)\"/>\n        <path id=\"MalgunGothic-30\" d=\"M 278 2206 \nQ 278 3425 675 4050 \nQ 1072 4675 1819 4675 \nQ 3253 4675 3253 2319 \nQ 3253 1156 2854 539 \nQ 2456 -78 1716 -78 \nQ 1016 -78 647 520 \nQ 278 1119 278 2206 \nz\nM 784 2231 \nQ 784 344 1769 344 \nQ 2747 344 2747 2259 \nQ 2747 4250 1794 4250 \nQ 784 4250 784 2231 \nz\n\" transform=\"scale(0.015625)\"/>\n        <path id=\"MalgunGothic-31\" d=\"M 2231 0 \nL 1734 0 \nL 1734 3972 \nQ 1591 3828 1266 3661 \nQ 941 3494 672 3428 \nL 672 3959 \nQ 1016 4056 1409 4275 \nQ 1803 4494 2031 4700 \nL 2231 4700 \nL 2231 0 \nz\n\" transform=\"scale(0.015625)\"/>\n        <path id=\"MalgunGothic-38\" d=\"M 303 1281 \nQ 303 1669 539 2011 \nQ 775 2353 1153 2494 \nQ 856 2647 675 2915 \nQ 494 3184 494 3500 \nQ 494 3828 659 4098 \nQ 825 4369 1122 4522 \nQ 1419 4675 1778 4675 \nQ 2334 4675 2700 4342 \nQ 3066 4009 3066 3500 \nQ 3066 3181 2881 2914 \nQ 2697 2647 2413 2494 \nQ 2788 2350 3022 2009 \nQ 3256 1669 3256 1281 \nQ 3256 672 2843 297 \nQ 2431 -78 1778 -78 \nQ 1131 -78 717 301 \nQ 303 681 303 1281 \nz\nM 809 1328 \nQ 809 878 1081 611 \nQ 1353 344 1781 344 \nQ 2206 344 2482 619 \nQ 2759 894 2759 1328 \nQ 2759 1731 2482 2011 \nQ 2206 2291 1781 2291 \nQ 1372 2291 1090 2020 \nQ 809 1750 809 1328 \nz\nM 1003 3459 \nQ 1003 3125 1234 2900 \nQ 1466 2675 1781 2675 \nQ 2097 2675 2330 2900 \nQ 2563 3125 2563 3459 \nQ 2563 3803 2341 4026 \nQ 2119 4250 1781 4250 \nQ 1450 4250 1226 4029 \nQ 1003 3809 1003 3459 \nz\n\" transform=\"scale(0.015625)\"/>\n        <path id=\"MalgunGothic-2d\" d=\"M 2213 1634 \nL 463 1634 \nL 463 2031 \nL 2213 2031 \nL 2213 1634 \nz\n\" transform=\"scale(0.015625)\"/>\n        <path id=\"MalgunGothic-39\" d=\"M 556 563 \nQ 941 344 1366 344 \nQ 1994 344 2347 855 \nQ 2700 1366 2700 2313 \nQ 2694 2306 2688 2313 \nQ 2388 1713 1653 1713 \nQ 1059 1713 682 2120 \nQ 306 2528 306 3144 \nQ 306 3806 711 4240 \nQ 1116 4675 1772 4675 \nQ 2466 4675 2833 4131 \nQ 3200 3588 3200 2578 \nQ 3200 1319 2717 620 \nQ 2234 -78 1344 -78 \nQ 881 -78 556 78 \nL 556 563 \nz\nM 813 3219 \nQ 813 2741 1063 2450 \nQ 1313 2159 1759 2159 \nQ 2147 2159 2406 2417 \nQ 2666 2675 2666 3047 \nQ 2666 3556 2411 3903 \nQ 2156 4250 1725 4250 \nQ 1322 4250 1067 3948 \nQ 813 3647 813 3219 \nz\n\" transform=\"scale(0.015625)\"/>\n       </defs>\n       <use xlink:href=\"#MalgunGothic-32\"/>\n       <use xlink:href=\"#MalgunGothic-30\" x=\"55.078125\"/>\n       <use xlink:href=\"#MalgunGothic-31\" x=\"110.15625\"/>\n       <use xlink:href=\"#MalgunGothic-38\" x=\"165.234375\"/>\n       <use xlink:href=\"#MalgunGothic-2d\" x=\"220.3125\"/>\n       <use xlink:href=\"#MalgunGothic-30\" x=\"261.328125\"/>\n       <use xlink:href=\"#MalgunGothic-39\" x=\"316.40625\"/>\n      </g>\n     </g>\n    </g>\n    <g id=\"xtick_2\">\n     <g id=\"line2d_2\">\n      <g>\n       <use xlink:href=\"#m5fb7255f4a\" x=\"177.128039\" y=\"170.28\" style=\"fill: #ffffff; stroke: #ffffff; stroke-width: 0.8\"/>\n      </g>\n     </g>\n     <g id=\"text_2\">\n      <!-- 2018-11 -->\n      <g style=\"fill: #ffffff\" transform=\"translate(158.55382 184.872188)scale(0.1 -0.1)\">\n       <use xlink:href=\"#MalgunGothic-32\"/>\n       <use xlink:href=\"#MalgunGothic-30\" x=\"55.078125\"/>\n       <use xlink:href=\"#MalgunGothic-31\" x=\"110.15625\"/>\n       <use xlink:href=\"#MalgunGothic-38\" x=\"165.234375\"/>\n       <use xlink:href=\"#MalgunGothic-2d\" x=\"220.3125\"/>\n       <use xlink:href=\"#MalgunGothic-31\" x=\"261.328125\"/>\n       <use xlink:href=\"#MalgunGothic-31\" x=\"316.40625\"/>\n      </g>\n     </g>\n    </g>\n    <g id=\"xtick_3\">\n     <g id=\"line2d_3\">\n      <g>\n       <use xlink:href=\"#m5fb7255f4a\" x=\"279.140027\" y=\"170.28\" style=\"fill: #ffffff; stroke: #ffffff; stroke-width: 0.8\"/>\n      </g>\n     </g>\n     <g id=\"text_3\">\n      <!-- 2019-01 -->\n      <g style=\"fill: #ffffff\" transform=\"translate(260.565808 184.872188)scale(0.1 -0.1)\">\n       <use xlink:href=\"#MalgunGothic-32\"/>\n       <use xlink:href=\"#MalgunGothic-30\" x=\"55.078125\"/>\n       <use xlink:href=\"#MalgunGothic-31\" x=\"110.15625\"/>\n       <use xlink:href=\"#MalgunGothic-39\" x=\"165.234375\"/>\n       <use xlink:href=\"#MalgunGothic-2d\" x=\"220.3125\"/>\n       <use xlink:href=\"#MalgunGothic-30\" x=\"261.328125\"/>\n       <use xlink:href=\"#MalgunGothic-31\" x=\"316.40625\"/>\n      </g>\n     </g>\n    </g>\n    <g id=\"xtick_4\">\n     <g id=\"line2d_4\">\n      <g>\n       <use xlink:href=\"#m5fb7255f4a\" x=\"377.80736\" y=\"170.28\" style=\"fill: #ffffff; stroke: #ffffff; stroke-width: 0.8\"/>\n      </g>\n     </g>\n     <g id=\"text_4\">\n      <!-- 2019-03 -->\n      <g style=\"fill: #ffffff\" transform=\"translate(359.233141 184.872188)scale(0.1 -0.1)\">\n       <defs>\n        <path id=\"MalgunGothic-33\" d=\"M 416 719 \nQ 891 344 1478 344 \nQ 1959 344 2254 587 \nQ 2550 831 2550 1247 \nQ 2550 2169 1253 2169 \nL 872 2169 \nL 872 2591 \nL 1234 2591 \nQ 2388 2591 2388 3453 \nQ 2388 4250 1509 4250 \nQ 1022 4250 594 3916 \nL 594 4413 \nQ 1031 4675 1634 4675 \nQ 2184 4675 2539 4372 \nQ 2894 4069 2894 3581 \nQ 2894 2678 1972 2409 \nL 1972 2400 \nQ 2469 2356 2764 2053 \nQ 3059 1750 3059 1300 \nQ 3059 672 2604 297 \nQ 2150 -78 1450 -78 \nQ 806 -78 416 169 \nL 416 719 \nz\n\" transform=\"scale(0.015625)\"/>\n       </defs>\n       <use xlink:href=\"#MalgunGothic-32\"/>\n       <use xlink:href=\"#MalgunGothic-30\" x=\"55.078125\"/>\n       <use xlink:href=\"#MalgunGothic-31\" x=\"110.15625\"/>\n       <use xlink:href=\"#MalgunGothic-39\" x=\"165.234375\"/>\n       <use xlink:href=\"#MalgunGothic-2d\" x=\"220.3125\"/>\n       <use xlink:href=\"#MalgunGothic-30\" x=\"261.328125\"/>\n       <use xlink:href=\"#MalgunGothic-33\" x=\"316.40625\"/>\n      </g>\n     </g>\n    </g>\n    <g id=\"xtick_5\">\n     <g id=\"line2d_5\">\n      <g>\n       <use xlink:href=\"#m5fb7255f4a\" x=\"479.819348\" y=\"170.28\" style=\"fill: #ffffff; stroke: #ffffff; stroke-width: 0.8\"/>\n      </g>\n     </g>\n     <g id=\"text_5\">\n      <!-- 2019-05 -->\n      <g style=\"fill: #ffffff\" transform=\"translate(461.245129 184.872188)scale(0.1 -0.1)\">\n       <defs>\n        <path id=\"MalgunGothic-35\" d=\"M 3072 1403 \nQ 3072 722 2636 322 \nQ 2200 -78 1469 -78 \nQ 828 -78 516 113 \nL 516 650 \nQ 994 344 1475 344 \nQ 1969 344 2270 630 \nQ 2572 916 2572 1372 \nQ 2572 1838 2265 2092 \nQ 1959 2347 1381 2347 \nQ 994 2347 603 2300 \nL 759 4600 \nL 2869 4600 \nL 2869 4147 \nL 1206 4147 \nL 1106 2763 \nQ 1347 2784 1547 2784 \nQ 2263 2784 2667 2414 \nQ 3072 2044 3072 1403 \nz\n\" transform=\"scale(0.015625)\"/>\n       </defs>\n       <use xlink:href=\"#MalgunGothic-32\"/>\n       <use xlink:href=\"#MalgunGothic-30\" x=\"55.078125\"/>\n       <use xlink:href=\"#MalgunGothic-31\" x=\"110.15625\"/>\n       <use xlink:href=\"#MalgunGothic-39\" x=\"165.234375\"/>\n       <use xlink:href=\"#MalgunGothic-2d\" x=\"220.3125\"/>\n       <use xlink:href=\"#MalgunGothic-30\" x=\"261.328125\"/>\n       <use xlink:href=\"#MalgunGothic-35\" x=\"316.40625\"/>\n      </g>\n     </g>\n    </g>\n    <g id=\"xtick_6\">\n     <g id=\"line2d_6\">\n      <g>\n       <use xlink:href=\"#m5fb7255f4a\" x=\"581.831336\" y=\"170.28\" style=\"fill: #ffffff; stroke: #ffffff; stroke-width: 0.8\"/>\n      </g>\n     </g>\n     <g id=\"text_6\">\n      <!-- 2019-07 -->\n      <g style=\"fill: #ffffff\" transform=\"translate(563.257117 184.872188)scale(0.1 -0.1)\">\n       <defs>\n        <path id=\"MalgunGothic-37\" d=\"M 3213 4297 \nQ 2478 3006 2064 1918 \nQ 1650 831 1550 0 \nL 1009 0 \nQ 1084 531 1290 1176 \nQ 1497 1822 1815 2537 \nQ 2134 3253 2631 4147 \nL 291 4147 \nL 291 4600 \nL 3213 4600 \nL 3213 4297 \nz\n\" transform=\"scale(0.015625)\"/>\n       </defs>\n       <use xlink:href=\"#MalgunGothic-32\"/>\n       <use xlink:href=\"#MalgunGothic-30\" x=\"55.078125\"/>\n       <use xlink:href=\"#MalgunGothic-31\" x=\"110.15625\"/>\n       <use xlink:href=\"#MalgunGothic-39\" x=\"165.234375\"/>\n       <use xlink:href=\"#MalgunGothic-2d\" x=\"220.3125\"/>\n       <use xlink:href=\"#MalgunGothic-30\" x=\"261.328125\"/>\n       <use xlink:href=\"#MalgunGothic-37\" x=\"316.40625\"/>\n      </g>\n     </g>\n    </g>\n    <g id=\"xtick_7\">\n     <g id=\"line2d_7\">\n      <g>\n       <use xlink:href=\"#m5fb7255f4a\" x=\"685.515652\" y=\"170.28\" style=\"fill: #ffffff; stroke: #ffffff; stroke-width: 0.8\"/>\n      </g>\n     </g>\n     <g id=\"text_7\">\n      <!-- 2019-09 -->\n      <g style=\"fill: #ffffff\" transform=\"translate(666.941433 184.872188)scale(0.1 -0.1)\">\n       <use xlink:href=\"#MalgunGothic-32\"/>\n       <use xlink:href=\"#MalgunGothic-30\" x=\"55.078125\"/>\n       <use xlink:href=\"#MalgunGothic-31\" x=\"110.15625\"/>\n       <use xlink:href=\"#MalgunGothic-39\" x=\"165.234375\"/>\n       <use xlink:href=\"#MalgunGothic-2d\" x=\"220.3125\"/>\n       <use xlink:href=\"#MalgunGothic-30\" x=\"261.328125\"/>\n       <use xlink:href=\"#MalgunGothic-39\" x=\"316.40625\"/>\n      </g>\n     </g>\n    </g>\n   </g>\n   <g id=\"matplotlib.axis_2\">\n    <g id=\"ytick_1\">\n     <g id=\"line2d_8\">\n      <defs>\n       <path id=\"mab75f91b09\" d=\"M 0 0 \nL -3.5 0 \n\" style=\"stroke: #ffffff; stroke-width: 0.8\"/>\n      </defs>\n      <g>\n       <use xlink:href=\"#mab75f91b09\" x=\"44.679688\" y=\"162.867273\" style=\"fill: #ffffff; stroke: #ffffff; stroke-width: 0.8\"/>\n      </g>\n     </g>\n     <g id=\"text_8\">\n      <!-- 0 -->\n      <g style=\"fill: #ffffff\" transform=\"translate(32.171875 166.663366)scale(0.1 -0.1)\">\n       <use xlink:href=\"#MalgunGothic-30\"/>\n      </g>\n     </g>\n    </g>\n    <g id=\"ytick_2\">\n     <g id=\"line2d_9\">\n      <g>\n       <use xlink:href=\"#mab75f91b09\" x=\"44.679688\" y=\"140.573356\" style=\"fill: #ffffff; stroke: #ffffff; stroke-width: 0.8\"/>\n      </g>\n     </g>\n     <g id=\"text_9\">\n      <!-- 20 -->\n      <g style=\"fill: #ffffff\" transform=\"translate(26.664062 144.36945)scale(0.1 -0.1)\">\n       <use xlink:href=\"#MalgunGothic-32\"/>\n       <use xlink:href=\"#MalgunGothic-30\" x=\"55.078125\"/>\n      </g>\n     </g>\n    </g>\n    <g id=\"ytick_3\">\n     <g id=\"line2d_10\">\n      <g>\n       <use xlink:href=\"#mab75f91b09\" x=\"44.679688\" y=\"118.27944\" style=\"fill: #ffffff; stroke: #ffffff; stroke-width: 0.8\"/>\n      </g>\n     </g>\n     <g id=\"text_10\">\n      <!-- 40 -->\n      <g style=\"fill: #ffffff\" transform=\"translate(26.664062 122.075533)scale(0.1 -0.1)\">\n       <defs>\n        <path id=\"MalgunGothic-34\" d=\"M 2703 4600 \nL 2703 1563 \nL 3309 1563 \nL 3309 1113 \nL 2703 1113 \nL 2703 0 \nL 2213 0 \nL 2213 1113 \nL 50 1113 \nL 50 1534 \nQ 728 2297 1295 3109 \nQ 1863 3922 2172 4600 \nL 2703 4600 \nz\nM 625 1563 \nL 2213 1563 \nL 2213 3831 \nQ 1613 2788 959 1981 \nL 625 1563 \nz\n\" transform=\"scale(0.015625)\"/>\n       </defs>\n       <use xlink:href=\"#MalgunGothic-34\"/>\n       <use xlink:href=\"#MalgunGothic-30\" x=\"55.078125\"/>\n      </g>\n     </g>\n    </g>\n    <g id=\"ytick_4\">\n     <g id=\"line2d_11\">\n      <g>\n       <use xlink:href=\"#mab75f91b09\" x=\"44.679688\" y=\"95.985523\" style=\"fill: #ffffff; stroke: #ffffff; stroke-width: 0.8\"/>\n      </g>\n     </g>\n     <g id=\"text_11\">\n      <!-- 60 -->\n      <g style=\"fill: #ffffff\" transform=\"translate(26.664062 99.781617)scale(0.1 -0.1)\">\n       <defs>\n        <path id=\"MalgunGothic-36\" d=\"M 2981 4069 \nQ 2619 4250 2228 4250 \nQ 1591 4250 1228 3689 \nQ 866 3128 869 2213 \nL 884 2213 \nQ 1203 2872 1938 2872 \nQ 2547 2872 2903 2478 \nQ 3259 2084 3259 1450 \nQ 3259 797 2857 359 \nQ 2456 -78 1825 -78 \nQ 1116 -78 736 478 \nQ 356 1034 356 2019 \nQ 356 3181 847 3928 \nQ 1338 4675 2222 4675 \nQ 2700 4675 2981 4544 \nL 2981 4069 \nz\nM 906 1506 \nQ 906 1022 1165 683 \nQ 1425 344 1844 344 \nQ 2247 344 2498 645 \nQ 2750 947 2750 1388 \nQ 2750 1888 2509 2167 \nQ 2269 2447 1838 2447 \nQ 1444 2447 1175 2173 \nQ 906 1900 906 1506 \nz\n\" transform=\"scale(0.015625)\"/>\n       </defs>\n       <use xlink:href=\"#MalgunGothic-36\"/>\n       <use xlink:href=\"#MalgunGothic-30\" x=\"55.078125\"/>\n      </g>\n     </g>\n    </g>\n    <g id=\"ytick_5\">\n     <g id=\"line2d_12\">\n      <g>\n       <use xlink:href=\"#mab75f91b09\" x=\"44.679688\" y=\"73.691606\" style=\"fill: #ffffff; stroke: #ffffff; stroke-width: 0.8\"/>\n      </g>\n     </g>\n     <g id=\"text_12\">\n      <!-- 80 -->\n      <g style=\"fill: #ffffff\" transform=\"translate(26.664062 77.4877)scale(0.1 -0.1)\">\n       <use xlink:href=\"#MalgunGothic-38\"/>\n       <use xlink:href=\"#MalgunGothic-30\" x=\"55.078125\"/>\n      </g>\n     </g>\n    </g>\n    <g id=\"ytick_6\">\n     <g id=\"line2d_13\">\n      <g>\n       <use xlink:href=\"#mab75f91b09\" x=\"44.679688\" y=\"51.39769\" style=\"fill: #ffffff; stroke: #ffffff; stroke-width: 0.8\"/>\n      </g>\n     </g>\n     <g id=\"text_13\">\n      <!-- 100 -->\n      <g style=\"fill: #ffffff\" transform=\"translate(21.15625 55.193783)scale(0.1 -0.1)\">\n       <use xlink:href=\"#MalgunGothic-31\"/>\n       <use xlink:href=\"#MalgunGothic-30\" x=\"55.078125\"/>\n       <use xlink:href=\"#MalgunGothic-30\" x=\"110.15625\"/>\n      </g>\n     </g>\n    </g>\n    <g id=\"ytick_7\">\n     <g id=\"line2d_14\">\n      <g>\n       <use xlink:href=\"#mab75f91b09\" x=\"44.679688\" y=\"29.103773\" style=\"fill: #ffffff; stroke: #ffffff; stroke-width: 0.8\"/>\n      </g>\n     </g>\n     <g id=\"text_14\">\n      <!-- 120 -->\n      <g style=\"fill: #ffffff\" transform=\"translate(21.15625 32.899867)scale(0.1 -0.1)\">\n       <use xlink:href=\"#MalgunGothic-31\"/>\n       <use xlink:href=\"#MalgunGothic-32\" x=\"55.078125\"/>\n       <use xlink:href=\"#MalgunGothic-30\" x=\"110.15625\"/>\n      </g>\n     </g>\n    </g>\n    <g id=\"text_15\">\n     <!-- Snow_Depth -->\n     <g style=\"fill: #ffffff\" transform=\"translate(14.792187 117.03375)rotate(-90)scale(0.1 -0.1)\">\n      <defs>\n       <path id=\"MalgunGothic-53\" d=\"M 394 797 \nQ 606 613 964 500 \nQ 1322 388 1625 388 \nQ 2628 388 2628 1116 \nQ 2628 1325 2523 1484 \nQ 2419 1644 2250 1756 \nQ 2081 1869 1547 2144 \nQ 903 2475 651 2754 \nQ 400 3034 400 3456 \nQ 400 4019 858 4347 \nQ 1316 4675 1988 4675 \nQ 2669 4675 2963 4513 \nL 2963 3928 \nQ 2563 4206 1922 4206 \nQ 1484 4206 1207 4018 \nQ 931 3831 931 3500 \nQ 931 3200 1126 3011 \nQ 1322 2822 1938 2522 \nQ 2656 2163 2906 1844 \nQ 3156 1525 3156 1153 \nQ 3156 556 2725 239 \nQ 2294 -78 1531 -78 \nQ 1291 -78 927 -1 \nQ 563 75 394 188 \nL 394 797 \nz\n\" transform=\"scale(0.015625)\"/>\n       <path id=\"MalgunGothic-6e\" d=\"M 3238 0 \nL 2741 0 \nL 2741 1875 \nQ 2741 2941 1963 2941 \nQ 1563 2941 1298 2639 \nQ 1034 2338 1034 1872 \nL 1034 0 \nL 538 0 \nL 538 3284 \nL 1034 3284 \nL 1034 2734 \nL 1047 2734 \nQ 1416 3359 2125 3359 \nQ 2666 3359 2952 3012 \nQ 3238 2666 3238 2006 \nL 3238 0 \nz\n\" transform=\"scale(0.015625)\"/>\n       <path id=\"MalgunGothic-6f\" d=\"M 316 1600 \nQ 316 2419 761 2889 \nQ 1206 3359 1978 3359 \nQ 2697 3359 3111 2907 \nQ 3525 2456 3525 1650 \nQ 3525 869 3078 395 \nQ 2631 -78 1900 -78 \nQ 1184 -78 750 384 \nQ 316 847 316 1600 \nz\nM 819 1622 \nQ 819 1041 1123 692 \nQ 1428 344 1934 344 \nQ 2459 344 2739 680 \nQ 3019 1016 3019 1634 \nQ 3019 2256 2737 2598 \nQ 2456 2941 1934 2941 \nQ 1425 2941 1122 2587 \nQ 819 2234 819 1622 \nz\n\" transform=\"scale(0.015625)\"/>\n       <path id=\"MalgunGothic-77\" d=\"M 4634 3284 \nL 3650 0 \nL 3134 0 \nL 2447 2378 \nQ 2409 2506 2397 2675 \nL 2384 2675 \nQ 2384 2609 2316 2384 \nL 1572 0 \nL 1078 0 \nL 81 3284 \nL 600 3284 \nL 1294 794 \nQ 1325 681 1338 503 \nL 1363 503 \nQ 1378 656 1422 800 \nL 2191 3284 \nL 2644 3284 \nL 3334 788 \nQ 3359 700 3381 497 \nL 3409 497 \nQ 3416 631 3463 788 \nL 4144 3284 \nL 4634 3284 \nz\n\" transform=\"scale(0.015625)\"/>\n       <path id=\"MalgunGothic-5f\" d=\"M 2725 -953 \nL 0 -953 \nL 0 -569 \nL 2725 -569 \nL 2725 -953 \nz\n\" transform=\"scale(0.015625)\"/>\n       <path id=\"MalgunGothic-44\" d=\"M 609 0 \nL 609 4600 \nL 1856 4600 \nQ 4281 4600 4281 2356 \nQ 4281 1288 3587 644 \nQ 2894 0 1800 0 \nL 609 0 \nz\nM 1113 4134 \nL 1113 463 \nL 1813 463 \nQ 2734 463 3243 958 \nQ 3753 1453 3753 2344 \nQ 3753 4134 1844 4134 \nL 1113 4134 \nz\n\" transform=\"scale(0.015625)\"/>\n       <path id=\"MalgunGothic-65\" d=\"M 3156 1519 \nL 828 1519 \nQ 844 950 1133 648 \nQ 1422 347 1909 347 \nQ 2472 347 2934 719 \nL 2934 244 \nQ 2494 -78 1794 -78 \nQ 1100 -78 708 376 \nQ 316 831 316 1634 \nQ 316 2381 747 2870 \nQ 1178 3359 1816 3359 \nQ 2453 3359 2804 2942 \nQ 3156 2525 3156 1788 \nL 3156 1519 \nz\nM 2644 1956 \nQ 2644 2416 2423 2675 \nQ 2203 2934 1809 2934 \nQ 1438 2934 1169 2667 \nQ 900 2400 834 1956 \nL 2644 1956 \nz\n\" transform=\"scale(0.015625)\"/>\n       <path id=\"MalgunGothic-70\" d=\"M 1034 481 \nL 1034 -1513 \nL 538 -1513 \nL 538 3284 \nL 1034 3284 \nL 1034 2703 \nL 1047 2703 \nQ 1438 3359 2184 3359 \nQ 2809 3359 3171 2920 \nQ 3534 2481 3534 1738 \nQ 3534 906 3126 414 \nQ 2719 -78 2034 -78 \nQ 1394 -78 1047 481 \nL 1034 481 \nz\nM 1034 1331 \nQ 1034 922 1307 633 \nQ 1581 344 1991 344 \nQ 2475 344 2751 716 \nQ 3028 1088 3028 1753 \nQ 3028 2300 2767 2620 \nQ 2506 2941 2072 2941 \nQ 1619 2941 1326 2619 \nQ 1034 2297 1034 1806 \nL 1034 1331 \nz\n\" transform=\"scale(0.015625)\"/>\n       <path id=\"MalgunGothic-74\" d=\"M 2031 31 \nQ 1844 -72 1553 -72 \nQ 706 -72 706 881 \nL 706 2856 \nL 138 2856 \nL 138 3284 \nL 706 3284 \nL 706 4091 \nL 1200 4250 \nL 1200 3284 \nL 2031 3284 \nL 2031 2856 \nL 1200 2856 \nL 1200 972 \nQ 1200 625 1315 487 \nQ 1431 350 1691 350 \nQ 1888 350 2031 459 \nL 2031 31 \nz\n\" transform=\"scale(0.015625)\"/>\n       <path id=\"MalgunGothic-68\" d=\"M 3238 0 \nL 2744 0 \nL 2744 1894 \nQ 2744 2941 1963 2941 \nQ 1572 2941 1303 2637 \nQ 1034 2334 1034 1859 \nL 1034 0 \nL 538 0 \nL 538 4859 \nL 1034 4859 \nL 1034 2734 \nL 1047 2734 \nQ 1425 3359 2128 3359 \nQ 3238 3359 3238 2022 \nL 3238 0 \nz\n\" transform=\"scale(0.015625)\"/>\n      </defs>\n      <use xlink:href=\"#MalgunGothic-53\"/>\n      <use xlink:href=\"#MalgunGothic-6e\" x=\"54.296875\"/>\n      <use xlink:href=\"#MalgunGothic-6f\" x=\"112.109375\"/>\n      <use xlink:href=\"#MalgunGothic-77\" x=\"172.021484\"/>\n      <use xlink:href=\"#MalgunGothic-5f\" x=\"245.654297\"/>\n      <use xlink:href=\"#MalgunGothic-44\" x=\"288.232422\"/>\n      <use xlink:href=\"#MalgunGothic-65\" x=\"359.960938\"/>\n      <use xlink:href=\"#MalgunGothic-70\" x=\"413.476562\"/>\n      <use xlink:href=\"#MalgunGothic-74\" x=\"473.535156\"/>\n      <use xlink:href=\"#MalgunGothic-68\" x=\"508.007812\"/>\n     </g>\n    </g>\n   </g>\n  </g>\n </g>\n <defs>\n  <clipPath id=\"p5eb44b2dd1\">\n   <rect x=\"44.679688\" y=\"7.2\" width=\"669.6\" height=\"163.08\"/>\n  </clipPath>\n </defs>\n</svg>\n",
      "text/plain": [
       "<Figure size 864x216 with 1 Axes>"
      ]
     },
     "metadata": {},
     "output_type": "display_data"
    }
   ],
   "source": [
    "blue = '#99ddee'\n",
    "white = '#ffffff'\n",
    "fig, ax = plt.subplots(figsize=(12, 3), linewidth=5, facecolor=blue)\n",
    "ax.set_facecolor(blue)\n",
    "for line in ['top', 'bottom', 'left', 'right']:\n",
    "    ax.spines[line].set_visible(False)\n",
    "# tick color와 label color를 모두 바꿔주기에 color's'\n",
    "ax.tick_params(axis='both', colors=white)\n",
    "ax.set_ylabel('Snow_Depth', color=white)\n",
    "ax.fill_between(data.index, data, color=white)"
   ]
  },
  {
   "cell_type": "code",
   "execution_count": null,
   "metadata": {},
   "outputs": [],
   "source": []
  }
 ],
 "metadata": {
  "kernelspec": {
   "display_name": "base",
   "language": "python",
   "name": "python3"
  },
  "language_info": {
   "codemirror_mode": {
    "name": "ipython",
    "version": 3
   },
   "file_extension": ".py",
   "mimetype": "text/x-python",
   "name": "python",
   "nbconvert_exporter": "python",
   "pygments_lexer": "ipython3",
   "version": "3.9.12"
  },
  "orig_nbformat": 4,
  "vscode": {
   "interpreter": {
    "hash": "610a6f344c2137faf927ea819c63f6cee33a2c04455044b28099f39fe9722347"
   }
  }
 },
 "nbformat": 4,
 "nbformat_minor": 2
}
