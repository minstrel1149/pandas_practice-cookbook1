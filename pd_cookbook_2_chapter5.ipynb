{
 "cells": [
  {
   "cell_type": "code",
   "execution_count": 29,
   "metadata": {},
   "outputs": [],
   "source": [
    "import pandas as pd\n",
    "import numpy as np\n",
    "from pathlib import Path\n",
    "import zipfile\n",
    "import matplotlib.pyplot as plt\n",
    "import seaborn as sns"
   ]
  },
  {
   "cell_type": "code",
   "execution_count": 3,
   "metadata": {},
   "outputs": [
    {
     "name": "stderr",
     "output_type": "stream",
     "text": [
      "C:\\Users\\admin\\AppData\\Local\\Temp\\ipykernel_20092\\4152661709.py:2: DtypeWarning: Columns (70,71,72,73,74,76,79) have mixed types. Specify dtype option on import or set low_memory=False.\n",
      "  fueleco = pd.read_csv(p1 / 'vehicles.csv.zip', parse_dates=['createdOn', 'modifiedOn'])\n",
      "c:\\Users\\admin\\anaconda3\\lib\\site-packages\\dateutil\\parser\\_parser.py:1207: UnknownTimezoneWarning: tzname EST identified but not understood.  Pass `tzinfos` argument in order to correctly return a timezone-aware datetime.  In a future version, this will raise an exception.\n",
      "  warnings.warn(\"tzname {tzname} identified but not understood.  \"\n",
      "c:\\Users\\admin\\anaconda3\\lib\\site-packages\\dateutil\\parser\\_parser.py:1207: UnknownTimezoneWarning: tzname EDT identified but not understood.  Pass `tzinfos` argument in order to correctly return a timezone-aware datetime.  In a future version, this will raise an exception.\n",
      "  warnings.warn(\"tzname {tzname} identified but not understood.  \"\n",
      "c:\\Users\\admin\\anaconda3\\lib\\site-packages\\dateutil\\parser\\_parser.py:1207: UnknownTimezoneWarning: tzname EST identified but not understood.  Pass `tzinfos` argument in order to correctly return a timezone-aware datetime.  In a future version, this will raise an exception.\n",
      "  warnings.warn(\"tzname {tzname} identified but not understood.  \"\n",
      "c:\\Users\\admin\\anaconda3\\lib\\site-packages\\dateutil\\parser\\_parser.py:1207: UnknownTimezoneWarning: tzname EDT identified but not understood.  Pass `tzinfos` argument in order to correctly return a timezone-aware datetime.  In a future version, this will raise an exception.\n",
      "  warnings.warn(\"tzname {tzname} identified but not understood.  \"\n"
     ]
    },
    {
     "data": {
      "text/html": [
       "<div>\n",
       "<style scoped>\n",
       "    .dataframe tbody tr th:only-of-type {\n",
       "        vertical-align: middle;\n",
       "    }\n",
       "\n",
       "    .dataframe tbody tr th {\n",
       "        vertical-align: top;\n",
       "    }\n",
       "\n",
       "    .dataframe thead th {\n",
       "        text-align: right;\n",
       "    }\n",
       "</style>\n",
       "<table border=\"1\" class=\"dataframe\">\n",
       "  <thead>\n",
       "    <tr style=\"text-align: right;\">\n",
       "      <th></th>\n",
       "      <th>barrels08</th>\n",
       "      <th>barrelsA08</th>\n",
       "      <th>charge120</th>\n",
       "      <th>charge240</th>\n",
       "      <th>city08</th>\n",
       "      <th>city08U</th>\n",
       "      <th>cityA08</th>\n",
       "      <th>cityA08U</th>\n",
       "      <th>cityCD</th>\n",
       "      <th>cityE</th>\n",
       "      <th>...</th>\n",
       "      <th>mfrCode</th>\n",
       "      <th>c240Dscr</th>\n",
       "      <th>charge240b</th>\n",
       "      <th>c240bDscr</th>\n",
       "      <th>createdOn</th>\n",
       "      <th>modifiedOn</th>\n",
       "      <th>startStop</th>\n",
       "      <th>phevCity</th>\n",
       "      <th>phevHwy</th>\n",
       "      <th>phevComb</th>\n",
       "    </tr>\n",
       "  </thead>\n",
       "  <tbody>\n",
       "    <tr>\n",
       "      <th>0</th>\n",
       "      <td>15.695714</td>\n",
       "      <td>0.0</td>\n",
       "      <td>0.0</td>\n",
       "      <td>0.0</td>\n",
       "      <td>19</td>\n",
       "      <td>0.0</td>\n",
       "      <td>0</td>\n",
       "      <td>0.0</td>\n",
       "      <td>0.0</td>\n",
       "      <td>0.0</td>\n",
       "      <td>...</td>\n",
       "      <td>NaN</td>\n",
       "      <td>NaN</td>\n",
       "      <td>0.0</td>\n",
       "      <td>NaN</td>\n",
       "      <td>2013-01-01</td>\n",
       "      <td>2013-01-01</td>\n",
       "      <td>NaN</td>\n",
       "      <td>0</td>\n",
       "      <td>0</td>\n",
       "      <td>0</td>\n",
       "    </tr>\n",
       "    <tr>\n",
       "      <th>1</th>\n",
       "      <td>29.964545</td>\n",
       "      <td>0.0</td>\n",
       "      <td>0.0</td>\n",
       "      <td>0.0</td>\n",
       "      <td>9</td>\n",
       "      <td>0.0</td>\n",
       "      <td>0</td>\n",
       "      <td>0.0</td>\n",
       "      <td>0.0</td>\n",
       "      <td>0.0</td>\n",
       "      <td>...</td>\n",
       "      <td>NaN</td>\n",
       "      <td>NaN</td>\n",
       "      <td>0.0</td>\n",
       "      <td>NaN</td>\n",
       "      <td>2013-01-01</td>\n",
       "      <td>2013-01-01</td>\n",
       "      <td>NaN</td>\n",
       "      <td>0</td>\n",
       "      <td>0</td>\n",
       "      <td>0</td>\n",
       "    </tr>\n",
       "    <tr>\n",
       "      <th>2</th>\n",
       "      <td>12.207778</td>\n",
       "      <td>0.0</td>\n",
       "      <td>0.0</td>\n",
       "      <td>0.0</td>\n",
       "      <td>23</td>\n",
       "      <td>0.0</td>\n",
       "      <td>0</td>\n",
       "      <td>0.0</td>\n",
       "      <td>0.0</td>\n",
       "      <td>0.0</td>\n",
       "      <td>...</td>\n",
       "      <td>NaN</td>\n",
       "      <td>NaN</td>\n",
       "      <td>0.0</td>\n",
       "      <td>NaN</td>\n",
       "      <td>2013-01-01</td>\n",
       "      <td>2013-01-01</td>\n",
       "      <td>NaN</td>\n",
       "      <td>0</td>\n",
       "      <td>0</td>\n",
       "      <td>0</td>\n",
       "    </tr>\n",
       "    <tr>\n",
       "      <th>3</th>\n",
       "      <td>29.964545</td>\n",
       "      <td>0.0</td>\n",
       "      <td>0.0</td>\n",
       "      <td>0.0</td>\n",
       "      <td>10</td>\n",
       "      <td>0.0</td>\n",
       "      <td>0</td>\n",
       "      <td>0.0</td>\n",
       "      <td>0.0</td>\n",
       "      <td>0.0</td>\n",
       "      <td>...</td>\n",
       "      <td>NaN</td>\n",
       "      <td>NaN</td>\n",
       "      <td>0.0</td>\n",
       "      <td>NaN</td>\n",
       "      <td>2013-01-01</td>\n",
       "      <td>2013-01-01</td>\n",
       "      <td>NaN</td>\n",
       "      <td>0</td>\n",
       "      <td>0</td>\n",
       "      <td>0</td>\n",
       "    </tr>\n",
       "    <tr>\n",
       "      <th>4</th>\n",
       "      <td>17.347895</td>\n",
       "      <td>0.0</td>\n",
       "      <td>0.0</td>\n",
       "      <td>0.0</td>\n",
       "      <td>17</td>\n",
       "      <td>0.0</td>\n",
       "      <td>0</td>\n",
       "      <td>0.0</td>\n",
       "      <td>0.0</td>\n",
       "      <td>0.0</td>\n",
       "      <td>...</td>\n",
       "      <td>NaN</td>\n",
       "      <td>NaN</td>\n",
       "      <td>0.0</td>\n",
       "      <td>NaN</td>\n",
       "      <td>2013-01-01</td>\n",
       "      <td>2013-01-01</td>\n",
       "      <td>NaN</td>\n",
       "      <td>0</td>\n",
       "      <td>0</td>\n",
       "      <td>0</td>\n",
       "    </tr>\n",
       "  </tbody>\n",
       "</table>\n",
       "<p>5 rows × 83 columns</p>\n",
       "</div>"
      ],
      "text/plain": [
       "   barrels08  barrelsA08  charge120  charge240  city08  city08U  cityA08  \\\n",
       "0  15.695714         0.0        0.0        0.0      19      0.0        0   \n",
       "1  29.964545         0.0        0.0        0.0       9      0.0        0   \n",
       "2  12.207778         0.0        0.0        0.0      23      0.0        0   \n",
       "3  29.964545         0.0        0.0        0.0      10      0.0        0   \n",
       "4  17.347895         0.0        0.0        0.0      17      0.0        0   \n",
       "\n",
       "   cityA08U  cityCD  cityE  ...  mfrCode  c240Dscr  charge240b  c240bDscr  \\\n",
       "0       0.0     0.0    0.0  ...      NaN       NaN         0.0        NaN   \n",
       "1       0.0     0.0    0.0  ...      NaN       NaN         0.0        NaN   \n",
       "2       0.0     0.0    0.0  ...      NaN       NaN         0.0        NaN   \n",
       "3       0.0     0.0    0.0  ...      NaN       NaN         0.0        NaN   \n",
       "4       0.0     0.0    0.0  ...      NaN       NaN         0.0        NaN   \n",
       "\n",
       "   createdOn  modifiedOn  startStop  phevCity  phevHwy  phevComb  \n",
       "0 2013-01-01  2013-01-01        NaN         0        0         0  \n",
       "1 2013-01-01  2013-01-01        NaN         0        0         0  \n",
       "2 2013-01-01  2013-01-01        NaN         0        0         0  \n",
       "3 2013-01-01  2013-01-01        NaN         0        0         0  \n",
       "4 2013-01-01  2013-01-01        NaN         0        0         0  \n",
       "\n",
       "[5 rows x 83 columns]"
      ]
     },
     "execution_count": 3,
     "metadata": {},
     "output_type": "execute_result"
    }
   ],
   "source": [
    "p1 = Path.cwd() / 'back_data'\n",
    "fueleco = pd.read_csv(p1 / 'vehicles.csv.zip', parse_dates=['createdOn', 'modifiedOn'])\n",
    "fueleco.head()"
   ]
  },
  {
   "cell_type": "code",
   "execution_count": 4,
   "metadata": {},
   "outputs": [
    {
     "name": "stdout",
     "output_type": "stream",
     "text": [
      "<class 'pandas.core.frame.DataFrame'>\n",
      "RangeIndex: 39101 entries, 0 to 39100\n",
      "Data columns (total 83 columns):\n",
      " #   Column           Non-Null Count  Dtype         \n",
      "---  ------           --------------  -----         \n",
      " 0   barrels08        39101 non-null  float64       \n",
      " 1   barrelsA08       39101 non-null  float64       \n",
      " 2   charge120        39101 non-null  float64       \n",
      " 3   charge240        39101 non-null  float64       \n",
      " 4   city08           39101 non-null  int64         \n",
      " 5   city08U          39101 non-null  float64       \n",
      " 6   cityA08          39101 non-null  int64         \n",
      " 7   cityA08U         39101 non-null  float64       \n",
      " 8   cityCD           39101 non-null  float64       \n",
      " 9   cityE            39101 non-null  float64       \n",
      " 10  cityUF           39101 non-null  float64       \n",
      " 11  co2              39101 non-null  int64         \n",
      " 12  co2A             39101 non-null  int64         \n",
      " 13  co2TailpipeAGpm  39101 non-null  float64       \n",
      " 14  co2TailpipeGpm   39101 non-null  float64       \n",
      " 15  comb08           39101 non-null  int64         \n",
      " 16  comb08U          39101 non-null  float64       \n",
      " 17  combA08          39101 non-null  int64         \n",
      " 18  combA08U         39101 non-null  float64       \n",
      " 19  combE            39101 non-null  float64       \n",
      " 20  combinedCD       39101 non-null  float64       \n",
      " 21  combinedUF       39101 non-null  float64       \n",
      " 22  cylinders        38956 non-null  float64       \n",
      " 23  displ            38958 non-null  float64       \n",
      " 24  drive            37912 non-null  object        \n",
      " 25  engId            39101 non-null  int64         \n",
      " 26  eng_dscr         23431 non-null  object        \n",
      " 27  feScore          39101 non-null  int64         \n",
      " 28  fuelCost08       39101 non-null  int64         \n",
      " 29  fuelCostA08      39101 non-null  int64         \n",
      " 30  fuelType         39101 non-null  object        \n",
      " 31  fuelType1        39101 non-null  object        \n",
      " 32  ghgScore         39101 non-null  int64         \n",
      " 33  ghgScoreA        39101 non-null  int64         \n",
      " 34  highway08        39101 non-null  int64         \n",
      " 35  highway08U       39101 non-null  float64       \n",
      " 36  highwayA08       39101 non-null  int64         \n",
      " 37  highwayA08U      39101 non-null  float64       \n",
      " 38  highwayCD        39101 non-null  float64       \n",
      " 39  highwayE         39101 non-null  float64       \n",
      " 40  highwayUF        39101 non-null  float64       \n",
      " 41  hlv              39101 non-null  int64         \n",
      " 42  hpv              39101 non-null  int64         \n",
      " 43  id               39101 non-null  int64         \n",
      " 44  lv2              39101 non-null  int64         \n",
      " 45  lv4              39101 non-null  int64         \n",
      " 46  make             39101 non-null  object        \n",
      " 47  model            39101 non-null  object        \n",
      " 48  mpgData          39101 non-null  object        \n",
      " 49  phevBlended      39101 non-null  bool          \n",
      " 50  pv2              39101 non-null  int64         \n",
      " 51  pv4              39101 non-null  int64         \n",
      " 52  range            39101 non-null  int64         \n",
      " 53  rangeCity        39101 non-null  float64       \n",
      " 54  rangeCityA       39101 non-null  float64       \n",
      " 55  rangeHwy         39101 non-null  float64       \n",
      " 56  rangeHwyA        39101 non-null  float64       \n",
      " 57  trany            39090 non-null  object        \n",
      " 58  UCity            39101 non-null  float64       \n",
      " 59  UCityA           39101 non-null  float64       \n",
      " 60  UHighway         39101 non-null  float64       \n",
      " 61  UHighwayA        39101 non-null  float64       \n",
      " 62  VClass           39101 non-null  object        \n",
      " 63  year             39101 non-null  int64         \n",
      " 64  youSaveSpend     39101 non-null  int64         \n",
      " 65  guzzler          2335 non-null   object        \n",
      " 66  trans_dscr       15047 non-null  object        \n",
      " 67  tCharger         5816 non-null   object        \n",
      " 68  sCharger         738 non-null    object        \n",
      " 69  atvType          3204 non-null   object        \n",
      " 70  fuelType2        1490 non-null   object        \n",
      " 71  rangeA           1485 non-null   object        \n",
      " 72  evMotor          644 non-null    object        \n",
      " 73  mfrCode          8289 non-null   object        \n",
      " 74  c240Dscr         53 non-null     object        \n",
      " 75  charge240b       39101 non-null  float64       \n",
      " 76  c240bDscr        51 non-null     object        \n",
      " 77  createdOn        39101 non-null  datetime64[ns]\n",
      " 78  modifiedOn       39101 non-null  datetime64[ns]\n",
      " 79  startStop        7405 non-null   object        \n",
      " 80  phevCity         39101 non-null  int64         \n",
      " 81  phevHwy          39101 non-null  int64         \n",
      " 82  phevComb         39101 non-null  int64         \n",
      "dtypes: bool(1), datetime64[ns](2), float64(32), int64(27), object(21)\n",
      "memory usage: 24.5+ MB\n"
     ]
    }
   ],
   "source": [
    "fueleco.info()"
   ]
  },
  {
   "cell_type": "code",
   "execution_count": 9,
   "metadata": {},
   "outputs": [
    {
     "data": {
      "text/html": [
       "<div>\n",
       "<style scoped>\n",
       "    .dataframe tbody tr th:only-of-type {\n",
       "        vertical-align: middle;\n",
       "    }\n",
       "\n",
       "    .dataframe tbody tr th {\n",
       "        vertical-align: top;\n",
       "    }\n",
       "\n",
       "    .dataframe thead th {\n",
       "        text-align: right;\n",
       "    }\n",
       "</style>\n",
       "<table border=\"1\" class=\"dataframe\">\n",
       "  <thead>\n",
       "    <tr style=\"text-align: right;\">\n",
       "      <th></th>\n",
       "      <th>dtype</th>\n",
       "      <th>count</th>\n",
       "      <th>unique</th>\n",
       "    </tr>\n",
       "  </thead>\n",
       "  <tbody>\n",
       "    <tr>\n",
       "      <th>barrels08</th>\n",
       "      <td>float64</td>\n",
       "      <td>39101</td>\n",
       "      <td>175</td>\n",
       "    </tr>\n",
       "    <tr>\n",
       "      <th>barrelsA08</th>\n",
       "      <td>float64</td>\n",
       "      <td>39101</td>\n",
       "      <td>62</td>\n",
       "    </tr>\n",
       "    <tr>\n",
       "      <th>charge120</th>\n",
       "      <td>float64</td>\n",
       "      <td>39101</td>\n",
       "      <td>1</td>\n",
       "    </tr>\n",
       "    <tr>\n",
       "      <th>charge240</th>\n",
       "      <td>float64</td>\n",
       "      <td>39101</td>\n",
       "      <td>23</td>\n",
       "    </tr>\n",
       "    <tr>\n",
       "      <th>city08</th>\n",
       "      <td>int64</td>\n",
       "      <td>39101</td>\n",
       "      <td>93</td>\n",
       "    </tr>\n",
       "    <tr>\n",
       "      <th>...</th>\n",
       "      <td>...</td>\n",
       "      <td>...</td>\n",
       "      <td>...</td>\n",
       "    </tr>\n",
       "    <tr>\n",
       "      <th>modifiedOn</th>\n",
       "      <td>datetime64[ns]</td>\n",
       "      <td>39101</td>\n",
       "      <td>68</td>\n",
       "    </tr>\n",
       "    <tr>\n",
       "      <th>startStop</th>\n",
       "      <td>object</td>\n",
       "      <td>7405</td>\n",
       "      <td>2</td>\n",
       "    </tr>\n",
       "    <tr>\n",
       "      <th>phevCity</th>\n",
       "      <td>int64</td>\n",
       "      <td>39101</td>\n",
       "      <td>28</td>\n",
       "    </tr>\n",
       "    <tr>\n",
       "      <th>phevHwy</th>\n",
       "      <td>int64</td>\n",
       "      <td>39101</td>\n",
       "      <td>35</td>\n",
       "    </tr>\n",
       "    <tr>\n",
       "      <th>phevComb</th>\n",
       "      <td>int64</td>\n",
       "      <td>39101</td>\n",
       "      <td>32</td>\n",
       "    </tr>\n",
       "  </tbody>\n",
       "</table>\n",
       "<p>83 rows × 3 columns</p>\n",
       "</div>"
      ],
      "text/plain": [
       "                     dtype  count  unique\n",
       "barrels08          float64  39101     175\n",
       "barrelsA08         float64  39101      62\n",
       "charge120          float64  39101       1\n",
       "charge240          float64  39101      23\n",
       "city08               int64  39101      93\n",
       "...                    ...    ...     ...\n",
       "modifiedOn  datetime64[ns]  39101      68\n",
       "startStop           object   7405       2\n",
       "phevCity             int64  39101      28\n",
       "phevHwy              int64  39101      35\n",
       "phevComb             int64  39101      32\n",
       "\n",
       "[83 rows x 3 columns]"
      ]
     },
     "execution_count": 9,
     "metadata": {},
     "output_type": "execute_result"
    }
   ],
   "source": [
    "fueleco_dtype = (pd.concat([fueleco.dtypes, fueleco.count(), fueleco.nunique()], axis=1)\n",
    " .rename(dict(zip([0, 1, 2], ['dtype', 'count', 'unique'])), axis=1)\n",
    ")\n",
    "fueleco_dtype"
   ]
  },
  {
   "cell_type": "code",
   "execution_count": 14,
   "metadata": {},
   "outputs": [],
   "source": [
    "fueleco2 = fueleco.copy()"
   ]
  },
  {
   "cell_type": "code",
   "execution_count": 22,
   "metadata": {},
   "outputs": [],
   "source": [
    "top_n = fueleco2['make'].value_counts().index[:6]\n",
    "fueleco2 = (fueleco2\n",
    " .assign(make=fueleco['make'].where(fueleco['make'].isin(top_n), 'Other'))\n",
    ")"
   ]
  },
  {
   "cell_type": "code",
   "execution_count": 23,
   "metadata": {},
   "outputs": [
    {
     "data": {
      "text/html": [
       "<div>\n",
       "<style scoped>\n",
       "    .dataframe tbody tr th:only-of-type {\n",
       "        vertical-align: middle;\n",
       "    }\n",
       "\n",
       "    .dataframe tbody tr th {\n",
       "        vertical-align: top;\n",
       "    }\n",
       "\n",
       "    .dataframe thead th {\n",
       "        text-align: right;\n",
       "    }\n",
       "</style>\n",
       "<table border=\"1\" class=\"dataframe\">\n",
       "  <thead>\n",
       "    <tr style=\"text-align: right;\">\n",
       "      <th></th>\n",
       "      <th>dtype</th>\n",
       "      <th>count</th>\n",
       "      <th>unique</th>\n",
       "    </tr>\n",
       "  </thead>\n",
       "  <tbody>\n",
       "    <tr>\n",
       "      <th>barrels08</th>\n",
       "      <td>float64</td>\n",
       "      <td>39101</td>\n",
       "      <td>175</td>\n",
       "    </tr>\n",
       "    <tr>\n",
       "      <th>barrelsA08</th>\n",
       "      <td>float64</td>\n",
       "      <td>39101</td>\n",
       "      <td>62</td>\n",
       "    </tr>\n",
       "    <tr>\n",
       "      <th>charge120</th>\n",
       "      <td>category</td>\n",
       "      <td>39101</td>\n",
       "      <td>1</td>\n",
       "    </tr>\n",
       "    <tr>\n",
       "      <th>charge240</th>\n",
       "      <td>float64</td>\n",
       "      <td>39101</td>\n",
       "      <td>23</td>\n",
       "    </tr>\n",
       "    <tr>\n",
       "      <th>city08</th>\n",
       "      <td>int64</td>\n",
       "      <td>39101</td>\n",
       "      <td>93</td>\n",
       "    </tr>\n",
       "    <tr>\n",
       "      <th>...</th>\n",
       "      <td>...</td>\n",
       "      <td>...</td>\n",
       "      <td>...</td>\n",
       "    </tr>\n",
       "    <tr>\n",
       "      <th>modifiedOn</th>\n",
       "      <td>datetime64[ns]</td>\n",
       "      <td>39101</td>\n",
       "      <td>68</td>\n",
       "    </tr>\n",
       "    <tr>\n",
       "      <th>startStop</th>\n",
       "      <td>category</td>\n",
       "      <td>7405</td>\n",
       "      <td>2</td>\n",
       "    </tr>\n",
       "    <tr>\n",
       "      <th>phevCity</th>\n",
       "      <td>int64</td>\n",
       "      <td>39101</td>\n",
       "      <td>28</td>\n",
       "    </tr>\n",
       "    <tr>\n",
       "      <th>phevHwy</th>\n",
       "      <td>int64</td>\n",
       "      <td>39101</td>\n",
       "      <td>35</td>\n",
       "    </tr>\n",
       "    <tr>\n",
       "      <th>phevComb</th>\n",
       "      <td>int64</td>\n",
       "      <td>39101</td>\n",
       "      <td>32</td>\n",
       "    </tr>\n",
       "  </tbody>\n",
       "</table>\n",
       "<p>83 rows × 3 columns</p>\n",
       "</div>"
      ],
      "text/plain": [
       "                     dtype  count  unique\n",
       "barrels08          float64  39101     175\n",
       "barrelsA08         float64  39101      62\n",
       "charge120         category  39101       1\n",
       "charge240          float64  39101      23\n",
       "city08               int64  39101      93\n",
       "...                    ...    ...     ...\n",
       "modifiedOn  datetime64[ns]  39101      68\n",
       "startStop         category   7405       2\n",
       "phevCity             int64  39101      28\n",
       "phevHwy              int64  39101      35\n",
       "phevComb             int64  39101      32\n",
       "\n",
       "[83 rows x 3 columns]"
      ]
     },
     "execution_count": 23,
     "metadata": {},
     "output_type": "execute_result"
    }
   ],
   "source": [
    "fueleco_dtype2 = (pd.concat([fueleco2.dtypes, fueleco2.count(), fueleco2.nunique()], axis=1)\n",
    " .rename(dict(zip([0, 1, 2], ['dtype', 'count', 'unique'])), axis=1)\n",
    ")\n",
    "fueleco_dtype2"
   ]
  },
  {
   "cell_type": "code",
   "execution_count": 24,
   "metadata": {},
   "outputs": [
    {
     "data": {
      "text/plain": [
       "Index(['charge120', 'cityCD', 'combinedCD', 'cylinders', 'drive', 'feScore',\n",
       "       'fuelType', 'fuelType1', 'ghgScore', 'ghgScoreA', 'highwayCD', 'make',\n",
       "       'mpgData', 'phevBlended', 'guzzler', 'tCharger', 'sCharger', 'atvType',\n",
       "       'fuelType2', 'c240Dscr', 'charge240b', 'c240bDscr', 'startStop'],\n",
       "      dtype='object')"
      ]
     },
     "execution_count": 24,
     "metadata": {},
     "output_type": "execute_result"
    }
   ],
   "source": [
    "category_type = (fueleco_dtype2\n",
    " .query(\"unique <= 20\")\n",
    " .index\n",
    ")\n",
    "category_type"
   ]
  },
  {
   "cell_type": "code",
   "execution_count": 25,
   "metadata": {},
   "outputs": [
    {
     "name": "stdout",
     "output_type": "stream",
     "text": [
      "<class 'pandas.core.frame.DataFrame'>\n",
      "RangeIndex: 39101 entries, 0 to 39100\n",
      "Data columns (total 83 columns):\n",
      " #   Column           Non-Null Count  Dtype         \n",
      "---  ------           --------------  -----         \n",
      " 0   barrels08        39101 non-null  float64       \n",
      " 1   barrelsA08       39101 non-null  float64       \n",
      " 2   charge120        39101 non-null  category      \n",
      " 3   charge240        39101 non-null  float64       \n",
      " 4   city08           39101 non-null  int64         \n",
      " 5   city08U          39101 non-null  float64       \n",
      " 6   cityA08          39101 non-null  int64         \n",
      " 7   cityA08U         39101 non-null  float64       \n",
      " 8   cityCD           39101 non-null  category      \n",
      " 9   cityE            39101 non-null  float64       \n",
      " 10  cityUF           39101 non-null  float64       \n",
      " 11  co2              39101 non-null  int64         \n",
      " 12  co2A             39101 non-null  int64         \n",
      " 13  co2TailpipeAGpm  39101 non-null  float64       \n",
      " 14  co2TailpipeGpm   39101 non-null  float64       \n",
      " 15  comb08           39101 non-null  int64         \n",
      " 16  comb08U          39101 non-null  float64       \n",
      " 17  combA08          39101 non-null  int64         \n",
      " 18  combA08U         39101 non-null  float64       \n",
      " 19  combE            39101 non-null  float64       \n",
      " 20  combinedCD       39101 non-null  category      \n",
      " 21  combinedUF       39101 non-null  float64       \n",
      " 22  cylinders        38956 non-null  category      \n",
      " 23  displ            38958 non-null  float64       \n",
      " 24  drive            37912 non-null  category      \n",
      " 25  engId            39101 non-null  int64         \n",
      " 26  eng_dscr         23431 non-null  object        \n",
      " 27  feScore          39101 non-null  category      \n",
      " 28  fuelCost08       39101 non-null  int64         \n",
      " 29  fuelCostA08      39101 non-null  int64         \n",
      " 30  fuelType         39101 non-null  category      \n",
      " 31  fuelType1        39101 non-null  category      \n",
      " 32  ghgScore         39101 non-null  category      \n",
      " 33  ghgScoreA        39101 non-null  category      \n",
      " 34  highway08        39101 non-null  int64         \n",
      " 35  highway08U       39101 non-null  float64       \n",
      " 36  highwayA08       39101 non-null  int64         \n",
      " 37  highwayA08U      39101 non-null  float64       \n",
      " 38  highwayCD        39101 non-null  category      \n",
      " 39  highwayE         39101 non-null  float64       \n",
      " 40  highwayUF        39101 non-null  float64       \n",
      " 41  hlv              39101 non-null  int64         \n",
      " 42  hpv              39101 non-null  int64         \n",
      " 43  id               39101 non-null  int64         \n",
      " 44  lv2              39101 non-null  int64         \n",
      " 45  lv4              39101 non-null  int64         \n",
      " 46  make             39101 non-null  category      \n",
      " 47  model            39101 non-null  object        \n",
      " 48  mpgData          39101 non-null  category      \n",
      " 49  phevBlended      39101 non-null  category      \n",
      " 50  pv2              39101 non-null  int64         \n",
      " 51  pv4              39101 non-null  int64         \n",
      " 52  range            39101 non-null  int64         \n",
      " 53  rangeCity        39101 non-null  float64       \n",
      " 54  rangeCityA       39101 non-null  float64       \n",
      " 55  rangeHwy         39101 non-null  float64       \n",
      " 56  rangeHwyA        39101 non-null  float64       \n",
      " 57  trany            39090 non-null  object        \n",
      " 58  UCity            39101 non-null  float64       \n",
      " 59  UCityA           39101 non-null  float64       \n",
      " 60  UHighway         39101 non-null  float64       \n",
      " 61  UHighwayA        39101 non-null  float64       \n",
      " 62  VClass           39101 non-null  object        \n",
      " 63  year             39101 non-null  int64         \n",
      " 64  youSaveSpend     39101 non-null  int64         \n",
      " 65  guzzler          2335 non-null   category      \n",
      " 66  trans_dscr       15047 non-null  object        \n",
      " 67  tCharger         5816 non-null   category      \n",
      " 68  sCharger         738 non-null    category      \n",
      " 69  atvType          3204 non-null   category      \n",
      " 70  fuelType2        1490 non-null   category      \n",
      " 71  rangeA           1485 non-null   object        \n",
      " 72  evMotor          644 non-null    object        \n",
      " 73  mfrCode          8289 non-null   object        \n",
      " 74  c240Dscr         53 non-null     category      \n",
      " 75  charge240b       39101 non-null  category      \n",
      " 76  c240bDscr        51 non-null     category      \n",
      " 77  createdOn        39101 non-null  datetime64[ns]\n",
      " 78  modifiedOn       39101 non-null  datetime64[ns]\n",
      " 79  startStop        7405 non-null   category      \n",
      " 80  phevCity         39101 non-null  int64         \n",
      " 81  phevHwy          39101 non-null  int64         \n",
      " 82  phevComb         39101 non-null  int64         \n",
      "dtypes: category(23), datetime64[ns](2), float64(26), int64(24), object(8)\n",
      "memory usage: 18.8+ MB\n"
     ]
    }
   ],
   "source": [
    "for col in category_type.tolist():\n",
    "    fueleco2 = fueleco2.assign(**{col:fueleco2[col].astype('category')})\n",
    "fueleco2.info()"
   ]
  },
  {
   "cell_type": "code",
   "execution_count": 30,
   "metadata": {},
   "outputs": [
    {
     "data": {
      "text/plain": [
       "<AxesSubplot:>"
      ]
     },
     "execution_count": 30,
     "metadata": {},
     "output_type": "execute_result"
    },
    {
     "data": {
      "image/png": "[encoded data removed]",
      "text/plain": [
       "<Figure size 864x216 with 1 Axes>"
      ]
     },
     "metadata": {
      "needs_background": "light"
     },
     "output_type": "display_data"
    }
   ],
   "source": [
    "fig, ax = plt.subplots(1, 1, figsize=(12, 3))\n",
    "(fueleco2['make']\n",
    " .value_counts()\n",
    " .plot.bar(ax=ax, rot=0)\n",
    ")"
   ]
  },
  {
   "cell_type": "code",
   "execution_count": 31,
   "metadata": {},
   "outputs": [
    {
     "data": {
      "text/plain": [
       "<AxesSubplot:xlabel='make', ylabel='count'>"
      ]
     },
     "execution_count": 31,
     "metadata": {},
     "output_type": "execute_result"
    },
    {
     "data": {
      "image/png": "[encoded data removed]",
      "text/plain": [
       "<Figure size 864x216 with 1 Axes>"
      ]
     },
     "metadata": {
      "needs_background": "light"
     },
     "output_type": "display_data"
    }
   ],
   "source": [
    "fig, ax = plt.subplots(1, 1, figsize=(12, 3))\n",
    "sns.countplot(data=fueleco2, x='make', ax=ax)"
   ]
  },
  {
   "cell_type": "code",
   "execution_count": 40,
   "metadata": {},
   "outputs": [
    {
     "data": {
      "text/plain": [
       "/    280\n",
       "-     71\n",
       "Name: 0, dtype: int64"
      ]
     },
     "execution_count": 40,
     "metadata": {},
     "output_type": "execute_result"
    }
   ],
   "source": [
    "(fueleco2['rangeA']\n",
    " .str.extract(r'([^0-9.])')\n",
    " .dropna()\n",
    " .squeeze()\n",
    " #.apply(lambda row: ''.join(row), axis=1)\n",
    " .value_counts()\n",
    ")"
   ]
  },
  {
   "cell_type": "code",
   "execution_count": 50,
   "metadata": {},
   "outputs": [
    {
     "data": {
      "text/plain": [
       "(-1, 0]       37616\n",
       "(300, 500]      793\n",
       "(100, 300]      611\n",
       "(10, 20]         50\n",
       "(30, 50]         14\n",
       "(50, 100]         9\n",
       "(20, 30]          7\n",
       "(5, 10]           1\n",
       "(0, 3]            0\n",
       "(3, 5]            0\n",
       "dtype: int64"
      ]
     },
     "execution_count": 50,
     "metadata": {},
     "output_type": "execute_result"
    }
   ],
   "source": [
    "(fueleco2['rangeA']\n",
    " .fillna('0')\n",
    " .str.replace('-', '/')\n",
    " .str.split('/', expand=True)\n",
    " .astype('float')\n",
    " .mean(axis=1)\n",
    " .pipe(lambda ser: pd.cut(ser, [-1, 0, 3, 5, 10, 20, 30, 50, 100, 300, 500]))\n",
    " .value_counts()\n",
    ")"
   ]
  },
  {
   "cell_type": "code",
   "execution_count": 55,
   "metadata": {},
   "outputs": [
    {
     "data": {
      "text/plain": [
       "(5.999, 13.0]    5939\n",
       "(19.0, 21.0]     4477\n",
       "(14.0, 15.0]     4381\n",
       "(17.0, 18.0]     3912\n",
       "(16.0, 17.0]     3881\n",
       "(15.0, 16.0]     3855\n",
       "(21.0, 24.0]     3676\n",
       "(24.0, 150.0]    3235\n",
       "(13.0, 14.0]     2898\n",
       "(18.0, 19.0]     2847\n",
       "Name: city08, dtype: int64"
      ]
     },
     "execution_count": 55,
     "metadata": {},
     "output_type": "execute_result"
    }
   ],
   "source": [
    "(fueleco2['city08']\n",
    " .pipe(lambda ser: pd.qcut(ser, 10))\n",
    " .value_counts()\n",
    ")"
   ]
  },
  {
   "cell_type": "code",
   "execution_count": 56,
   "metadata": {},
   "outputs": [
    {
     "data": {
      "text/plain": [
       "count    39101.000000\n",
       "mean        18.077799\n",
       "std          6.970672\n",
       "min          6.000000\n",
       "25%         15.000000\n",
       "50%         17.000000\n",
       "75%         20.000000\n",
       "max        150.000000\n",
       "Name: city08, dtype: float64"
      ]
     },
     "execution_count": 56,
     "metadata": {},
     "output_type": "execute_result"
    }
   ],
   "source": [
    "fueleco2['city08'].describe()"
   ]
  },
  {
   "cell_type": "code",
   "execution_count": 59,
   "metadata": {},
   "outputs": [
    {
     "data": {
      "text/plain": [
       "<AxesSubplot:>"
      ]
     },
     "execution_count": 59,
     "metadata": {},
     "output_type": "execute_result"
    },
    {
     "data": {
      "image/png": "[encoded data removed]",
      "text/plain": [
       "<Figure size 864x216 with 1 Axes>"
      ]
     },
     "metadata": {
      "needs_background": "light"
     },
     "output_type": "display_data"
    }
   ],
   "source": [
    "fig, ax = plt.subplots(1, 1, figsize=(12, 3))\n",
    "fueleco2['city08'].hist(ax=ax, range=(0, 50), bins=30)"
   ]
  },
  {
   "cell_type": "code",
   "execution_count": 63,
   "metadata": {},
   "outputs": [
    {
     "data": {
      "text/html": [
       "<div>\n",
       "<style scoped>\n",
       "    .dataframe tbody tr th:only-of-type {\n",
       "        vertical-align: middle;\n",
       "    }\n",
       "\n",
       "    .dataframe tbody tr th {\n",
       "        vertical-align: top;\n",
       "    }\n",
       "\n",
       "    .dataframe thead th {\n",
       "        text-align: right;\n",
       "    }\n",
       "</style>\n",
       "<table border=\"1\" class=\"dataframe\">\n",
       "  <thead>\n",
       "    <tr style=\"text-align: right;\">\n",
       "      <th></th>\n",
       "      <th>mean</th>\n",
       "      <th>std</th>\n",
       "    </tr>\n",
       "    <tr>\n",
       "      <th>make</th>\n",
       "      <th></th>\n",
       "      <th></th>\n",
       "    </tr>\n",
       "  </thead>\n",
       "  <tbody>\n",
       "    <tr>\n",
       "      <th>BMW</th>\n",
       "      <td>17.817377</td>\n",
       "      <td>7.372907</td>\n",
       "    </tr>\n",
       "    <tr>\n",
       "      <th>Ford</th>\n",
       "      <td>16.853803</td>\n",
       "      <td>6.701029</td>\n",
       "    </tr>\n",
       "    <tr>\n",
       "      <th>Honda</th>\n",
       "      <td>24.372973</td>\n",
       "      <td>9.154064</td>\n",
       "    </tr>\n",
       "    <tr>\n",
       "      <th>Tesla</th>\n",
       "      <td>92.826087</td>\n",
       "      <td>5.538970</td>\n",
       "    </tr>\n",
       "  </tbody>\n",
       "</table>\n",
       "</div>"
      ],
      "text/plain": [
       "            mean       std\n",
       "make                      \n",
       "BMW    17.817377  7.372907\n",
       "Ford   16.853803  6.701029\n",
       "Honda  24.372973  9.154064\n",
       "Tesla  92.826087  5.538970"
      ]
     },
     "execution_count": 63,
     "metadata": {},
     "output_type": "execute_result"
    }
   ],
   "source": [
    "mask = fueleco['make'].isin(['Ford', 'Honda', 'Tesla', 'BMW'])\n",
    "(fueleco.loc[mask, :]\n",
    " .groupby('make')['city08']\n",
    " .agg(['mean', 'std'])\n",
    ")"
   ]
  },
  {
   "cell_type": "code",
   "execution_count": 68,
   "metadata": {},
   "outputs": [
    {
     "data": {
      "text/plain": [
       "<AxesSubplot:xlabel='city08', ylabel='make'>"
      ]
     },
     "execution_count": 68,
     "metadata": {},
     "output_type": "execute_result"
    },
    {
     "data": {
      "image/png": "[encoded data removed]",
      "text/plain": [
       "<Figure size 864x216 with 1 Axes>"
      ]
     },
     "metadata": {
      "needs_background": "light"
     },
     "output_type": "display_data"
    }
   ],
   "source": [
    "fig, ax = plt.subplots(1, 1, figsize=(12, 3))\n",
    "sns.boxplot(y='make', x='city08', data=fueleco.loc[mask, :])"
   ]
  },
  {
   "cell_type": "code",
   "execution_count": 66,
   "metadata": {},
   "outputs": [
    {
     "data": {
      "text/plain": [
       "make\n",
       "BMW      1807\n",
       "Ford     3208\n",
       "Honda     925\n",
       "Tesla      46\n",
       "Name: city08, dtype: int64"
      ]
     },
     "execution_count": 66,
     "metadata": {},
     "output_type": "execute_result"
    }
   ],
   "source": [
    "fueleco.loc[mask, :].groupby('make')['city08'].count()"
   ]
  },
  {
   "cell_type": "code",
   "execution_count": 76,
   "metadata": {},
   "outputs": [
    {
     "data": {
      "image/png": "[encoded data removed]",
      "text/plain": [
       "<Figure size 1728x216 with 4 Axes>"
      ]
     },
     "metadata": {
      "needs_background": "light"
     },
     "output_type": "display_data"
    }
   ],
   "source": [
    "g = sns.catplot(y='make', x='city08', data=fueleco.loc[mask, :], col='year', col_order=[2012, 2014, 2016, 2018], kind='box', height=3, aspect=2)"
   ]
  },
  {
   "cell_type": "code",
   "execution_count": 77,
   "metadata": {},
   "outputs": [
    {
     "data": {
      "image/png": "[encoded data removed]",
      "text/plain": [
       "<Figure size 493.5x216 with 1 Axes>"
      ]
     },
     "metadata": {
      "needs_background": "light"
     },
     "output_type": "display_data"
    }
   ],
   "source": [
    "g = sns.catplot(y='make', x='city08', data=fueleco.loc[mask, :], hue='year', hue_order=[2012, 2014, 2016, 2018], kind='box', height=3, aspect=2)"
   ]
  },
  {
   "cell_type": "code",
   "execution_count": 79,
   "metadata": {},
   "outputs": [
    {
     "data": {
      "text/plain": [
       "0.932494506228482"
      ]
     },
     "execution_count": 79,
     "metadata": {},
     "output_type": "execute_result"
    }
   ],
   "source": [
    "fueleco['city08'].corr(fueleco['highway08'], method='pearson')"
   ]
  },
  {
   "cell_type": "code",
   "execution_count": 90,
   "metadata": {},
   "outputs": [
    {
     "data": {
      "text/plain": [
       "<AxesSubplot:>"
      ]
     },
     "execution_count": 90,
     "metadata": {},
     "output_type": "execute_result"
    },
    {
     "data": {
      "image/png": "[encoded data removed]",
      "text/plain": [
       "<Figure size 576x288 with 2 Axes>"
      ]
     },
     "metadata": {
      "needs_background": "light"
     },
     "output_type": "display_data"
    }
   ],
   "source": [
    "fig, ax = plt.subplots(figsize=(8, 4))\n",
    "corr = fueleco.loc[:, ['city08', 'highway08', 'cylinders']].corr()\n",
    "mask = np.zeros_like(corr, dtype='bool')\n",
    "mask[np.triu_indices_from(mask)] = True\n",
    "sns.heatmap(corr, annot=True, mask=mask, vmin=-1, vmax=1, fmt='.2f')"
   ]
  },
  {
   "cell_type": "code",
   "execution_count": 91,
   "metadata": {},
   "outputs": [
    {
     "data": {
      "text/plain": [
       "<AxesSubplot:xlabel='city08', ylabel='highway08'>"
      ]
     },
     "execution_count": 91,
     "metadata": {},
     "output_type": "execute_result"
    },
    {
     "data": {
      "image/png": "[encoded data removed]",
      "text/plain": [
       "<Figure size 864x216 with 1 Axes>"
      ]
     },
     "metadata": {
      "needs_background": "light"
     },
     "output_type": "display_data"
    }
   ],
   "source": [
    "fig, ax = plt.subplots(1, 1, figsize=(12, 3))\n",
    "fueleco.plot.scatter(x='city08', y='highway08', alpha=0.1, ax=ax)"
   ]
  },
  {
   "cell_type": "code",
   "execution_count": 95,
   "metadata": {},
   "outputs": [
    {
     "data": {
      "text/plain": [
       "<seaborn.axisgrid.FacetGrid at 0x28410b437f0>"
      ]
     },
     "execution_count": 95,
     "metadata": {},
     "output_type": "execute_result"
    },
    {
     "data": {
      "image/png": "[encoded data removed]",
      "text/plain": [
       "<Figure size 648x216 with 1 Axes>"
      ]
     },
     "metadata": {
      "needs_background": "light"
     },
     "output_type": "display_data"
    }
   ],
   "source": [
    "sns.lmplot(data=fueleco, x='city08', y='highway08', scatter_kws={'s':5, 'alpha':0.1}, height=3, aspect=3)"
   ]
  },
  {
   "cell_type": "code",
   "execution_count": 96,
   "metadata": {},
   "outputs": [],
   "source": [
    "def generalize(ser, match_name, default):\n",
    "    seen = None\n",
    "    for match, name in match_name:\n",
    "        mask = ser.str.contains(match)\n",
    "        if seen is None:\n",
    "            seen = mask\n",
    "        else:\n",
    "            seen |= mask\n",
    "        ser = ser.where(~mask, name)\n",
    "    ser = ser.where(seen, default)\n",
    "    return ser"
   ]
  },
  {
   "cell_type": "code",
   "execution_count": 101,
   "metadata": {},
   "outputs": [
    {
     "data": {
      "text/html": [
       "<div>\n",
       "<style scoped>\n",
       "    .dataframe tbody tr th:only-of-type {\n",
       "        vertical-align: middle;\n",
       "    }\n",
       "\n",
       "    .dataframe tbody tr th {\n",
       "        vertical-align: top;\n",
       "    }\n",
       "\n",
       "    .dataframe thead th {\n",
       "        text-align: right;\n",
       "    }\n",
       "</style>\n",
       "<table border=\"1\" class=\"dataframe\">\n",
       "  <thead>\n",
       "    <tr style=\"text-align: right;\">\n",
       "      <th></th>\n",
       "      <th>barrels08</th>\n",
       "      <th>barrelsA08</th>\n",
       "      <th>charge120</th>\n",
       "      <th>charge240</th>\n",
       "      <th>city08</th>\n",
       "      <th>city08U</th>\n",
       "      <th>cityA08</th>\n",
       "      <th>cityA08U</th>\n",
       "      <th>cityCD</th>\n",
       "      <th>cityE</th>\n",
       "      <th>...</th>\n",
       "      <th>c240Dscr</th>\n",
       "      <th>charge240b</th>\n",
       "      <th>c240bDscr</th>\n",
       "      <th>createdOn</th>\n",
       "      <th>modifiedOn</th>\n",
       "      <th>startStop</th>\n",
       "      <th>phevCity</th>\n",
       "      <th>phevHwy</th>\n",
       "      <th>phevComb</th>\n",
       "      <th>SClass</th>\n",
       "    </tr>\n",
       "  </thead>\n",
       "  <tbody>\n",
       "    <tr>\n",
       "      <th>20</th>\n",
       "      <td>20.600625</td>\n",
       "      <td>0.0</td>\n",
       "      <td>0.0</td>\n",
       "      <td>0.0</td>\n",
       "      <td>14</td>\n",
       "      <td>0.0</td>\n",
       "      <td>0</td>\n",
       "      <td>0.0</td>\n",
       "      <td>0.0</td>\n",
       "      <td>0.0</td>\n",
       "      <td>...</td>\n",
       "      <td>NaN</td>\n",
       "      <td>0.0</td>\n",
       "      <td>NaN</td>\n",
       "      <td>2013-01-01</td>\n",
       "      <td>2013-01-01</td>\n",
       "      <td>NaN</td>\n",
       "      <td>0</td>\n",
       "      <td>0</td>\n",
       "      <td>0</td>\n",
       "      <td>Car</td>\n",
       "    </tr>\n",
       "    <tr>\n",
       "      <th>21</th>\n",
       "      <td>20.600625</td>\n",
       "      <td>0.0</td>\n",
       "      <td>0.0</td>\n",
       "      <td>0.0</td>\n",
       "      <td>14</td>\n",
       "      <td>0.0</td>\n",
       "      <td>0</td>\n",
       "      <td>0.0</td>\n",
       "      <td>0.0</td>\n",
       "      <td>0.0</td>\n",
       "      <td>...</td>\n",
       "      <td>NaN</td>\n",
       "      <td>0.0</td>\n",
       "      <td>NaN</td>\n",
       "      <td>2013-01-01</td>\n",
       "      <td>2013-01-01</td>\n",
       "      <td>NaN</td>\n",
       "      <td>0</td>\n",
       "      <td>0</td>\n",
       "      <td>0</td>\n",
       "      <td>Car</td>\n",
       "    </tr>\n",
       "    <tr>\n",
       "      <th>22</th>\n",
       "      <td>25.354615</td>\n",
       "      <td>0.0</td>\n",
       "      <td>0.0</td>\n",
       "      <td>0.0</td>\n",
       "      <td>11</td>\n",
       "      <td>0.0</td>\n",
       "      <td>0</td>\n",
       "      <td>0.0</td>\n",
       "      <td>0.0</td>\n",
       "      <td>0.0</td>\n",
       "      <td>...</td>\n",
       "      <td>NaN</td>\n",
       "      <td>0.0</td>\n",
       "      <td>NaN</td>\n",
       "      <td>2013-01-01</td>\n",
       "      <td>2013-01-01</td>\n",
       "      <td>NaN</td>\n",
       "      <td>0</td>\n",
       "      <td>0</td>\n",
       "      <td>0</td>\n",
       "      <td>Car</td>\n",
       "    </tr>\n",
       "    <tr>\n",
       "      <th>56</th>\n",
       "      <td>15.695714</td>\n",
       "      <td>0.0</td>\n",
       "      <td>0.0</td>\n",
       "      <td>0.0</td>\n",
       "      <td>18</td>\n",
       "      <td>0.0</td>\n",
       "      <td>0</td>\n",
       "      <td>0.0</td>\n",
       "      <td>0.0</td>\n",
       "      <td>0.0</td>\n",
       "      <td>...</td>\n",
       "      <td>NaN</td>\n",
       "      <td>0.0</td>\n",
       "      <td>NaN</td>\n",
       "      <td>2013-01-01</td>\n",
       "      <td>2013-01-01</td>\n",
       "      <td>NaN</td>\n",
       "      <td>0</td>\n",
       "      <td>0</td>\n",
       "      <td>0</td>\n",
       "      <td>Car</td>\n",
       "    </tr>\n",
       "    <tr>\n",
       "      <th>57</th>\n",
       "      <td>17.347895</td>\n",
       "      <td>0.0</td>\n",
       "      <td>0.0</td>\n",
       "      <td>0.0</td>\n",
       "      <td>16</td>\n",
       "      <td>0.0</td>\n",
       "      <td>0</td>\n",
       "      <td>0.0</td>\n",
       "      <td>0.0</td>\n",
       "      <td>0.0</td>\n",
       "      <td>...</td>\n",
       "      <td>NaN</td>\n",
       "      <td>0.0</td>\n",
       "      <td>NaN</td>\n",
       "      <td>2013-01-01</td>\n",
       "      <td>2013-01-01</td>\n",
       "      <td>NaN</td>\n",
       "      <td>0</td>\n",
       "      <td>0</td>\n",
       "      <td>0</td>\n",
       "      <td>Car</td>\n",
       "    </tr>\n",
       "    <tr>\n",
       "      <th>...</th>\n",
       "      <td>...</td>\n",
       "      <td>...</td>\n",
       "      <td>...</td>\n",
       "      <td>...</td>\n",
       "      <td>...</td>\n",
       "      <td>...</td>\n",
       "      <td>...</td>\n",
       "      <td>...</td>\n",
       "      <td>...</td>\n",
       "      <td>...</td>\n",
       "      <td>...</td>\n",
       "      <td>...</td>\n",
       "      <td>...</td>\n",
       "      <td>...</td>\n",
       "      <td>...</td>\n",
       "      <td>...</td>\n",
       "      <td>...</td>\n",
       "      <td>...</td>\n",
       "      <td>...</td>\n",
       "      <td>...</td>\n",
       "      <td>...</td>\n",
       "    </tr>\n",
       "    <tr>\n",
       "      <th>39016</th>\n",
       "      <td>13.733750</td>\n",
       "      <td>0.0</td>\n",
       "      <td>0.0</td>\n",
       "      <td>0.0</td>\n",
       "      <td>21</td>\n",
       "      <td>0.0</td>\n",
       "      <td>0</td>\n",
       "      <td>0.0</td>\n",
       "      <td>0.0</td>\n",
       "      <td>0.0</td>\n",
       "      <td>...</td>\n",
       "      <td>NaN</td>\n",
       "      <td>0.0</td>\n",
       "      <td>NaN</td>\n",
       "      <td>2013-01-01</td>\n",
       "      <td>2013-01-01</td>\n",
       "      <td>NaN</td>\n",
       "      <td>0</td>\n",
       "      <td>0</td>\n",
       "      <td>0</td>\n",
       "      <td>Car</td>\n",
       "    </tr>\n",
       "    <tr>\n",
       "      <th>39017</th>\n",
       "      <td>17.347895</td>\n",
       "      <td>0.0</td>\n",
       "      <td>0.0</td>\n",
       "      <td>0.0</td>\n",
       "      <td>18</td>\n",
       "      <td>0.0</td>\n",
       "      <td>0</td>\n",
       "      <td>0.0</td>\n",
       "      <td>0.0</td>\n",
       "      <td>0.0</td>\n",
       "      <td>...</td>\n",
       "      <td>NaN</td>\n",
       "      <td>0.0</td>\n",
       "      <td>NaN</td>\n",
       "      <td>2013-01-01</td>\n",
       "      <td>2013-01-01</td>\n",
       "      <td>NaN</td>\n",
       "      <td>0</td>\n",
       "      <td>0</td>\n",
       "      <td>0</td>\n",
       "      <td>Car</td>\n",
       "    </tr>\n",
       "    <tr>\n",
       "      <th>39018</th>\n",
       "      <td>15.695714</td>\n",
       "      <td>0.0</td>\n",
       "      <td>0.0</td>\n",
       "      <td>0.0</td>\n",
       "      <td>19</td>\n",
       "      <td>0.0</td>\n",
       "      <td>0</td>\n",
       "      <td>0.0</td>\n",
       "      <td>0.0</td>\n",
       "      <td>0.0</td>\n",
       "      <td>...</td>\n",
       "      <td>NaN</td>\n",
       "      <td>0.0</td>\n",
       "      <td>NaN</td>\n",
       "      <td>2013-01-01</td>\n",
       "      <td>2013-01-01</td>\n",
       "      <td>NaN</td>\n",
       "      <td>0</td>\n",
       "      <td>0</td>\n",
       "      <td>0</td>\n",
       "      <td>Car</td>\n",
       "    </tr>\n",
       "    <tr>\n",
       "      <th>39023</th>\n",
       "      <td>14.982273</td>\n",
       "      <td>0.0</td>\n",
       "      <td>0.0</td>\n",
       "      <td>0.0</td>\n",
       "      <td>19</td>\n",
       "      <td>0.0</td>\n",
       "      <td>0</td>\n",
       "      <td>0.0</td>\n",
       "      <td>0.0</td>\n",
       "      <td>0.0</td>\n",
       "      <td>...</td>\n",
       "      <td>NaN</td>\n",
       "      <td>0.0</td>\n",
       "      <td>NaN</td>\n",
       "      <td>2013-01-01</td>\n",
       "      <td>2013-01-01</td>\n",
       "      <td>NaN</td>\n",
       "      <td>0</td>\n",
       "      <td>0</td>\n",
       "      <td>0</td>\n",
       "      <td>Car</td>\n",
       "    </tr>\n",
       "    <tr>\n",
       "      <th>39025</th>\n",
       "      <td>13.733750</td>\n",
       "      <td>0.0</td>\n",
       "      <td>0.0</td>\n",
       "      <td>0.0</td>\n",
       "      <td>21</td>\n",
       "      <td>0.0</td>\n",
       "      <td>0</td>\n",
       "      <td>0.0</td>\n",
       "      <td>0.0</td>\n",
       "      <td>0.0</td>\n",
       "      <td>...</td>\n",
       "      <td>NaN</td>\n",
       "      <td>0.0</td>\n",
       "      <td>NaN</td>\n",
       "      <td>2013-01-01</td>\n",
       "      <td>2013-01-01</td>\n",
       "      <td>NaN</td>\n",
       "      <td>0</td>\n",
       "      <td>0</td>\n",
       "      <td>0</td>\n",
       "      <td>Car</td>\n",
       "    </tr>\n",
       "  </tbody>\n",
       "</table>\n",
       "<p>5986 rows × 84 columns</p>\n",
       "</div>"
      ],
      "text/plain": [
       "       barrels08  barrelsA08  charge120  charge240  city08  city08U  cityA08  \\\n",
       "20     20.600625         0.0        0.0        0.0      14      0.0        0   \n",
       "21     20.600625         0.0        0.0        0.0      14      0.0        0   \n",
       "22     25.354615         0.0        0.0        0.0      11      0.0        0   \n",
       "56     15.695714         0.0        0.0        0.0      18      0.0        0   \n",
       "57     17.347895         0.0        0.0        0.0      16      0.0        0   \n",
       "...          ...         ...        ...        ...     ...      ...      ...   \n",
       "39016  13.733750         0.0        0.0        0.0      21      0.0        0   \n",
       "39017  17.347895         0.0        0.0        0.0      18      0.0        0   \n",
       "39018  15.695714         0.0        0.0        0.0      19      0.0        0   \n",
       "39023  14.982273         0.0        0.0        0.0      19      0.0        0   \n",
       "39025  13.733750         0.0        0.0        0.0      21      0.0        0   \n",
       "\n",
       "       cityA08U  cityCD  cityE  ...  c240Dscr  charge240b  c240bDscr  \\\n",
       "20          0.0     0.0    0.0  ...       NaN         0.0        NaN   \n",
       "21          0.0     0.0    0.0  ...       NaN         0.0        NaN   \n",
       "22          0.0     0.0    0.0  ...       NaN         0.0        NaN   \n",
       "56          0.0     0.0    0.0  ...       NaN         0.0        NaN   \n",
       "57          0.0     0.0    0.0  ...       NaN         0.0        NaN   \n",
       "...         ...     ...    ...  ...       ...         ...        ...   \n",
       "39016       0.0     0.0    0.0  ...       NaN         0.0        NaN   \n",
       "39017       0.0     0.0    0.0  ...       NaN         0.0        NaN   \n",
       "39018       0.0     0.0    0.0  ...       NaN         0.0        NaN   \n",
       "39023       0.0     0.0    0.0  ...       NaN         0.0        NaN   \n",
       "39025       0.0     0.0    0.0  ...       NaN         0.0        NaN   \n",
       "\n",
       "       createdOn  modifiedOn  startStop  phevCity  phevHwy  phevComb  SClass  \n",
       "20    2013-01-01  2013-01-01        NaN         0        0         0     Car  \n",
       "21    2013-01-01  2013-01-01        NaN         0        0         0     Car  \n",
       "22    2013-01-01  2013-01-01        NaN         0        0         0     Car  \n",
       "56    2013-01-01  2013-01-01        NaN         0        0         0     Car  \n",
       "57    2013-01-01  2013-01-01        NaN         0        0         0     Car  \n",
       "...          ...         ...        ...       ...      ...       ...     ...  \n",
       "39016 2013-01-01  2013-01-01        NaN         0        0         0     Car  \n",
       "39017 2013-01-01  2013-01-01        NaN         0        0         0     Car  \n",
       "39018 2013-01-01  2013-01-01        NaN         0        0         0     Car  \n",
       "39023 2013-01-01  2013-01-01        NaN         0        0         0     Car  \n",
       "39025 2013-01-01  2013-01-01        NaN         0        0         0     Car  \n",
       "\n",
       "[5986 rows x 84 columns]"
      ]
     },
     "execution_count": 101,
     "metadata": {},
     "output_type": "execute_result"
    }
   ],
   "source": [
    "match_name = [('Seaters', 'Car'), ('Car', 'Car'), ('Utility', 'SUV'),\n",
    "     ('Truck', 'Truck'), ('Van', 'Van'), ('van', 'Van'),\n",
    "     ('Wagon', 'Wagon')]\n",
    "data = (fueleco.loc[fueleco['make'].isin(['Ford', 'Honda', 'Tesla', 'BMW']), :]\n",
    "        .assign(SClass=lambda df: generalize(df.VClass, match_name, 'Other'))\n",
    ")\n",
    "data"
   ]
  },
  {
   "cell_type": "code",
   "execution_count": 104,
   "metadata": {},
   "outputs": [
    {
     "data": {
      "text/html": [
       "<div>\n",
       "<style scoped>\n",
       "    .dataframe tbody tr th:only-of-type {\n",
       "        vertical-align: middle;\n",
       "    }\n",
       "\n",
       "    .dataframe tbody tr th {\n",
       "        vertical-align: top;\n",
       "    }\n",
       "\n",
       "    .dataframe thead th {\n",
       "        text-align: right;\n",
       "    }\n",
       "</style>\n",
       "<table border=\"1\" class=\"dataframe\">\n",
       "  <thead>\n",
       "    <tr style=\"text-align: right;\">\n",
       "      <th>SClass</th>\n",
       "      <th>Car</th>\n",
       "      <th>Other</th>\n",
       "      <th>SUV</th>\n",
       "      <th>Truck</th>\n",
       "      <th>Van</th>\n",
       "      <th>Wagon</th>\n",
       "    </tr>\n",
       "    <tr>\n",
       "      <th>make</th>\n",
       "      <th></th>\n",
       "      <th></th>\n",
       "      <th></th>\n",
       "      <th></th>\n",
       "      <th></th>\n",
       "      <th></th>\n",
       "    </tr>\n",
       "  </thead>\n",
       "  <tbody>\n",
       "    <tr>\n",
       "      <th>BMW</th>\n",
       "      <td>1557</td>\n",
       "      <td>0</td>\n",
       "      <td>158</td>\n",
       "      <td>0</td>\n",
       "      <td>0</td>\n",
       "      <td>92</td>\n",
       "    </tr>\n",
       "    <tr>\n",
       "      <th>Ford</th>\n",
       "      <td>1075</td>\n",
       "      <td>234</td>\n",
       "      <td>372</td>\n",
       "      <td>1040</td>\n",
       "      <td>332</td>\n",
       "      <td>155</td>\n",
       "    </tr>\n",
       "    <tr>\n",
       "      <th>Honda</th>\n",
       "      <td>600</td>\n",
       "      <td>28</td>\n",
       "      <td>154</td>\n",
       "      <td>13</td>\n",
       "      <td>30</td>\n",
       "      <td>100</td>\n",
       "    </tr>\n",
       "    <tr>\n",
       "      <th>Tesla</th>\n",
       "      <td>36</td>\n",
       "      <td>0</td>\n",
       "      <td>10</td>\n",
       "      <td>0</td>\n",
       "      <td>0</td>\n",
       "      <td>0</td>\n",
       "    </tr>\n",
       "  </tbody>\n",
       "</table>\n",
       "</div>"
      ],
      "text/plain": [
       "SClass   Car  Other  SUV  Truck  Van  Wagon\n",
       "make                                       \n",
       "BMW     1557      0  158      0    0     92\n",
       "Ford    1075    234  372   1040  332    155\n",
       "Honda    600     28  154     13   30    100\n",
       "Tesla     36      0   10      0    0      0"
      ]
     },
     "execution_count": 104,
     "metadata": {},
     "output_type": "execute_result"
    }
   ],
   "source": [
    "data.groupby(['make', 'SClass']).size().unstack(fill_value=0)"
   ]
  },
  {
   "cell_type": "code",
   "execution_count": 106,
   "metadata": {},
   "outputs": [
    {
     "data": {
      "text/html": [
       "<div>\n",
       "<style scoped>\n",
       "    .dataframe tbody tr th:only-of-type {\n",
       "        vertical-align: middle;\n",
       "    }\n",
       "\n",
       "    .dataframe tbody tr th {\n",
       "        vertical-align: top;\n",
       "    }\n",
       "\n",
       "    .dataframe thead th {\n",
       "        text-align: right;\n",
       "    }\n",
       "</style>\n",
       "<table border=\"1\" class=\"dataframe\">\n",
       "  <thead>\n",
       "    <tr style=\"text-align: right;\">\n",
       "      <th>SClass</th>\n",
       "      <th>Car</th>\n",
       "      <th>Other</th>\n",
       "      <th>SUV</th>\n",
       "      <th>Truck</th>\n",
       "      <th>Van</th>\n",
       "      <th>Wagon</th>\n",
       "    </tr>\n",
       "    <tr>\n",
       "      <th>make</th>\n",
       "      <th></th>\n",
       "      <th></th>\n",
       "      <th></th>\n",
       "      <th></th>\n",
       "      <th></th>\n",
       "      <th></th>\n",
       "    </tr>\n",
       "  </thead>\n",
       "  <tbody>\n",
       "    <tr>\n",
       "      <th>BMW</th>\n",
       "      <td>0.260107</td>\n",
       "      <td>0.000000</td>\n",
       "      <td>0.026395</td>\n",
       "      <td>0.000000</td>\n",
       "      <td>0.000000</td>\n",
       "      <td>0.015369</td>\n",
       "    </tr>\n",
       "    <tr>\n",
       "      <th>Ford</th>\n",
       "      <td>0.179586</td>\n",
       "      <td>0.039091</td>\n",
       "      <td>0.062145</td>\n",
       "      <td>0.173739</td>\n",
       "      <td>0.055463</td>\n",
       "      <td>0.025894</td>\n",
       "    </tr>\n",
       "    <tr>\n",
       "      <th>Honda</th>\n",
       "      <td>0.100234</td>\n",
       "      <td>0.004678</td>\n",
       "      <td>0.025727</td>\n",
       "      <td>0.002172</td>\n",
       "      <td>0.005012</td>\n",
       "      <td>0.016706</td>\n",
       "    </tr>\n",
       "    <tr>\n",
       "      <th>Tesla</th>\n",
       "      <td>0.006014</td>\n",
       "      <td>0.000000</td>\n",
       "      <td>0.001671</td>\n",
       "      <td>0.000000</td>\n",
       "      <td>0.000000</td>\n",
       "      <td>0.000000</td>\n",
       "    </tr>\n",
       "  </tbody>\n",
       "</table>\n",
       "</div>"
      ],
      "text/plain": [
       "SClass       Car     Other       SUV     Truck       Van     Wagon\n",
       "make                                                              \n",
       "BMW     0.260107  0.000000  0.026395  0.000000  0.000000  0.015369\n",
       "Ford    0.179586  0.039091  0.062145  0.173739  0.055463  0.025894\n",
       "Honda   0.100234  0.004678  0.025727  0.002172  0.005012  0.016706\n",
       "Tesla   0.006014  0.000000  0.001671  0.000000  0.000000  0.000000"
      ]
     },
     "execution_count": 106,
     "metadata": {},
     "output_type": "execute_result"
    }
   ],
   "source": [
    "pd.crosstab(data['make'], data['SClass'], normalize=True)"
   ]
  },
  {
   "cell_type": "code",
   "execution_count": 111,
   "metadata": {},
   "outputs": [
    {
     "data": {
      "text/plain": [
       "<AxesSubplot:xlabel='make'>"
      ]
     },
     "execution_count": 111,
     "metadata": {},
     "output_type": "execute_result"
    },
    {
     "data": {
      "image/png": "[encoded data removed]",
      "text/plain": [
       "<Figure size 864x216 with 1 Axes>"
      ]
     },
     "metadata": {
      "needs_background": "light"
     },
     "output_type": "display_data"
    }
   ],
   "source": [
    "fig, ax = plt.subplots(1, 1, figsize=(12, 3))\n",
    "(data\n",
    " .pipe(lambda df: pd.crosstab(df['make'], df['SClass']))\n",
    " .plot.bar(ax=ax, rot=0)\n",
    ")"
   ]
  },
  {
   "cell_type": "code",
   "execution_count": 114,
   "metadata": {},
   "outputs": [
    {
     "data": {
      "text/plain": [
       "<seaborn.axisgrid.FacetGrid at 0x284049b0520>"
      ]
     },
     "execution_count": 114,
     "metadata": {},
     "output_type": "execute_result"
    },
    {
     "data": {
      "image/png": "[encoded data removed]",
      "text/plain": [
       "<Figure size 718.125x216 with 1 Axes>"
      ]
     },
     "metadata": {
      "needs_background": "light"
     },
     "output_type": "display_data"
    }
   ],
   "source": [
    "sns.catplot(data=data, x='make', hue='SClass', kind='count', height=3, aspect=3)"
   ]
  },
  {
   "cell_type": "code",
   "execution_count": 123,
   "metadata": {},
   "outputs": [
    {
     "data": {
      "text/plain": [
       "<AxesSubplot:xlabel='make'>"
      ]
     },
     "execution_count": 123,
     "metadata": {},
     "output_type": "execute_result"
    },
    {
     "data": {
      "image/png": "[encoded data removed]",
      "text/plain": [
       "<Figure size 864x216 with 1 Axes>"
      ]
     },
     "metadata": {
      "needs_background": "light"
     },
     "output_type": "display_data"
    }
   ],
   "source": [
    "fig, ax = plt.subplots(1, 1, figsize=(12, 3))\n",
    "(data\n",
    " .pipe(lambda df: pd.crosstab(df['make'], df['SClass']))\n",
    " .pipe(lambda df: df.div(df.sum(axis=1), axis=0))\n",
    " .plot.bar(ax=ax, stacked=True, rot=0)\n",
    ")"
   ]
  },
  {
   "cell_type": "code",
   "execution_count": null,
   "metadata": {},
   "outputs": [],
   "source": []
  }
 ],
 "metadata": {
  "kernelspec": {
   "display_name": "base",
   "language": "python",
   "name": "python3"
  },
  "language_info": {
   "codemirror_mode": {
    "name": "ipython",
    "version": 3
   },
   "file_extension": ".py",
   "mimetype": "text/x-python",
   "name": "python",
   "nbconvert_exporter": "python",
   "pygments_lexer": "ipython3",
   "version": "3.9.12"
  },
  "orig_nbformat": 4,
  "vscode": {
   "interpreter": {
    "hash": "610a6f344c2137faf927ea819c63f6cee33a2c04455044b28099f39fe9722347"
   }
  }
 },
 "nbformat": 4,
 "nbformat_minor": 2
}
