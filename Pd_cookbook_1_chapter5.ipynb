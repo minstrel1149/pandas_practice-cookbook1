{
 "cells": [
  {
   "cell_type": "code",
   "execution_count": 20,
   "metadata": {},
   "outputs": [],
   "source": [
    "import pandas as pd\n",
    "import numpy as np\n",
    "from pathlib import Path\n",
    "from pandas.testing import assert_frame_equal\n",
    "import matplotlib.pyplot as plt\n",
    "import seaborn as sns\n",
    "p1 = Path.cwd() / 'back_data'"
   ]
  },
  {
   "cell_type": "code",
   "execution_count": 7,
   "metadata": {},
   "outputs": [
    {
     "name": "stderr",
     "output_type": "stream",
     "text": [
      "C:\\Users\\admin\\AppData\\Local\\Temp\\ipykernel_12640\\3919698033.py:1: DtypeWarning: Columns (70,71,72,73,74,76,79) have mixed types. Specify dtype option on import or set low_memory=False.\n",
      "  fueleco = pd.read_csv(p1 / 'vehicles.csv.zip', parse_dates=['createdOn', 'modifiedOn'])\n",
      "c:\\Users\\admin\\anaconda3\\lib\\site-packages\\dateutil\\parser\\_parser.py:1207: UnknownTimezoneWarning: tzname EST identified but not understood.  Pass `tzinfos` argument in order to correctly return a timezone-aware datetime.  In a future version, this will raise an exception.\n",
      "  warnings.warn(\"tzname {tzname} identified but not understood.  \"\n",
      "c:\\Users\\admin\\anaconda3\\lib\\site-packages\\dateutil\\parser\\_parser.py:1207: UnknownTimezoneWarning: tzname EDT identified but not understood.  Pass `tzinfos` argument in order to correctly return a timezone-aware datetime.  In a future version, this will raise an exception.\n",
      "  warnings.warn(\"tzname {tzname} identified but not understood.  \"\n",
      "c:\\Users\\admin\\anaconda3\\lib\\site-packages\\dateutil\\parser\\_parser.py:1207: UnknownTimezoneWarning: tzname EST identified but not understood.  Pass `tzinfos` argument in order to correctly return a timezone-aware datetime.  In a future version, this will raise an exception.\n",
      "  warnings.warn(\"tzname {tzname} identified but not understood.  \"\n",
      "c:\\Users\\admin\\anaconda3\\lib\\site-packages\\dateutil\\parser\\_parser.py:1207: UnknownTimezoneWarning: tzname EDT identified but not understood.  Pass `tzinfos` argument in order to correctly return a timezone-aware datetime.  In a future version, this will raise an exception.\n",
      "  warnings.warn(\"tzname {tzname} identified but not understood.  \"\n"
     ]
    },
    {
     "data": {
      "text/html": [
       "<div>\n",
       "<style scoped>\n",
       "    .dataframe tbody tr th:only-of-type {\n",
       "        vertical-align: middle;\n",
       "    }\n",
       "\n",
       "    .dataframe tbody tr th {\n",
       "        vertical-align: top;\n",
       "    }\n",
       "\n",
       "    .dataframe thead th {\n",
       "        text-align: right;\n",
       "    }\n",
       "</style>\n",
       "<table border=\"1\" class=\"dataframe\">\n",
       "  <thead>\n",
       "    <tr style=\"text-align: right;\">\n",
       "      <th></th>\n",
       "      <th>barrels08</th>\n",
       "      <th>barrelsA08</th>\n",
       "      <th>charge120</th>\n",
       "      <th>charge240</th>\n",
       "      <th>city08</th>\n",
       "      <th>city08U</th>\n",
       "      <th>cityA08</th>\n",
       "      <th>cityA08U</th>\n",
       "      <th>cityCD</th>\n",
       "      <th>cityE</th>\n",
       "      <th>...</th>\n",
       "      <th>mfrCode</th>\n",
       "      <th>c240Dscr</th>\n",
       "      <th>charge240b</th>\n",
       "      <th>c240bDscr</th>\n",
       "      <th>createdOn</th>\n",
       "      <th>modifiedOn</th>\n",
       "      <th>startStop</th>\n",
       "      <th>phevCity</th>\n",
       "      <th>phevHwy</th>\n",
       "      <th>phevComb</th>\n",
       "    </tr>\n",
       "  </thead>\n",
       "  <tbody>\n",
       "    <tr>\n",
       "      <th>0</th>\n",
       "      <td>15.695714</td>\n",
       "      <td>0.0</td>\n",
       "      <td>0.0</td>\n",
       "      <td>0.0</td>\n",
       "      <td>19</td>\n",
       "      <td>0.0</td>\n",
       "      <td>0</td>\n",
       "      <td>0.0</td>\n",
       "      <td>0.0</td>\n",
       "      <td>0.0</td>\n",
       "      <td>...</td>\n",
       "      <td>NaN</td>\n",
       "      <td>NaN</td>\n",
       "      <td>0.0</td>\n",
       "      <td>NaN</td>\n",
       "      <td>2013-01-01</td>\n",
       "      <td>2013-01-01</td>\n",
       "      <td>NaN</td>\n",
       "      <td>0</td>\n",
       "      <td>0</td>\n",
       "      <td>0</td>\n",
       "    </tr>\n",
       "    <tr>\n",
       "      <th>1</th>\n",
       "      <td>29.964545</td>\n",
       "      <td>0.0</td>\n",
       "      <td>0.0</td>\n",
       "      <td>0.0</td>\n",
       "      <td>9</td>\n",
       "      <td>0.0</td>\n",
       "      <td>0</td>\n",
       "      <td>0.0</td>\n",
       "      <td>0.0</td>\n",
       "      <td>0.0</td>\n",
       "      <td>...</td>\n",
       "      <td>NaN</td>\n",
       "      <td>NaN</td>\n",
       "      <td>0.0</td>\n",
       "      <td>NaN</td>\n",
       "      <td>2013-01-01</td>\n",
       "      <td>2013-01-01</td>\n",
       "      <td>NaN</td>\n",
       "      <td>0</td>\n",
       "      <td>0</td>\n",
       "      <td>0</td>\n",
       "    </tr>\n",
       "    <tr>\n",
       "      <th>2</th>\n",
       "      <td>12.207778</td>\n",
       "      <td>0.0</td>\n",
       "      <td>0.0</td>\n",
       "      <td>0.0</td>\n",
       "      <td>23</td>\n",
       "      <td>0.0</td>\n",
       "      <td>0</td>\n",
       "      <td>0.0</td>\n",
       "      <td>0.0</td>\n",
       "      <td>0.0</td>\n",
       "      <td>...</td>\n",
       "      <td>NaN</td>\n",
       "      <td>NaN</td>\n",
       "      <td>0.0</td>\n",
       "      <td>NaN</td>\n",
       "      <td>2013-01-01</td>\n",
       "      <td>2013-01-01</td>\n",
       "      <td>NaN</td>\n",
       "      <td>0</td>\n",
       "      <td>0</td>\n",
       "      <td>0</td>\n",
       "    </tr>\n",
       "    <tr>\n",
       "      <th>3</th>\n",
       "      <td>29.964545</td>\n",
       "      <td>0.0</td>\n",
       "      <td>0.0</td>\n",
       "      <td>0.0</td>\n",
       "      <td>10</td>\n",
       "      <td>0.0</td>\n",
       "      <td>0</td>\n",
       "      <td>0.0</td>\n",
       "      <td>0.0</td>\n",
       "      <td>0.0</td>\n",
       "      <td>...</td>\n",
       "      <td>NaN</td>\n",
       "      <td>NaN</td>\n",
       "      <td>0.0</td>\n",
       "      <td>NaN</td>\n",
       "      <td>2013-01-01</td>\n",
       "      <td>2013-01-01</td>\n",
       "      <td>NaN</td>\n",
       "      <td>0</td>\n",
       "      <td>0</td>\n",
       "      <td>0</td>\n",
       "    </tr>\n",
       "    <tr>\n",
       "      <th>4</th>\n",
       "      <td>17.347895</td>\n",
       "      <td>0.0</td>\n",
       "      <td>0.0</td>\n",
       "      <td>0.0</td>\n",
       "      <td>17</td>\n",
       "      <td>0.0</td>\n",
       "      <td>0</td>\n",
       "      <td>0.0</td>\n",
       "      <td>0.0</td>\n",
       "      <td>0.0</td>\n",
       "      <td>...</td>\n",
       "      <td>NaN</td>\n",
       "      <td>NaN</td>\n",
       "      <td>0.0</td>\n",
       "      <td>NaN</td>\n",
       "      <td>2013-01-01</td>\n",
       "      <td>2013-01-01</td>\n",
       "      <td>NaN</td>\n",
       "      <td>0</td>\n",
       "      <td>0</td>\n",
       "      <td>0</td>\n",
       "    </tr>\n",
       "  </tbody>\n",
       "</table>\n",
       "<p>5 rows × 83 columns</p>\n",
       "</div>"
      ],
      "text/plain": [
       "   barrels08  barrelsA08  charge120  charge240  city08  city08U  cityA08  \\\n",
       "0  15.695714         0.0        0.0        0.0      19      0.0        0   \n",
       "1  29.964545         0.0        0.0        0.0       9      0.0        0   \n",
       "2  12.207778         0.0        0.0        0.0      23      0.0        0   \n",
       "3  29.964545         0.0        0.0        0.0      10      0.0        0   \n",
       "4  17.347895         0.0        0.0        0.0      17      0.0        0   \n",
       "\n",
       "   cityA08U  cityCD  cityE  ...  mfrCode  c240Dscr  charge240b  c240bDscr  \\\n",
       "0       0.0     0.0    0.0  ...      NaN       NaN         0.0        NaN   \n",
       "1       0.0     0.0    0.0  ...      NaN       NaN         0.0        NaN   \n",
       "2       0.0     0.0    0.0  ...      NaN       NaN         0.0        NaN   \n",
       "3       0.0     0.0    0.0  ...      NaN       NaN         0.0        NaN   \n",
       "4       0.0     0.0    0.0  ...      NaN       NaN         0.0        NaN   \n",
       "\n",
       "   createdOn  modifiedOn  startStop  phevCity  phevHwy  phevComb  \n",
       "0 2013-01-01  2013-01-01        NaN         0        0         0  \n",
       "1 2013-01-01  2013-01-01        NaN         0        0         0  \n",
       "2 2013-01-01  2013-01-01        NaN         0        0         0  \n",
       "3 2013-01-01  2013-01-01        NaN         0        0         0  \n",
       "4 2013-01-01  2013-01-01        NaN         0        0         0  \n",
       "\n",
       "[5 rows x 83 columns]"
      ]
     },
     "execution_count": 7,
     "metadata": {},
     "output_type": "execute_result"
    }
   ],
   "source": [
    "fueleco = pd.read_csv(p1 / 'vehicles.csv.zip', parse_dates=['createdOn', 'modifiedOn'])\n",
    "fueleco.head()"
   ]
  },
  {
   "cell_type": "code",
   "execution_count": 8,
   "metadata": {},
   "outputs": [
    {
     "name": "stdout",
     "output_type": "stream",
     "text": [
      "<class 'pandas.core.frame.DataFrame'>\n",
      "RangeIndex: 39101 entries, 0 to 39100\n",
      "Data columns (total 2 columns):\n",
      " #   Column  Non-Null Count  Dtype\n",
      "---  ------  --------------  -----\n",
      " 0   city08  39101 non-null  int64\n",
      " 1   comb08  39101 non-null  int64\n",
      "dtypes: int64(2)\n",
      "memory usage: 611.1 KB\n"
     ]
    }
   ],
   "source": [
    "# info() 메서드에 memory_usage='deep' 인자를 전달하여 메모리 사용량 확인 가능\n",
    "fueleco[['city08', 'comb08']].info(memory_usage='deep')"
   ]
  },
  {
   "cell_type": "code",
   "execution_count": 6,
   "metadata": {},
   "outputs": [
    {
     "name": "stdout",
     "output_type": "stream",
     "text": [
      "<class 'pandas.core.frame.DataFrame'>\n",
      "RangeIndex: 39101 entries, 0 to 39100\n",
      "Data columns (total 2 columns):\n",
      " #   Column  Non-Null Count  Dtype\n",
      "---  ------  --------------  -----\n",
      " 0   city08  39101 non-null  int16\n",
      " 1   comb08  39101 non-null  int16\n",
      "dtypes: int16(2)\n",
      "memory usage: 152.9 KB\n"
     ]
    }
   ],
   "source": [
    "(fueleco[['city08', 'comb08']]\n",
    "# city08과 comb08을 int16으로 변환한 후\n",
    ".assign(city08=fueleco['city08'].astype('int16'))\n",
    ".assign(comb08=fueleco['comb08'].astype('int16'))\n",
    "# info(memory_usage='deep')을 통해 메모리 사용량 확인\n",
    ".info(memory_usage='deep')\n",
    ")"
   ]
  },
  {
   "cell_type": "code",
   "execution_count": 9,
   "metadata": {},
   "outputs": [
    {
     "data": {
      "text/html": [
       "<div>\n",
       "<style scoped>\n",
       "    .dataframe tbody tr th:only-of-type {\n",
       "        vertical-align: middle;\n",
       "    }\n",
       "\n",
       "    .dataframe tbody tr th {\n",
       "        vertical-align: top;\n",
       "    }\n",
       "\n",
       "    .dataframe thead th {\n",
       "        text-align: right;\n",
       "    }\n",
       "</style>\n",
       "<table border=\"1\" class=\"dataframe\">\n",
       "  <thead>\n",
       "    <tr style=\"text-align: right;\">\n",
       "      <th></th>\n",
       "      <th>drive</th>\n",
       "      <th>fuelType</th>\n",
       "      <th>fuelType1</th>\n",
       "      <th>make</th>\n",
       "      <th>mpgData</th>\n",
       "      <th>trany</th>\n",
       "      <th>VClass</th>\n",
       "    </tr>\n",
       "  </thead>\n",
       "  <tbody>\n",
       "    <tr>\n",
       "      <th>0</th>\n",
       "      <td>Rear-Wheel Drive</td>\n",
       "      <td>Regular</td>\n",
       "      <td>Regular Gasoline</td>\n",
       "      <td>Alfa Romeo</td>\n",
       "      <td>Y</td>\n",
       "      <td>Manual 5-spd</td>\n",
       "      <td>Two Seaters</td>\n",
       "    </tr>\n",
       "    <tr>\n",
       "      <th>1</th>\n",
       "      <td>Rear-Wheel Drive</td>\n",
       "      <td>Regular</td>\n",
       "      <td>Regular Gasoline</td>\n",
       "      <td>Ferrari</td>\n",
       "      <td>N</td>\n",
       "      <td>Manual 5-spd</td>\n",
       "      <td>Two Seaters</td>\n",
       "    </tr>\n",
       "    <tr>\n",
       "      <th>2</th>\n",
       "      <td>Front-Wheel Drive</td>\n",
       "      <td>Regular</td>\n",
       "      <td>Regular Gasoline</td>\n",
       "      <td>Dodge</td>\n",
       "      <td>Y</td>\n",
       "      <td>Manual 5-spd</td>\n",
       "      <td>Subcompact Cars</td>\n",
       "    </tr>\n",
       "    <tr>\n",
       "      <th>3</th>\n",
       "      <td>Rear-Wheel Drive</td>\n",
       "      <td>Regular</td>\n",
       "      <td>Regular Gasoline</td>\n",
       "      <td>Dodge</td>\n",
       "      <td>N</td>\n",
       "      <td>Automatic 3-spd</td>\n",
       "      <td>Vans</td>\n",
       "    </tr>\n",
       "    <tr>\n",
       "      <th>4</th>\n",
       "      <td>4-Wheel or All-Wheel Drive</td>\n",
       "      <td>Premium</td>\n",
       "      <td>Premium Gasoline</td>\n",
       "      <td>Subaru</td>\n",
       "      <td>N</td>\n",
       "      <td>Manual 5-spd</td>\n",
       "      <td>Compact Cars</td>\n",
       "    </tr>\n",
       "  </tbody>\n",
       "</table>\n",
       "</div>"
      ],
      "text/plain": [
       "                        drive fuelType         fuelType1        make mpgData  \\\n",
       "0            Rear-Wheel Drive  Regular  Regular Gasoline  Alfa Romeo       Y   \n",
       "1            Rear-Wheel Drive  Regular  Regular Gasoline     Ferrari       N   \n",
       "2           Front-Wheel Drive  Regular  Regular Gasoline       Dodge       Y   \n",
       "3            Rear-Wheel Drive  Regular  Regular Gasoline       Dodge       N   \n",
       "4  4-Wheel or All-Wheel Drive  Premium  Premium Gasoline      Subaru       N   \n",
       "\n",
       "             trany           VClass  \n",
       "0     Manual 5-spd      Two Seaters  \n",
       "1     Manual 5-spd      Two Seaters  \n",
       "2     Manual 5-spd  Subcompact Cars  \n",
       "3  Automatic 3-spd             Vans  \n",
       "4     Manual 5-spd     Compact Cars  "
      ]
     },
     "execution_count": 9,
     "metadata": {},
     "output_type": "execute_result"
    }
   ],
   "source": [
    "# 카디널리티가 낮은 object 형식의 경우 category로 변경하여 메모리 절약\n",
    "# groupby 활용 시 observed=True 인자 전달 필요\n",
    "fueleco_describe = fueleco.describe(include='object').T\n",
    "low_cardi = (fueleco_describe[(fueleco_describe['unique'] / fueleco_describe['count']).le(0.01)]\n",
    ".index.tolist()\n",
    ")\n",
    "(fueleco[low_cardi].head()\n",
    ".dropna(how='any', axis=1)\n",
    ")"
   ]
  },
  {
   "cell_type": "code",
   "execution_count": 12,
   "metadata": {},
   "outputs": [
    {
     "data": {
      "text/plain": [
       "(1189, 3.0408429451932175)"
      ]
     },
     "execution_count": 12,
     "metadata": {},
     "output_type": "execute_result"
    }
   ],
   "source": [
    "fueleco['drive'].isna().sum(), fueleco['drive'].isna().mean() * 100"
   ]
  },
  {
   "cell_type": "code",
   "execution_count": 19,
   "metadata": {},
   "outputs": [
    {
     "data": {
      "text/plain": [
       "Other        23211\n",
       "Chevrolet     3900\n",
       "Ford          3208\n",
       "Dodge         2557\n",
       "GMC           2442\n",
       "Toyota        1976\n",
       "BMW           1807\n",
       "Name: make, dtype: int64"
      ]
     },
     "execution_count": 19,
     "metadata": {},
     "output_type": "execute_result"
    }
   ],
   "source": [
    "# value_counts() 메서드에서 dropna=False 인자 전달하여 NaN 확인도 가능\n",
    "top_n = fueleco['make'].value_counts().index[:6]\n",
    "(fueleco\n",
    "# 'make'열을 assign으로 변환 -> where 메서드를 통해 top_n에 들어있으면 그 값을, 아니면 Other로 지정\n",
    ".assign(make=fueleco['make'].where(fueleco['make'].isin(top_n), 'Other'))\n",
    "['make'].value_counts()\n",
    ")"
   ]
  },
  {
   "cell_type": "code",
   "execution_count": 21,
   "metadata": {},
   "outputs": [
    {
     "data": {
      "text/plain": [
       "<AxesSubplot:xlabel='make', ylabel='count'>"
      ]
     },
     "execution_count": 21,
     "metadata": {},
     "output_type": "execute_result"
    },
    {
     "data": {
      "image/png": "[encoded data removed]",
      "text/plain": [
       "<Figure size 432x288 with 1 Axes>"
      ]
     },
     "metadata": {
      "needs_background": "light"
     },
     "output_type": "display_data"
    }
   ],
   "source": [
    "# seaborn을 활용해 시각화 -> countplot() 함수의 data, x, y 파라미터 등\n",
    "sns.countplot(data=fueleco.assign(make=fueleco['make'].where(fueleco['make'].isin(top_n), 'Other')), x='make')"
   ]
  },
  {
   "cell_type": "code",
   "execution_count": 22,
   "metadata": {},
   "outputs": [
    {
     "data": {
      "text/plain": [
       "<AxesSubplot:xlabel='make', ylabel='count'>"
      ]
     },
     "execution_count": 22,
     "metadata": {},
     "output_type": "execute_result"
    },
    {
     "data": {
      "image/png": "[encoded data removed]",
      "text/plain": [
       "<Figure size 432x288 with 1 Axes>"
      ]
     },
     "metadata": {
      "needs_background": "light"
     },
     "output_type": "display_data"
    }
   ],
   "source": [
    "# countplot() 함수의 order 매개변수 활용도 가능\n",
    "sns.countplot(data=fueleco, x='make', order=top_n)"
   ]
  },
  {
   "cell_type": "code",
   "execution_count": 36,
   "metadata": {},
   "outputs": [
    {
     "data": {
      "text/plain": [
       "/    280\n",
       "-     71\n",
       "dtype: int64"
      ]
     },
     "execution_count": 36,
     "metadata": {},
     "output_type": "execute_result"
    }
   ],
   "source": [
    "# 원래 숫자를 넣으려고 했으나, '/', '-' 등으로 object 형식으로 지정된 케이스\n",
    "fueleco['rangeA'].value_counts()\n",
    "(fueleco['rangeA']\n",
    "# str 속성의 extract() 메서드 활용하여 정규표현식으로 추출 -> ^(캐럿 기호)로 숫자가 아닌 값 추출\n",
    ".str.extract(r'([^0-9.])')\n",
    ".dropna()\n",
    ".value_counts()\n",
    ")"
   ]
  },
  {
   "cell_type": "code",
   "execution_count": 51,
   "metadata": {},
   "outputs": [
    {
     "data": {
      "text/plain": [
       "(8.999, 240.0]    156\n",
       "(240.0, 270.0]    188\n",
       "(270.0, 280.0]    145\n",
       "(280.0, 290.0]    118\n",
       "(290.0, 307.0]    152\n",
       "(307.0, 320.0]    162\n",
       "(320.0, 333.8]    118\n",
       "(333.8, 354.0]    150\n",
       "(354.0, 389.6]    147\n",
       "(389.6, 449.5]    149\n",
       "dtype: int64"
      ]
     },
     "execution_count": 51,
     "metadata": {},
     "output_type": "execute_result"
    }
   ],
   "source": [
    "(fueleco['rangeA']\n",
    "# fillna()를 활용할 경우 그냥 fillna(0)은 안되고 꼭 fillna('0')이어야 함. 왜..?\n",
    ".dropna()\n",
    "# str 속성에서 '-'를 '/'로 바꾼 후\n",
    ".str.replace('-', '/')\n",
    "# '/'를 기점으로 split 진행\n",
    ".str.split('/', expand=True)\n",
    "# split 결과 NaN이 생기므로 float으로 형변환을 해줘야\n",
    ".astype('float')\n",
    ".mean(axis=1)\n",
    "# pipe() 메서드를 활용해 해당 내용을 pd.qcut() 함수로 구간 구분\n",
    ".pipe(lambda ser: pd.qcut(ser, 10))\n",
    ".value_counts(sort=False)\n",
    ")"
   ]
  },
  {
   "cell_type": "code",
   "execution_count": 52,
   "metadata": {},
   "outputs": [
    {
     "data": {
      "text/plain": [
       "count    39101.000000\n",
       "mean        18.077799\n",
       "std          6.970672\n",
       "min          6.000000\n",
       "25%         15.000000\n",
       "50%         17.000000\n",
       "75%         20.000000\n",
       "max        150.000000\n",
       "Name: city08, dtype: float64"
      ]
     },
     "execution_count": 52,
     "metadata": {},
     "output_type": "execute_result"
    }
   ],
   "source": [
    "# city08 열의 통계량 확인 -> max가 높은 오른쪽으로 꼬리가 긴 형태를 보임\n",
    "# clip() 메서드를 활용해 조정 가능 -> lower, upper 파라미터 사용\n",
    "# 혹은 히스토그램을 그린다면 range 파라미터 활용 가능 + 계급구간을 상세히 하기 위해 bin 파라미터 활용도 가능\n",
    "fueleco['city08'].describe()"
   ]
  },
  {
   "cell_type": "code",
   "execution_count": 55,
   "metadata": {},
   "outputs": [
    {
     "data": {
      "text/html": [
       "<div>\n",
       "<style scoped>\n",
       "    .dataframe tbody tr th:only-of-type {\n",
       "        vertical-align: middle;\n",
       "    }\n",
       "\n",
       "    .dataframe tbody tr th {\n",
       "        vertical-align: top;\n",
       "    }\n",
       "\n",
       "    .dataframe thead th {\n",
       "        text-align: right;\n",
       "    }\n",
       "</style>\n",
       "<table border=\"1\" class=\"dataframe\">\n",
       "  <thead>\n",
       "    <tr style=\"text-align: right;\">\n",
       "      <th></th>\n",
       "      <th>mean</th>\n",
       "      <th>std</th>\n",
       "    </tr>\n",
       "    <tr>\n",
       "      <th>make</th>\n",
       "      <th></th>\n",
       "      <th></th>\n",
       "    </tr>\n",
       "  </thead>\n",
       "  <tbody>\n",
       "    <tr>\n",
       "      <th>BMW</th>\n",
       "      <td>17.817377</td>\n",
       "      <td>7.372907</td>\n",
       "    </tr>\n",
       "    <tr>\n",
       "      <th>Ford</th>\n",
       "      <td>16.853803</td>\n",
       "      <td>6.701029</td>\n",
       "    </tr>\n",
       "    <tr>\n",
       "      <th>Honda</th>\n",
       "      <td>24.372973</td>\n",
       "      <td>9.154064</td>\n",
       "    </tr>\n",
       "    <tr>\n",
       "      <th>Tesla</th>\n",
       "      <td>92.826087</td>\n",
       "      <td>5.538970</td>\n",
       "    </tr>\n",
       "  </tbody>\n",
       "</table>\n",
       "</div>"
      ],
      "text/plain": [
       "            mean       std\n",
       "make                      \n",
       "BMW    17.817377  7.372907\n",
       "Ford   16.853803  6.701029\n",
       "Honda  24.372973  9.154064\n",
       "Tesla  92.826087  5.538970"
      ]
     },
     "execution_count": 55,
     "metadata": {},
     "output_type": "execute_result"
    }
   ],
   "source": [
    "mask = fueleco['make'].isin(['Ford', 'Honda', 'Tesla', 'BMW'])\n",
    "(fueleco[mask]\n",
    "# make열을 그룹화하여 city08열의 평균과 표준편차 확인\n",
    ".groupby('make')['city08']\n",
    ".agg(['mean', 'std'])\n",
    ")"
   ]
  },
  {
   "cell_type": "code",
   "execution_count": 58,
   "metadata": {},
   "outputs": [
    {
     "data": {
      "image/png": "[encoded data removed]",
      "text/plain": [
       "<Figure size 360x360 with 1 Axes>"
      ]
     },
     "metadata": {
      "needs_background": "light"
     },
     "output_type": "display_data"
    }
   ],
   "source": [
    "# seaborn의 catplot 함수는 axes 단계가 아닌 figure 단계에서 작동\n",
    "# kind='' 인자를 전달하여 그래프의 종류 결정\n",
    "# boxplot의 단점은 제조사의 샘플 개수를 나타내지 않는 것 -> boxplot 위에 swarmplot을 그림으로써 보완 가능(but 시간이 오래 걸림)\n",
    "g = sns.catplot(data=fueleco[mask], x='make', y='city08', kind='box')"
   ]
  },
  {
   "cell_type": "code",
   "execution_count": 59,
   "metadata": {},
   "outputs": [
    {
     "data": {
      "image/png": "[encoded data removed]",
      "text/plain": [
       "<Figure size 421.5x360 with 1 Axes>"
      ]
     },
     "metadata": {
      "needs_background": "light"
     },
     "output_type": "display_data"
    }
   ],
   "source": [
    "# seaborn의 경우 col 파라미터와 hue 파라미터 활용 가능\n",
    "# col, col_order, col_wrap, hue, hue_order 파라미터 등\n",
    "g = sns.catplot(data=fueleco[mask], x='make', y='city08', hue='year', hue_order=[2012, 2014, 2016, 2018], kind='box')"
   ]
  },
  {
   "cell_type": "code",
   "execution_count": null,
   "metadata": {},
   "outputs": [],
   "source": []
  }
 ],
 "metadata": {
  "kernelspec": {
   "display_name": "Python 3.9.12 ('base')",
   "language": "python",
   "name": "python3"
  },
  "language_info": {
   "codemirror_mode": {
    "name": "ipython",
    "version": 3
   },
   "file_extension": ".py",
   "mimetype": "text/x-python",
   "name": "python",
   "nbconvert_exporter": "python",
   "pygments_lexer": "ipython3",
   "version": "3.9.12"
  },
  "orig_nbformat": 4,
  "vscode": {
   "interpreter": {
    "hash": "610a6f344c2137faf927ea819c63f6cee33a2c04455044b28099f39fe9722347"
   }
  }
 },
 "nbformat": 4,
 "nbformat_minor": 2
}
