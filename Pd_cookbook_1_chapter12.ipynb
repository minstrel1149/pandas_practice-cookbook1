{
 "cells": [
  {
   "cell_type": "code",
   "execution_count": 1,
   "metadata": {},
   "outputs": [],
   "source": [
    "import pandas as pd\n",
    "import numpy as np\n",
    "from pathlib import Path\n",
    "from pandas.testing import assert_frame_equal\n",
    "import matplotlib.pyplot as plt\n",
    "import seaborn as sns\n",
    "import scipy.stats as ss\n",
    "p1 = Path.cwd() / 'back_data'"
   ]
  },
  {
   "cell_type": "code",
   "execution_count": 2,
   "metadata": {},
   "outputs": [],
   "source": [
    "import datetime\n",
    "import time\n",
    "from datetime import datetime, date, timedelta"
   ]
  },
  {
   "cell_type": "code",
   "execution_count": 3,
   "metadata": {},
   "outputs": [],
   "source": [
    "# 날짜와 시간 기능의 경우 파이썬은 datetime 모듈 활용\n",
    "# 반면 pandas에는 Timestamp라는 단일 객체 존재 -> numpy의 datetime64 데이터 형식에서 파생"
   ]
  },
  {
   "cell_type": "code",
   "execution_count": 5,
   "metadata": {},
   "outputs": [
    {
     "data": {
      "text/plain": [
       "datetime.datetime(2022, 8, 5, 0, 0)"
      ]
     },
     "execution_count": 5,
     "metadata": {},
     "output_type": "execute_result"
    }
   ],
   "source": [
    "# pandas 날짜 및 시간의 경우 주로 to_datetime() 함수 활용\n",
    "pd.to_datetime('2022-08-05')\n",
    "# 해당 Timestamp 객체를 파이썬의 datetime 형식으로 바꾸고 싶은 경우 to_pydatetime() 메서드 활용\n",
    "pd.to_datetime('2022-08-05').to_pydatetime()"
   ]
  },
  {
   "cell_type": "code",
   "execution_count": 6,
   "metadata": {},
   "outputs": [
    {
     "data": {
      "text/plain": [
       "(Timestamp('2022-08-05 00:00:00'),\n",
       " Timestamp('2022-05-08 00:00:00'),\n",
       " Timestamp('2022-09-27 00:00:00'))"
      ]
     },
     "execution_count": 6,
     "metadata": {},
     "output_type": "execute_result"
    }
   ],
   "source": [
    "# to_datetime() 함수의 경우 dayfirst, unit, origin 파라미터 등 활용하여 여러 형식 가능\n",
    "pd.to_datetime('2022-08-05'), pd.to_datetime('2022-05-08', dayfirst=True), pd.to_datetime(1000, unit='D', origin='2020-01-01')"
   ]
  },
  {
   "cell_type": "code",
   "execution_count": 7,
   "metadata": {},
   "outputs": [
    {
     "name": "stderr",
     "output_type": "stream",
     "text": [
      "C:\\Users\\admin\\AppData\\Local\\Temp\\ipykernel_11876\\1746190778.py:4: UserWarning: Parsing '20/12/2017' in DD/MM/YYYY format. Provide format or specify infer_datetime_format=True for consistent parsing.\n",
      "  pd.to_datetime(series1, unit='D'), pd.to_datetime(series2, errors='coerce')\n"
     ]
    },
    {
     "data": {
      "text/plain": [
       "(0   1970-01-11\n",
       " 1   1970-04-11\n",
       " 2   1972-09-27\n",
       " 3   1997-05-19\n",
       " dtype: datetime64[ns],\n",
       " 0   2015-12-05\n",
       " 1   2013-01-14\n",
       " 2   2017-12-20\n",
       " 3          NaT\n",
       " dtype: datetime64[ns])"
      ]
     },
     "execution_count": 7,
     "metadata": {},
     "output_type": "execute_result"
    }
   ],
   "source": [
    "# Series를 전달하여 Timestamp 객체를 가진 Series로 반환 가능\n",
    "series1 = pd.Series([10, 100, 1000, 10000])\n",
    "# pandas가 리스트 내 자료들을 자동으로 날짜로 상황에 맞게 변환해주나, 이러한 방식은 가급적 기피해야 -> 같은 날짜 형식으로 배치 필요\n",
    "series2 = pd.Series(['12-5-2015', '14-1-2013', '20/12/2017', '40/23/2017'])\n",
    "pd.to_datetime(series1, unit='D'), pd.to_datetime(series2, errors='coerce')"
   ]
  },
  {
   "cell_type": "code",
   "execution_count": 8,
   "metadata": {},
   "outputs": [
    {
     "data": {
      "text/plain": [
       "Timedelta('2 days 19:15:45.454000')"
      ]
     },
     "execution_count": 8,
     "metadata": {},
     "output_type": "execute_result"
    }
   ],
   "source": [
    "# pandas의 to_timedelta() 함수를 이용하여 시간량 처리(offset) 가능 -> pandas의 Timedelta 객체 활용\n",
    "pd.to_timedelta('67:15:45.454')"
   ]
  },
  {
   "cell_type": "code",
   "execution_count": 10,
   "metadata": {},
   "outputs": [
    {
     "data": {
      "text/plain": [
       "Timestamp('2023-03-16 00:00:00')"
      ]
     },
     "execution_count": 10,
     "metadata": {},
     "output_type": "execute_result"
    }
   ],
   "source": [
    "# offset의 경우 DateOffset() 함수도 이용 가능 -> years, months, days, hours, minutes, seconds 파라미터 활용\n",
    "date_offset = pd.DateOffset(years=3, months=2, days=15)\n",
    "pd.to_datetime('2020-01-01') + date_offset"
   ]
  },
  {
   "cell_type": "code",
   "execution_count": 11,
   "metadata": {},
   "outputs": [
    {
     "data": {
      "text/plain": [
       "4.0"
      ]
     },
     "execution_count": 11,
     "metadata": {},
     "output_type": "execute_result"
    }
   ],
   "source": [
    "# Timedelta 객체의 경우 각각을 더하거나 나누는 것도 가능\n",
    "pd.to_timedelta('12 days') / pd.to_timedelta('3 days')"
   ]
  },
  {
   "cell_type": "code",
   "execution_count": 15,
   "metadata": {},
   "outputs": [
    {
     "data": {
      "text/plain": [
       "(Timestamp('2022-08-06 00:00:00'), 2022, 5, 4)"
      ]
     },
     "execution_count": 15,
     "metadata": {},
     "output_type": "execute_result"
    }
   ],
   "source": [
    "# Timestamp 및 Timedelta 객체는 속성과 메서드에 많은 특징 보유\n",
    "timestamp = pd.to_datetime('2022-08-05 23:10:11')\n",
    "# ceil(), round(), floor() 메서드 활용하여 올림 등 가능\n",
    "# year, month, day, hour, minute, second 속성 활용하여 추출 가능\n",
    "# dayofweek, dayofyear, dayofweek, daysinmonth 속성 활용하여 추출 가능\n",
    "timestamp.ceil('12h'), timestamp.year, timestamp.day, timestamp.dayofweek"
   ]
  },
  {
   "cell_type": "code",
   "execution_count": 18,
   "metadata": {},
   "outputs": [
    {
     "data": {
      "text/plain": [
       "(Timedelta('5 days 05:52:00'),\n",
       " Components(days=5, hours=5, minutes=52, seconds=20, milliseconds=0, microseconds=0, nanoseconds=0),\n",
       " 453140.0)"
      ]
     },
     "execution_count": 18,
     "metadata": {},
     "output_type": "execute_result"
    }
   ],
   "source": [
    "# Timestamp 및 Timedelta 객체는 속성과 메서드에 많은 특징 보유\n",
    "timedelta = pd.to_timedelta('5 days 05:52:20')\n",
    "# ceil(), round(), floor() 메서드 활용하여 올림 등 가능\n",
    "# components 속성 활용하여 내용 파악 가능\n",
    "# total_seconds() 메서드 이용하여 총 초수 확인 가능\n",
    "timedelta.round('min'), timedelta.components, timedelta.total_seconds()"
   ]
  },
  {
   "cell_type": "code",
   "execution_count": null,
   "metadata": {},
   "outputs": [],
   "source": []
  }
 ],
 "metadata": {
  "kernelspec": {
   "display_name": "Python 3.9.12 ('base')",
   "language": "python",
   "name": "python3"
  },
  "language_info": {
   "codemirror_mode": {
    "name": "ipython",
    "version": 3
   },
   "file_extension": ".py",
   "mimetype": "text/x-python",
   "name": "python",
   "nbconvert_exporter": "python",
   "pygments_lexer": "ipython3",
   "version": "3.9.12"
  },
  "orig_nbformat": 4,
  "vscode": {
   "interpreter": {
    "hash": "610a6f344c2137faf927ea819c63f6cee33a2c04455044b28099f39fe9722347"
   }
  }
 },
 "nbformat": 4,
 "nbformat_minor": 2
}
