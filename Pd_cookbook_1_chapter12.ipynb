{
 "cells": [
  {
   "cell_type": "code",
   "execution_count": 1,
   "metadata": {},
   "outputs": [],
   "source": [
    "import pandas as pd\n",
    "import numpy as np\n",
    "from pathlib import Path\n",
    "from pandas.testing import assert_frame_equal\n",
    "import matplotlib.pyplot as plt\n",
    "import seaborn as sns\n",
    "import scipy.stats as ss\n",
    "p1 = Path.cwd() / 'back_data'"
   ]
  },
  {
   "cell_type": "code",
   "execution_count": 2,
   "metadata": {},
   "outputs": [],
   "source": [
    "import datetime\n",
    "import time\n",
    "from datetime import datetime, date, timedelta"
   ]
  },
  {
   "cell_type": "code",
   "execution_count": 3,
   "metadata": {},
   "outputs": [],
   "source": [
    "# 날짜와 시간 기능의 경우 파이썬은 datetime 모듈 활용\n",
    "# 반면 pandas에는 Timestamp라는 단일 객체 존재 -> numpy의 datetime64 데이터 형식에서 파생"
   ]
  },
  {
   "cell_type": "code",
   "execution_count": 5,
   "metadata": {},
   "outputs": [
    {
     "data": {
      "text/plain": [
       "datetime.datetime(2022, 8, 5, 0, 0)"
      ]
     },
     "execution_count": 5,
     "metadata": {},
     "output_type": "execute_result"
    }
   ],
   "source": [
    "# pandas 날짜 및 시간의 경우 주로 to_datetime() 함수 활용\n",
    "pd.to_datetime('2022-08-05')\n",
    "# 해당 Timestamp 객체를 파이썬의 datetime 형식으로 바꾸고 싶은 경우 to_pydatetime() 메서드 활용\n",
    "pd.to_datetime('2022-08-05').to_pydatetime()"
   ]
  },
  {
   "cell_type": "code",
   "execution_count": 6,
   "metadata": {},
   "outputs": [
    {
     "data": {
      "text/plain": [
       "(Timestamp('2022-08-05 00:00:00'),\n",
       " Timestamp('2022-05-08 00:00:00'),\n",
       " Timestamp('2022-09-27 00:00:00'))"
      ]
     },
     "execution_count": 6,
     "metadata": {},
     "output_type": "execute_result"
    }
   ],
   "source": [
    "# to_datetime() 함수의 경우 dayfirst, unit, origin 파라미터 등 활용하여 여러 형식 가능\n",
    "pd.to_datetime('2022-08-05'), pd.to_datetime('2022-05-08', dayfirst=True), pd.to_datetime(1000, unit='D', origin='2020-01-01')"
   ]
  },
  {
   "cell_type": "code",
   "execution_count": 7,
   "metadata": {},
   "outputs": [
    {
     "name": "stderr",
     "output_type": "stream",
     "text": [
      "C:\\Users\\admin\\AppData\\Local\\Temp\\ipykernel_11876\\1746190778.py:4: UserWarning: Parsing '20/12/2017' in DD/MM/YYYY format. Provide format or specify infer_datetime_format=True for consistent parsing.\n",
      "  pd.to_datetime(series1, unit='D'), pd.to_datetime(series2, errors='coerce')\n"
     ]
    },
    {
     "data": {
      "text/plain": [
       "(0   1970-01-11\n",
       " 1   1970-04-11\n",
       " 2   1972-09-27\n",
       " 3   1997-05-19\n",
       " dtype: datetime64[ns],\n",
       " 0   2015-12-05\n",
       " 1   2013-01-14\n",
       " 2   2017-12-20\n",
       " 3          NaT\n",
       " dtype: datetime64[ns])"
      ]
     },
     "execution_count": 7,
     "metadata": {},
     "output_type": "execute_result"
    }
   ],
   "source": [
    "# Series를 전달하여 Timestamp 객체를 가진 Series로 반환 가능\n",
    "series1 = pd.Series([10, 100, 1000, 10000])\n",
    "# pandas가 리스트 내 자료들을 자동으로 날짜로 상황에 맞게 변환해주나, 이러한 방식은 가급적 기피해야 -> 같은 날짜 형식으로 배치 필요\n",
    "series2 = pd.Series(['12-5-2015', '14-1-2013', '20/12/2017', '40/23/2017'])\n",
    "pd.to_datetime(series1, unit='D'), pd.to_datetime(series2, errors='coerce')\n",
    "# pd.date_range() 함수도 고려 필요 -> start, end, periods, freq(구분: 'H', 'D' 등) 파라미터 활용 가능"
   ]
  },
  {
   "cell_type": "code",
   "execution_count": 8,
   "metadata": {},
   "outputs": [
    {
     "data": {
      "text/plain": [
       "Timedelta('2 days 19:15:45.454000')"
      ]
     },
     "execution_count": 8,
     "metadata": {},
     "output_type": "execute_result"
    }
   ],
   "source": [
    "# pandas의 to_timedelta() 함수를 이용하여 시간량 처리(offset) 가능 -> pandas의 Timedelta 객체 활용\n",
    "pd.to_timedelta('67:15:45.454')"
   ]
  },
  {
   "cell_type": "code",
   "execution_count": 10,
   "metadata": {},
   "outputs": [
    {
     "data": {
      "text/plain": [
       "Timestamp('2023-03-16 00:00:00')"
      ]
     },
     "execution_count": 10,
     "metadata": {},
     "output_type": "execute_result"
    }
   ],
   "source": [
    "# offset의 경우 DateOffset() 함수도 이용 가능 -> years, months, days, hours, minutes, seconds 파라미터 활용\n",
    "date_offset = pd.DateOffset(years=3, months=2, days=15)\n",
    "pd.to_datetime('2020-01-01') + date_offset"
   ]
  },
  {
   "cell_type": "code",
   "execution_count": 11,
   "metadata": {},
   "outputs": [
    {
     "data": {
      "text/plain": [
       "4.0"
      ]
     },
     "execution_count": 11,
     "metadata": {},
     "output_type": "execute_result"
    }
   ],
   "source": [
    "# Timedelta 객체의 경우 각각을 더하거나 나누는 것도 가능\n",
    "pd.to_timedelta('12 days') / pd.to_timedelta('3 days')"
   ]
  },
  {
   "cell_type": "code",
   "execution_count": 15,
   "metadata": {},
   "outputs": [
    {
     "data": {
      "text/plain": [
       "(Timestamp('2022-08-06 00:00:00'), 2022, 5, 4)"
      ]
     },
     "execution_count": 15,
     "metadata": {},
     "output_type": "execute_result"
    }
   ],
   "source": [
    "# Timestamp 및 Timedelta 객체는 속성과 메서드에 많은 특징 보유\n",
    "timestamp = pd.to_datetime('2022-08-05 23:10:11')\n",
    "# ceil(), round(), floor() 메서드 활용하여 올림 등 가능\n",
    "# year, month, day, hour, minute, second 속성 활용하여 추출 가능\n",
    "# dayofweek, dayofyear, dayofweek, daysinmonth 속성 활용하여 추출 가능\n",
    "timestamp.ceil('12h'), timestamp.year, timestamp.day, timestamp.dayofweek"
   ]
  },
  {
   "cell_type": "code",
   "execution_count": 18,
   "metadata": {},
   "outputs": [
    {
     "data": {
      "text/plain": [
       "(Timedelta('5 days 05:52:00'),\n",
       " Components(days=5, hours=5, minutes=52, seconds=20, milliseconds=0, microseconds=0, nanoseconds=0),\n",
       " 453140.0)"
      ]
     },
     "execution_count": 18,
     "metadata": {},
     "output_type": "execute_result"
    }
   ],
   "source": [
    "# Timestamp 및 Timedelta 객체는 속성과 메서드에 많은 특징 보유\n",
    "timedelta = pd.to_timedelta('5 days 05:52:20')\n",
    "# ceil(), round(), floor() 메서드 활용하여 올림 등 가능\n",
    "# components 속성 활용하여 내용 파악 가능\n",
    "# total_seconds() 메서드 이용하여 총 초수 확인 가능\n",
    "timedelta.round('min'), timedelta.components, timedelta.total_seconds()"
   ]
  },
  {
   "cell_type": "code",
   "execution_count": 19,
   "metadata": {},
   "outputs": [
    {
     "data": {
      "text/plain": [
       "OFFENSE_TYPE_ID              category\n",
       "OFFENSE_CATEGORY_ID          category\n",
       "REPORTED_DATE          datetime64[ns]\n",
       "GEO_LON                       float64\n",
       "GEO_LAT                       float64\n",
       "NEIGHBORHOOD_ID              category\n",
       "IS_CRIME                        int64\n",
       "IS_TRAFFIC                      int64\n",
       "dtype: object"
      ]
     },
     "execution_count": 19,
     "metadata": {},
     "output_type": "execute_result"
    }
   ],
   "source": [
    "# hdf5 파일 형식은 대규모 데이터를 효율적으로 저장할 수 있는 파일 형식\n",
    "crime = pd.read_hdf(p1 / 'crime.h5', 'crime')\n",
    "crime.dtypes"
   ]
  },
  {
   "cell_type": "code",
   "execution_count": 20,
   "metadata": {},
   "outputs": [
    {
     "data": {
      "text/html": [
       "<div>\n",
       "<style scoped>\n",
       "    .dataframe tbody tr th:only-of-type {\n",
       "        vertical-align: middle;\n",
       "    }\n",
       "\n",
       "    .dataframe tbody tr th {\n",
       "        vertical-align: top;\n",
       "    }\n",
       "\n",
       "    .dataframe thead th {\n",
       "        text-align: right;\n",
       "    }\n",
       "</style>\n",
       "<table border=\"1\" class=\"dataframe\">\n",
       "  <thead>\n",
       "    <tr style=\"text-align: right;\">\n",
       "      <th></th>\n",
       "      <th>OFFENSE_TYPE_ID</th>\n",
       "      <th>OFFENSE_CATEGORY_ID</th>\n",
       "      <th>GEO_LON</th>\n",
       "      <th>GEO_LAT</th>\n",
       "      <th>NEIGHBORHOOD_ID</th>\n",
       "      <th>IS_CRIME</th>\n",
       "      <th>IS_TRAFFIC</th>\n",
       "    </tr>\n",
       "    <tr>\n",
       "      <th>REPORTED_DATE</th>\n",
       "      <th></th>\n",
       "      <th></th>\n",
       "      <th></th>\n",
       "      <th></th>\n",
       "      <th></th>\n",
       "      <th></th>\n",
       "      <th></th>\n",
       "    </tr>\n",
       "  </thead>\n",
       "  <tbody>\n",
       "    <tr>\n",
       "      <th>2014-06-29 02:01:00</th>\n",
       "      <td>traffic-accident-dui-duid</td>\n",
       "      <td>traffic-accident</td>\n",
       "      <td>-105.000149</td>\n",
       "      <td>39.745753</td>\n",
       "      <td>cbd</td>\n",
       "      <td>0</td>\n",
       "      <td>1</td>\n",
       "    </tr>\n",
       "    <tr>\n",
       "      <th>2014-06-29 01:54:00</th>\n",
       "      <td>vehicular-eluding-no-chase</td>\n",
       "      <td>all-other-crimes</td>\n",
       "      <td>-104.884660</td>\n",
       "      <td>39.738702</td>\n",
       "      <td>east-colfax</td>\n",
       "      <td>1</td>\n",
       "      <td>0</td>\n",
       "    </tr>\n",
       "    <tr>\n",
       "      <th>2014-06-29 02:00:00</th>\n",
       "      <td>disturbing-the-peace</td>\n",
       "      <td>public-disorder</td>\n",
       "      <td>-105.020719</td>\n",
       "      <td>39.706674</td>\n",
       "      <td>athmar-park</td>\n",
       "      <td>1</td>\n",
       "      <td>0</td>\n",
       "    </tr>\n",
       "    <tr>\n",
       "      <th>2014-06-29 02:18:00</th>\n",
       "      <td>curfew</td>\n",
       "      <td>public-disorder</td>\n",
       "      <td>-105.001552</td>\n",
       "      <td>39.769505</td>\n",
       "      <td>sunnyside</td>\n",
       "      <td>1</td>\n",
       "      <td>0</td>\n",
       "    </tr>\n",
       "    <tr>\n",
       "      <th>2014-06-29 04:17:00</th>\n",
       "      <td>aggravated-assault</td>\n",
       "      <td>aggravated-assault</td>\n",
       "      <td>-105.018557</td>\n",
       "      <td>39.679229</td>\n",
       "      <td>college-view-south-platte</td>\n",
       "      <td>1</td>\n",
       "      <td>0</td>\n",
       "    </tr>\n",
       "  </tbody>\n",
       "</table>\n",
       "</div>"
      ],
      "text/plain": [
       "                                OFFENSE_TYPE_ID OFFENSE_CATEGORY_ID  \\\n",
       "REPORTED_DATE                                                         \n",
       "2014-06-29 02:01:00   traffic-accident-dui-duid    traffic-accident   \n",
       "2014-06-29 01:54:00  vehicular-eluding-no-chase    all-other-crimes   \n",
       "2014-06-29 02:00:00        disturbing-the-peace     public-disorder   \n",
       "2014-06-29 02:18:00                      curfew     public-disorder   \n",
       "2014-06-29 04:17:00          aggravated-assault  aggravated-assault   \n",
       "\n",
       "                        GEO_LON    GEO_LAT            NEIGHBORHOOD_ID  \\\n",
       "REPORTED_DATE                                                           \n",
       "2014-06-29 02:01:00 -105.000149  39.745753                        cbd   \n",
       "2014-06-29 01:54:00 -104.884660  39.738702                east-colfax   \n",
       "2014-06-29 02:00:00 -105.020719  39.706674                athmar-park   \n",
       "2014-06-29 02:18:00 -105.001552  39.769505                  sunnyside   \n",
       "2014-06-29 04:17:00 -105.018557  39.679229  college-view-south-platte   \n",
       "\n",
       "                     IS_CRIME  IS_TRAFFIC  \n",
       "REPORTED_DATE                              \n",
       "2014-06-29 02:01:00         0           1  \n",
       "2014-06-29 01:54:00         1           0  \n",
       "2014-06-29 02:00:00         1           0  \n",
       "2014-06-29 02:18:00         1           0  \n",
       "2014-06-29 04:17:00         1           0  "
      ]
     },
     "execution_count": 20,
     "metadata": {},
     "output_type": "execute_result"
    }
   ],
   "source": [
    "# 인덱스 필터링을 위해 DatetimeIndex 설정 -> hdf 파일의 경우 read_hdf() 함수에서 index_col 파라미터는 활용 불가능\n",
    "crime = crime.set_index('REPORTED_DATE')\n",
    "crime.head()"
   ]
  },
  {
   "cell_type": "code",
   "execution_count": 23,
   "metadata": {},
   "outputs": [
    {
     "data": {
      "text/plain": [
       "(                               OFFENSE_TYPE_ID OFFENSE_CATEGORY_ID  \\\n",
       " REPORTED_DATE                                                        \n",
       " 2016-05-12 00:05:00  public-order-crimes-other    all-other-crimes   \n",
       " 2016-05-12 00:07:00                     curfew     public-disorder   \n",
       " 2016-05-12 00:13:00                 traf-other    all-other-crimes   \n",
       " 2016-05-12 00:33:00   police-false-information    all-other-crimes   \n",
       " 2016-05-12 01:01:00     traf-habitual-offender    all-other-crimes   \n",
       " \n",
       "                         GEO_LON    GEO_LAT NEIGHBORHOOD_ID  IS_CRIME  \\\n",
       " REPORTED_DATE                                                          \n",
       " 2016-05-12 00:05:00 -104.987417  39.727275    civic-center         1   \n",
       " 2016-05-12 00:07:00 -104.987432  39.726668    lincoln-park         1   \n",
       " 2016-05-12 00:13:00 -105.053191  39.719419     barnum-west         1   \n",
       " 2016-05-12 00:33:00 -104.965948  39.764498            cole         1   \n",
       " 2016-05-12 01:01:00 -104.902327  39.771602       stapleton         1   \n",
       " \n",
       "                      IS_TRAFFIC  \n",
       " REPORTED_DATE                    \n",
       " 2016-05-12 00:05:00           0  \n",
       " 2016-05-12 00:07:00           0  \n",
       " 2016-05-12 00:13:00           0  \n",
       " 2016-05-12 00:33:00           0  \n",
       " 2016-05-12 01:01:00           0  ,\n",
       "                                   OFFENSE_TYPE_ID OFFENSE_CATEGORY_ID  \\\n",
       " REPORTED_DATE                                                           \n",
       " 2016-01-01 23:15:00  traffic-accident-hit-and-run    traffic-accident   \n",
       " 2016-01-01 23:16:00              traffic-accident    traffic-accident   \n",
       " 2016-01-01 23:40:00              robbery-business             robbery   \n",
       " 2016-01-01 23:45:00          drug-cocaine-possess        drug-alcohol   \n",
       " 2016-01-01 23:48:00       drug-poss-paraphernalia        drug-alcohol   \n",
       " \n",
       "                         GEO_LON    GEO_LAT NEIGHBORHOOD_ID  IS_CRIME  \\\n",
       " REPORTED_DATE                                                          \n",
       " 2016-01-01 23:15:00 -104.996861  39.738612    civic-center         0   \n",
       " 2016-01-01 23:16:00 -105.025088  39.707590        westwood         0   \n",
       " 2016-01-01 23:40:00 -105.039236  39.726157      villa-park         1   \n",
       " 2016-01-01 23:45:00 -104.987310  39.753598     five-points         1   \n",
       " 2016-01-01 23:48:00 -104.986020  39.752541     five-points         1   \n",
       " \n",
       "                      IS_TRAFFIC  \n",
       " REPORTED_DATE                    \n",
       " 2016-01-01 23:15:00           1  \n",
       " 2016-01-01 23:16:00           1  \n",
       " 2016-01-01 23:40:00           0  \n",
       " 2016-01-01 23:45:00           0  \n",
       " 2016-01-01 23:48:00           0  )"
      ]
     },
     "execution_count": 23,
     "metadata": {},
     "output_type": "execute_result"
    }
   ],
   "source": [
    "# Timestamp를 인덱스로 설정하면 \"부분 매칭\"되는 모든 행 선택 가능, 슬라이싱도 가능\n",
    "# but 슬라이싱의 경우 DatetimeIndex가 정렬이 안되어있으면 deprecate 될 예정 -> 정렬을 시켜놔야\n",
    "crime = crime.sort_index()\n",
    "# 슬라이싱의 경우 양쪽 닫힘 형태 -> '2016-01-01'에 해당하는 모든 값들 포함\n",
    "crime.loc['2016-05-12'].head(), crime.loc['2015-03-04':'2016-01-01'].tail()"
   ]
  },
  {
   "cell_type": "code",
   "execution_count": 24,
   "metadata": {},
   "outputs": [],
   "source": [
    "# 시간 데이터로 열 필터링도 가능\n",
    "crime = pd.read_hdf(p1 / 'crime.h5', 'crime')"
   ]
  },
  {
   "cell_type": "code",
   "execution_count": 26,
   "metadata": {},
   "outputs": [
    {
     "data": {
      "text/html": [
       "<div>\n",
       "<style scoped>\n",
       "    .dataframe tbody tr th:only-of-type {\n",
       "        vertical-align: middle;\n",
       "    }\n",
       "\n",
       "    .dataframe tbody tr th {\n",
       "        vertical-align: top;\n",
       "    }\n",
       "\n",
       "    .dataframe thead th {\n",
       "        text-align: right;\n",
       "    }\n",
       "</style>\n",
       "<table border=\"1\" class=\"dataframe\">\n",
       "  <thead>\n",
       "    <tr style=\"text-align: right;\">\n",
       "      <th></th>\n",
       "      <th>OFFENSE_TYPE_ID</th>\n",
       "      <th>OFFENSE_CATEGORY_ID</th>\n",
       "      <th>REPORTED_DATE</th>\n",
       "      <th>GEO_LON</th>\n",
       "      <th>GEO_LAT</th>\n",
       "      <th>NEIGHBORHOOD_ID</th>\n",
       "      <th>IS_CRIME</th>\n",
       "      <th>IS_TRAFFIC</th>\n",
       "    </tr>\n",
       "  </thead>\n",
       "  <tbody>\n",
       "    <tr>\n",
       "      <th>300905</th>\n",
       "      <td>traffic-accident</td>\n",
       "      <td>traffic-accident</td>\n",
       "      <td>2016-05-12 16:45:00</td>\n",
       "      <td>-104.847024</td>\n",
       "      <td>39.779596</td>\n",
       "      <td>montbello</td>\n",
       "      <td>0</td>\n",
       "      <td>1</td>\n",
       "    </tr>\n",
       "    <tr>\n",
       "      <th>302354</th>\n",
       "      <td>traffic-accident</td>\n",
       "      <td>traffic-accident</td>\n",
       "      <td>2016-05-12 16:45:00</td>\n",
       "      <td>-105.049180</td>\n",
       "      <td>39.769296</td>\n",
       "      <td>west-highland</td>\n",
       "      <td>0</td>\n",
       "      <td>1</td>\n",
       "    </tr>\n",
       "    <tr>\n",
       "      <th>302373</th>\n",
       "      <td>fraud-identity-theft</td>\n",
       "      <td>white-collar-crime</td>\n",
       "      <td>2016-05-12 16:45:00</td>\n",
       "      <td>-104.931971</td>\n",
       "      <td>39.717359</td>\n",
       "      <td>hilltop</td>\n",
       "      <td>1</td>\n",
       "      <td>0</td>\n",
       "    </tr>\n",
       "  </tbody>\n",
       "</table>\n",
       "</div>"
      ],
      "text/plain": [
       "             OFFENSE_TYPE_ID OFFENSE_CATEGORY_ID       REPORTED_DATE  \\\n",
       "300905      traffic-accident    traffic-accident 2016-05-12 16:45:00   \n",
       "302354      traffic-accident    traffic-accident 2016-05-12 16:45:00   \n",
       "302373  fraud-identity-theft  white-collar-crime 2016-05-12 16:45:00   \n",
       "\n",
       "           GEO_LON    GEO_LAT NEIGHBORHOOD_ID  IS_CRIME  IS_TRAFFIC  \n",
       "300905 -104.847024  39.779596       montbello         0           1  \n",
       "302354 -105.049180  39.769296   west-highland         0           1  \n",
       "302373 -104.931971  39.717359         hilltop         1           0  "
      ]
     },
     "execution_count": 26,
     "metadata": {},
     "output_type": "execute_result"
    }
   ],
   "source": [
    "# 열 필터링을 위해 불리언 배열 사용 -> 다만 불리언 배열만으로는 날짜가 일부 매치하는 행 선택 불가능\n",
    "crime[crime['REPORTED_DATE'] == '2016-05-12 16:45:00']"
   ]
  },
  {
   "cell_type": "code",
   "execution_count": 27,
   "metadata": {},
   "outputs": [
    {
     "data": {
      "text/html": [
       "<div>\n",
       "<style scoped>\n",
       "    .dataframe tbody tr th:only-of-type {\n",
       "        vertical-align: middle;\n",
       "    }\n",
       "\n",
       "    .dataframe tbody tr th {\n",
       "        vertical-align: top;\n",
       "    }\n",
       "\n",
       "    .dataframe thead th {\n",
       "        text-align: right;\n",
       "    }\n",
       "</style>\n",
       "<table border=\"1\" class=\"dataframe\">\n",
       "  <thead>\n",
       "    <tr style=\"text-align: right;\">\n",
       "      <th></th>\n",
       "      <th>OFFENSE_TYPE_ID</th>\n",
       "      <th>OFFENSE_CATEGORY_ID</th>\n",
       "      <th>REPORTED_DATE</th>\n",
       "      <th>GEO_LON</th>\n",
       "      <th>GEO_LAT</th>\n",
       "      <th>NEIGHBORHOOD_ID</th>\n",
       "      <th>IS_CRIME</th>\n",
       "      <th>IS_TRAFFIC</th>\n",
       "    </tr>\n",
       "  </thead>\n",
       "  <tbody>\n",
       "    <tr>\n",
       "      <th>295715</th>\n",
       "      <td>criminal-mischief-other</td>\n",
       "      <td>public-disorder</td>\n",
       "      <td>2016-05-12 23:51:00</td>\n",
       "      <td>-105.017241</td>\n",
       "      <td>39.705845</td>\n",
       "      <td>athmar-park</td>\n",
       "      <td>1</td>\n",
       "      <td>0</td>\n",
       "    </tr>\n",
       "    <tr>\n",
       "      <th>296474</th>\n",
       "      <td>liquor-possession</td>\n",
       "      <td>drug-alcohol</td>\n",
       "      <td>2016-05-12 18:40:00</td>\n",
       "      <td>-104.995692</td>\n",
       "      <td>39.747875</td>\n",
       "      <td>cbd</td>\n",
       "      <td>1</td>\n",
       "      <td>0</td>\n",
       "    </tr>\n",
       "    <tr>\n",
       "      <th>297204</th>\n",
       "      <td>traffic-accident</td>\n",
       "      <td>traffic-accident</td>\n",
       "      <td>2016-05-12 22:26:00</td>\n",
       "      <td>-104.880037</td>\n",
       "      <td>39.777037</td>\n",
       "      <td>stapleton</td>\n",
       "      <td>0</td>\n",
       "      <td>1</td>\n",
       "    </tr>\n",
       "    <tr>\n",
       "      <th>299383</th>\n",
       "      <td>theft-bicycle</td>\n",
       "      <td>larceny</td>\n",
       "      <td>2016-05-12 20:35:00</td>\n",
       "      <td>-104.929350</td>\n",
       "      <td>39.763797</td>\n",
       "      <td>northeast-park-hill</td>\n",
       "      <td>1</td>\n",
       "      <td>0</td>\n",
       "    </tr>\n",
       "    <tr>\n",
       "      <th>299389</th>\n",
       "      <td>theft-of-motor-vehicle</td>\n",
       "      <td>auto-theft</td>\n",
       "      <td>2016-05-12 09:39:00</td>\n",
       "      <td>-104.941233</td>\n",
       "      <td>39.775510</td>\n",
       "      <td>elyria-swansea</td>\n",
       "      <td>1</td>\n",
       "      <td>0</td>\n",
       "    </tr>\n",
       "    <tr>\n",
       "      <th>...</th>\n",
       "      <td>...</td>\n",
       "      <td>...</td>\n",
       "      <td>...</td>\n",
       "      <td>...</td>\n",
       "      <td>...</td>\n",
       "      <td>...</td>\n",
       "      <td>...</td>\n",
       "      <td>...</td>\n",
       "    </tr>\n",
       "    <tr>\n",
       "      <th>358208</th>\n",
       "      <td>public-peace-other</td>\n",
       "      <td>public-disorder</td>\n",
       "      <td>2016-05-12 17:55:00</td>\n",
       "      <td>-105.027747</td>\n",
       "      <td>39.700029</td>\n",
       "      <td>westwood</td>\n",
       "      <td>1</td>\n",
       "      <td>0</td>\n",
       "    </tr>\n",
       "    <tr>\n",
       "      <th>358448</th>\n",
       "      <td>threats-to-injure</td>\n",
       "      <td>public-disorder</td>\n",
       "      <td>2016-05-12 19:24:00</td>\n",
       "      <td>-104.947118</td>\n",
       "      <td>39.763777</td>\n",
       "      <td>clayton</td>\n",
       "      <td>1</td>\n",
       "      <td>0</td>\n",
       "    </tr>\n",
       "    <tr>\n",
       "      <th>363134</th>\n",
       "      <td>sex-aslt-rape</td>\n",
       "      <td>sexual-assault</td>\n",
       "      <td>2016-05-12 22:28:00</td>\n",
       "      <td>NaN</td>\n",
       "      <td>NaN</td>\n",
       "      <td>harvey-park-south</td>\n",
       "      <td>1</td>\n",
       "      <td>0</td>\n",
       "    </tr>\n",
       "    <tr>\n",
       "      <th>365959</th>\n",
       "      <td>menacing-felony-w-weap</td>\n",
       "      <td>aggravated-assault</td>\n",
       "      <td>2016-05-12 15:59:00</td>\n",
       "      <td>-104.935172</td>\n",
       "      <td>39.723703</td>\n",
       "      <td>hilltop</td>\n",
       "      <td>1</td>\n",
       "      <td>0</td>\n",
       "    </tr>\n",
       "    <tr>\n",
       "      <th>378711</th>\n",
       "      <td>assault-dv</td>\n",
       "      <td>other-crimes-against-persons</td>\n",
       "      <td>2016-05-12 16:39:00</td>\n",
       "      <td>-104.974700</td>\n",
       "      <td>39.740555</td>\n",
       "      <td>north-capitol-hill</td>\n",
       "      <td>1</td>\n",
       "      <td>0</td>\n",
       "    </tr>\n",
       "  </tbody>\n",
       "</table>\n",
       "<p>243 rows × 8 columns</p>\n",
       "</div>"
      ],
      "text/plain": [
       "                OFFENSE_TYPE_ID           OFFENSE_CATEGORY_ID  \\\n",
       "295715  criminal-mischief-other               public-disorder   \n",
       "296474        liquor-possession                  drug-alcohol   \n",
       "297204         traffic-accident              traffic-accident   \n",
       "299383            theft-bicycle                       larceny   \n",
       "299389   theft-of-motor-vehicle                    auto-theft   \n",
       "...                         ...                           ...   \n",
       "358208       public-peace-other               public-disorder   \n",
       "358448        threats-to-injure               public-disorder   \n",
       "363134            sex-aslt-rape                sexual-assault   \n",
       "365959   menacing-felony-w-weap            aggravated-assault   \n",
       "378711               assault-dv  other-crimes-against-persons   \n",
       "\n",
       "             REPORTED_DATE     GEO_LON    GEO_LAT      NEIGHBORHOOD_ID  \\\n",
       "295715 2016-05-12 23:51:00 -105.017241  39.705845          athmar-park   \n",
       "296474 2016-05-12 18:40:00 -104.995692  39.747875                  cbd   \n",
       "297204 2016-05-12 22:26:00 -104.880037  39.777037            stapleton   \n",
       "299383 2016-05-12 20:35:00 -104.929350  39.763797  northeast-park-hill   \n",
       "299389 2016-05-12 09:39:00 -104.941233  39.775510       elyria-swansea   \n",
       "...                    ...         ...        ...                  ...   \n",
       "358208 2016-05-12 17:55:00 -105.027747  39.700029             westwood   \n",
       "358448 2016-05-12 19:24:00 -104.947118  39.763777              clayton   \n",
       "363134 2016-05-12 22:28:00         NaN        NaN    harvey-park-south   \n",
       "365959 2016-05-12 15:59:00 -104.935172  39.723703              hilltop   \n",
       "378711 2016-05-12 16:39:00 -104.974700  39.740555   north-capitol-hill   \n",
       "\n",
       "        IS_CRIME  IS_TRAFFIC  \n",
       "295715         1           0  \n",
       "296474         1           0  \n",
       "297204         0           1  \n",
       "299383         1           0  \n",
       "299389         1           0  \n",
       "...          ...         ...  \n",
       "358208         1           0  \n",
       "358448         1           0  \n",
       "363134         1           0  \n",
       "365959         1           0  \n",
       "378711         1           0  \n",
       "\n",
       "[243 rows x 8 columns]"
      ]
     },
     "execution_count": 27,
     "metadata": {},
     "output_type": "execute_result"
    }
   ],
   "source": [
    "# 일부 매칭을 위해 부분 날짜 문자열을 지원하는 between() 메서드 활용 가능\n",
    "# 단 열 필터링의 between() 메서드의 경우 양쪽 닫힘은 맞으나 '2016-05-13 00:00:00'에서 닫힘 되는 형태\n",
    "# 즉 '2016-05-13'는 '2016-05-13 00:00:00'의 축약 형태\n",
    "#  -> DatetimeIndex 필터링 복제를 위해서는 between() 메서드 활용 시 '2016-05-13 23:59:59'로 설정해야\n",
    "crime[crime['REPORTED_DATE'].between('2016-05-12', '2016-05-13')]"
   ]
  },
  {
   "cell_type": "code",
   "execution_count": 28,
   "metadata": {},
   "outputs": [],
   "source": [
    "# 속도의 경우 DatetimeIndex로 필터링을 하는 것이 훨씬 더 효율적"
   ]
  },
  {
   "cell_type": "code",
   "execution_count": 29,
   "metadata": {},
   "outputs": [],
   "source": [
    "# DatetimeIndex에서만 작동되는 메서드 확인\n",
    "crime = pd.read_hdf(p1 / 'crime.h5', 'crime').set_index('REPORTED_DATE').sort_index()"
   ]
  },
  {
   "cell_type": "code",
   "execution_count": 33,
   "metadata": {},
   "outputs": [
    {
     "data": {
      "text/html": [
       "<div>\n",
       "<style scoped>\n",
       "    .dataframe tbody tr th:only-of-type {\n",
       "        vertical-align: middle;\n",
       "    }\n",
       "\n",
       "    .dataframe tbody tr th {\n",
       "        vertical-align: top;\n",
       "    }\n",
       "\n",
       "    .dataframe thead th {\n",
       "        text-align: right;\n",
       "    }\n",
       "</style>\n",
       "<table border=\"1\" class=\"dataframe\">\n",
       "  <thead>\n",
       "    <tr style=\"text-align: right;\">\n",
       "      <th></th>\n",
       "      <th>OFFENSE_TYPE_ID</th>\n",
       "      <th>OFFENSE_CATEGORY_ID</th>\n",
       "      <th>GEO_LON</th>\n",
       "      <th>GEO_LAT</th>\n",
       "      <th>NEIGHBORHOOD_ID</th>\n",
       "      <th>IS_CRIME</th>\n",
       "      <th>IS_TRAFFIC</th>\n",
       "    </tr>\n",
       "    <tr>\n",
       "      <th>REPORTED_DATE</th>\n",
       "      <th></th>\n",
       "      <th></th>\n",
       "      <th></th>\n",
       "      <th></th>\n",
       "      <th></th>\n",
       "      <th></th>\n",
       "      <th></th>\n",
       "    </tr>\n",
       "  </thead>\n",
       "  <tbody>\n",
       "    <tr>\n",
       "      <th>2012-01-04 02:08:00</th>\n",
       "      <td>vehicular-eluding</td>\n",
       "      <td>all-other-crimes</td>\n",
       "      <td>-104.987485</td>\n",
       "      <td>39.739897</td>\n",
       "      <td>civic-center</td>\n",
       "      <td>1</td>\n",
       "      <td>0</td>\n",
       "    </tr>\n",
       "    <tr>\n",
       "      <th>2012-01-04 02:08:00</th>\n",
       "      <td>traffic-accident-dui-duid</td>\n",
       "      <td>traffic-accident</td>\n",
       "      <td>-104.987485</td>\n",
       "      <td>39.739897</td>\n",
       "      <td>civic-center</td>\n",
       "      <td>0</td>\n",
       "      <td>1</td>\n",
       "    </tr>\n",
       "    <tr>\n",
       "      <th>2012-01-04 02:09:00</th>\n",
       "      <td>theft-items-from-vehicle</td>\n",
       "      <td>theft-from-motor-vehicle</td>\n",
       "      <td>-104.957280</td>\n",
       "      <td>39.698563</td>\n",
       "      <td>belcaro</td>\n",
       "      <td>1</td>\n",
       "      <td>0</td>\n",
       "    </tr>\n",
       "    <tr>\n",
       "      <th>2012-01-04 02:10:00</th>\n",
       "      <td>vehicular-eluding-no-chase</td>\n",
       "      <td>all-other-crimes</td>\n",
       "      <td>-105.028386</td>\n",
       "      <td>39.753627</td>\n",
       "      <td>sloan-lake</td>\n",
       "      <td>1</td>\n",
       "      <td>0</td>\n",
       "    </tr>\n",
       "    <tr>\n",
       "      <th>2012-01-07 02:00:00</th>\n",
       "      <td>traffic-accident</td>\n",
       "      <td>traffic-accident</td>\n",
       "      <td>-104.958599</td>\n",
       "      <td>39.736812</td>\n",
       "      <td>congress-park</td>\n",
       "      <td>0</td>\n",
       "      <td>1</td>\n",
       "    </tr>\n",
       "    <tr>\n",
       "      <th>...</th>\n",
       "      <td>...</td>\n",
       "      <td>...</td>\n",
       "      <td>...</td>\n",
       "      <td>...</td>\n",
       "      <td>...</td>\n",
       "      <td>...</td>\n",
       "      <td>...</td>\n",
       "    </tr>\n",
       "    <tr>\n",
       "      <th>2017-09-27 02:05:00</th>\n",
       "      <td>criminal-mischief-other</td>\n",
       "      <td>public-disorder</td>\n",
       "      <td>-104.891374</td>\n",
       "      <td>39.637873</td>\n",
       "      <td>hampden-south</td>\n",
       "      <td>1</td>\n",
       "      <td>0</td>\n",
       "    </tr>\n",
       "    <tr>\n",
       "      <th>2017-09-28 02:03:00</th>\n",
       "      <td>traffic-accident-dui-duid</td>\n",
       "      <td>traffic-accident</td>\n",
       "      <td>-105.038713</td>\n",
       "      <td>39.706760</td>\n",
       "      <td>westwood</td>\n",
       "      <td>0</td>\n",
       "      <td>1</td>\n",
       "    </tr>\n",
       "    <tr>\n",
       "      <th>2017-09-28 02:06:00</th>\n",
       "      <td>traffic-accident-dui-duid</td>\n",
       "      <td>traffic-accident</td>\n",
       "      <td>-105.034074</td>\n",
       "      <td>39.697213</td>\n",
       "      <td>westwood</td>\n",
       "      <td>0</td>\n",
       "      <td>1</td>\n",
       "    </tr>\n",
       "    <tr>\n",
       "      <th>2017-09-29 02:03:00</th>\n",
       "      <td>traf-other</td>\n",
       "      <td>all-other-crimes</td>\n",
       "      <td>-105.025095</td>\n",
       "      <td>39.711172</td>\n",
       "      <td>westwood</td>\n",
       "      <td>1</td>\n",
       "      <td>0</td>\n",
       "    </tr>\n",
       "    <tr>\n",
       "      <th>2017-09-29 02:07:00</th>\n",
       "      <td>aggravated-assault-dv</td>\n",
       "      <td>aggravated-assault</td>\n",
       "      <td>-104.981133</td>\n",
       "      <td>39.750645</td>\n",
       "      <td>five-points</td>\n",
       "      <td>1</td>\n",
       "      <td>0</td>\n",
       "    </tr>\n",
       "  </tbody>\n",
       "</table>\n",
       "<p>2477 rows × 7 columns</p>\n",
       "</div>"
      ],
      "text/plain": [
       "                                OFFENSE_TYPE_ID       OFFENSE_CATEGORY_ID  \\\n",
       "REPORTED_DATE                                                               \n",
       "2012-01-04 02:08:00           vehicular-eluding          all-other-crimes   \n",
       "2012-01-04 02:08:00   traffic-accident-dui-duid          traffic-accident   \n",
       "2012-01-04 02:09:00    theft-items-from-vehicle  theft-from-motor-vehicle   \n",
       "2012-01-04 02:10:00  vehicular-eluding-no-chase          all-other-crimes   \n",
       "2012-01-07 02:00:00            traffic-accident          traffic-accident   \n",
       "...                                         ...                       ...   \n",
       "2017-09-27 02:05:00     criminal-mischief-other           public-disorder   \n",
       "2017-09-28 02:03:00   traffic-accident-dui-duid          traffic-accident   \n",
       "2017-09-28 02:06:00   traffic-accident-dui-duid          traffic-accident   \n",
       "2017-09-29 02:03:00                  traf-other          all-other-crimes   \n",
       "2017-09-29 02:07:00       aggravated-assault-dv        aggravated-assault   \n",
       "\n",
       "                        GEO_LON    GEO_LAT NEIGHBORHOOD_ID  IS_CRIME  \\\n",
       "REPORTED_DATE                                                          \n",
       "2012-01-04 02:08:00 -104.987485  39.739897    civic-center         1   \n",
       "2012-01-04 02:08:00 -104.987485  39.739897    civic-center         0   \n",
       "2012-01-04 02:09:00 -104.957280  39.698563         belcaro         1   \n",
       "2012-01-04 02:10:00 -105.028386  39.753627      sloan-lake         1   \n",
       "2012-01-07 02:00:00 -104.958599  39.736812   congress-park         0   \n",
       "...                         ...        ...             ...       ...   \n",
       "2017-09-27 02:05:00 -104.891374  39.637873   hampden-south         1   \n",
       "2017-09-28 02:03:00 -105.038713  39.706760        westwood         0   \n",
       "2017-09-28 02:06:00 -105.034074  39.697213        westwood         0   \n",
       "2017-09-29 02:03:00 -105.025095  39.711172        westwood         1   \n",
       "2017-09-29 02:07:00 -104.981133  39.750645     five-points         1   \n",
       "\n",
       "                     IS_TRAFFIC  \n",
       "REPORTED_DATE                    \n",
       "2012-01-04 02:08:00           0  \n",
       "2012-01-04 02:08:00           1  \n",
       "2012-01-04 02:09:00           0  \n",
       "2012-01-04 02:10:00           0  \n",
       "2012-01-07 02:00:00           1  \n",
       "...                         ...  \n",
       "2017-09-27 02:05:00           0  \n",
       "2017-09-28 02:03:00           1  \n",
       "2017-09-28 02:06:00           1  \n",
       "2017-09-29 02:03:00           0  \n",
       "2017-09-29 02:07:00           0  \n",
       "\n",
       "[2477 rows x 7 columns]"
      ]
     },
     "execution_count": 33,
     "metadata": {},
     "output_type": "execute_result"
    }
   ],
   "source": [
    "# between_time() 메서드 활용해 날짜와 관계 없이 시간 구간으로 확인\n",
    "# 기존에는 include_end 파라미터 활용했으나, deprecate 예정이므로 inclusive 파라미터로 수정\n",
    "crime.between_time('2:00', '2:10', inclusive='both')"
   ]
  },
  {
   "cell_type": "code",
   "execution_count": 35,
   "metadata": {},
   "outputs": [
    {
     "data": {
      "text/html": [
       "<div>\n",
       "<style scoped>\n",
       "    .dataframe tbody tr th:only-of-type {\n",
       "        vertical-align: middle;\n",
       "    }\n",
       "\n",
       "    .dataframe tbody tr th {\n",
       "        vertical-align: top;\n",
       "    }\n",
       "\n",
       "    .dataframe thead th {\n",
       "        text-align: right;\n",
       "    }\n",
       "</style>\n",
       "<table border=\"1\" class=\"dataframe\">\n",
       "  <thead>\n",
       "    <tr style=\"text-align: right;\">\n",
       "      <th></th>\n",
       "      <th>OFFENSE_TYPE_ID</th>\n",
       "      <th>OFFENSE_CATEGORY_ID</th>\n",
       "      <th>GEO_LON</th>\n",
       "      <th>GEO_LAT</th>\n",
       "      <th>NEIGHBORHOOD_ID</th>\n",
       "      <th>IS_CRIME</th>\n",
       "      <th>IS_TRAFFIC</th>\n",
       "    </tr>\n",
       "    <tr>\n",
       "      <th>REPORTED_DATE</th>\n",
       "      <th></th>\n",
       "      <th></th>\n",
       "      <th></th>\n",
       "      <th></th>\n",
       "      <th></th>\n",
       "      <th></th>\n",
       "      <th></th>\n",
       "    </tr>\n",
       "  </thead>\n",
       "  <tbody>\n",
       "    <tr>\n",
       "      <th>2012-01-15 05:47:00</th>\n",
       "      <td>burglary-business-by-force</td>\n",
       "      <td>burglary</td>\n",
       "      <td>-104.967844</td>\n",
       "      <td>39.678296</td>\n",
       "      <td>university</td>\n",
       "      <td>1</td>\n",
       "      <td>0</td>\n",
       "    </tr>\n",
       "    <tr>\n",
       "      <th>2012-05-26 05:47:00</th>\n",
       "      <td>assault-simple</td>\n",
       "      <td>other-crimes-against-persons</td>\n",
       "      <td>-104.991880</td>\n",
       "      <td>39.753646</td>\n",
       "      <td>five-points</td>\n",
       "      <td>1</td>\n",
       "      <td>0</td>\n",
       "    </tr>\n",
       "    <tr>\n",
       "      <th>2012-06-10 05:47:00</th>\n",
       "      <td>aggravated-assault</td>\n",
       "      <td>aggravated-assault</td>\n",
       "      <td>-105.020598</td>\n",
       "      <td>39.676478</td>\n",
       "      <td>college-view-south-platte</td>\n",
       "      <td>1</td>\n",
       "      <td>0</td>\n",
       "    </tr>\n",
       "    <tr>\n",
       "      <th>2012-07-04 05:47:00</th>\n",
       "      <td>sex-aslt-rape</td>\n",
       "      <td>sexual-assault</td>\n",
       "      <td>NaN</td>\n",
       "      <td>NaN</td>\n",
       "      <td>west-highland</td>\n",
       "      <td>1</td>\n",
       "      <td>0</td>\n",
       "    </tr>\n",
       "    <tr>\n",
       "      <th>2012-07-09 05:47:00</th>\n",
       "      <td>theft-of-motor-vehicle</td>\n",
       "      <td>auto-theft</td>\n",
       "      <td>-105.030215</td>\n",
       "      <td>39.708802</td>\n",
       "      <td>westwood</td>\n",
       "      <td>1</td>\n",
       "      <td>0</td>\n",
       "    </tr>\n",
       "  </tbody>\n",
       "</table>\n",
       "</div>"
      ],
      "text/plain": [
       "                                OFFENSE_TYPE_ID           OFFENSE_CATEGORY_ID  \\\n",
       "REPORTED_DATE                                                                   \n",
       "2012-01-15 05:47:00  burglary-business-by-force                      burglary   \n",
       "2012-05-26 05:47:00              assault-simple  other-crimes-against-persons   \n",
       "2012-06-10 05:47:00          aggravated-assault            aggravated-assault   \n",
       "2012-07-04 05:47:00               sex-aslt-rape                sexual-assault   \n",
       "2012-07-09 05:47:00      theft-of-motor-vehicle                    auto-theft   \n",
       "\n",
       "                        GEO_LON    GEO_LAT            NEIGHBORHOOD_ID  \\\n",
       "REPORTED_DATE                                                           \n",
       "2012-01-15 05:47:00 -104.967844  39.678296                 university   \n",
       "2012-05-26 05:47:00 -104.991880  39.753646                five-points   \n",
       "2012-06-10 05:47:00 -105.020598  39.676478  college-view-south-platte   \n",
       "2012-07-04 05:47:00         NaN        NaN              west-highland   \n",
       "2012-07-09 05:47:00 -105.030215  39.708802                   westwood   \n",
       "\n",
       "                     IS_CRIME  IS_TRAFFIC  \n",
       "REPORTED_DATE                              \n",
       "2012-01-15 05:47:00         1           0  \n",
       "2012-05-26 05:47:00         1           0  \n",
       "2012-06-10 05:47:00         1           0  \n",
       "2012-07-04 05:47:00         1           0  \n",
       "2012-07-09 05:47:00         1           0  "
      ]
     },
     "execution_count": 35,
     "metadata": {},
     "output_type": "execute_result"
    }
   ],
   "source": [
    "# at_time() 메서드 활용해 해당 시간에 발생한 범죄 확인\n",
    "crime.at_time('05:47').head()"
   ]
  },
  {
   "cell_type": "code",
   "execution_count": 37,
   "metadata": {},
   "outputs": [
    {
     "data": {
      "text/html": [
       "<div>\n",
       "<style scoped>\n",
       "    .dataframe tbody tr th:only-of-type {\n",
       "        vertical-align: middle;\n",
       "    }\n",
       "\n",
       "    .dataframe tbody tr th {\n",
       "        vertical-align: top;\n",
       "    }\n",
       "\n",
       "    .dataframe thead th {\n",
       "        text-align: right;\n",
       "    }\n",
       "</style>\n",
       "<table border=\"1\" class=\"dataframe\">\n",
       "  <thead>\n",
       "    <tr style=\"text-align: right;\">\n",
       "      <th></th>\n",
       "      <th>OFFENSE_TYPE_ID</th>\n",
       "      <th>OFFENSE_CATEGORY_ID</th>\n",
       "      <th>GEO_LON</th>\n",
       "      <th>GEO_LAT</th>\n",
       "      <th>NEIGHBORHOOD_ID</th>\n",
       "      <th>IS_CRIME</th>\n",
       "      <th>IS_TRAFFIC</th>\n",
       "    </tr>\n",
       "    <tr>\n",
       "      <th>REPORTED_DATE</th>\n",
       "      <th></th>\n",
       "      <th></th>\n",
       "      <th></th>\n",
       "      <th></th>\n",
       "      <th></th>\n",
       "      <th></th>\n",
       "      <th></th>\n",
       "    </tr>\n",
       "  </thead>\n",
       "  <tbody>\n",
       "    <tr>\n",
       "      <th>2012-01-02 00:06:00</th>\n",
       "      <td>aggravated-assault</td>\n",
       "      <td>aggravated-assault</td>\n",
       "      <td>-104.816860</td>\n",
       "      <td>39.796717</td>\n",
       "      <td>montbello</td>\n",
       "      <td>1</td>\n",
       "      <td>0</td>\n",
       "    </tr>\n",
       "    <tr>\n",
       "      <th>2012-01-02 00:06:00</th>\n",
       "      <td>violation-of-restraining-order</td>\n",
       "      <td>all-other-crimes</td>\n",
       "      <td>-104.816860</td>\n",
       "      <td>39.796717</td>\n",
       "      <td>montbello</td>\n",
       "      <td>1</td>\n",
       "      <td>0</td>\n",
       "    </tr>\n",
       "    <tr>\n",
       "      <th>2012-01-02 00:16:00</th>\n",
       "      <td>traffic-accident-dui-duid</td>\n",
       "      <td>traffic-accident</td>\n",
       "      <td>-104.971851</td>\n",
       "      <td>39.736874</td>\n",
       "      <td>cheesman-park</td>\n",
       "      <td>0</td>\n",
       "      <td>1</td>\n",
       "    </tr>\n",
       "    <tr>\n",
       "      <th>2012-01-02 00:47:00</th>\n",
       "      <td>traffic-accident</td>\n",
       "      <td>traffic-accident</td>\n",
       "      <td>-104.951824</td>\n",
       "      <td>39.740168</td>\n",
       "      <td>congress-park</td>\n",
       "      <td>0</td>\n",
       "      <td>1</td>\n",
       "    </tr>\n",
       "    <tr>\n",
       "      <th>2012-01-02 01:35:00</th>\n",
       "      <td>aggravated-assault</td>\n",
       "      <td>aggravated-assault</td>\n",
       "      <td>-104.998131</td>\n",
       "      <td>39.749922</td>\n",
       "      <td>union-station</td>\n",
       "      <td>1</td>\n",
       "      <td>0</td>\n",
       "    </tr>\n",
       "    <tr>\n",
       "      <th>...</th>\n",
       "      <td>...</td>\n",
       "      <td>...</td>\n",
       "      <td>...</td>\n",
       "      <td>...</td>\n",
       "      <td>...</td>\n",
       "      <td>...</td>\n",
       "      <td>...</td>\n",
       "    </tr>\n",
       "    <tr>\n",
       "      <th>2012-06-30 23:40:00</th>\n",
       "      <td>traffic-accident-dui-duid</td>\n",
       "      <td>traffic-accident</td>\n",
       "      <td>-104.922266</td>\n",
       "      <td>39.678471</td>\n",
       "      <td>goldsmith</td>\n",
       "      <td>0</td>\n",
       "      <td>1</td>\n",
       "    </tr>\n",
       "    <tr>\n",
       "      <th>2012-06-30 23:44:00</th>\n",
       "      <td>traffic-accident</td>\n",
       "      <td>traffic-accident</td>\n",
       "      <td>-104.987578</td>\n",
       "      <td>39.711158</td>\n",
       "      <td>baker</td>\n",
       "      <td>0</td>\n",
       "      <td>1</td>\n",
       "    </tr>\n",
       "    <tr>\n",
       "      <th>2012-06-30 23:50:00</th>\n",
       "      <td>criminal-mischief-mtr-veh</td>\n",
       "      <td>public-disorder</td>\n",
       "      <td>-104.838271</td>\n",
       "      <td>39.788683</td>\n",
       "      <td>montbello</td>\n",
       "      <td>1</td>\n",
       "      <td>0</td>\n",
       "    </tr>\n",
       "    <tr>\n",
       "      <th>2012-06-30 23:54:00</th>\n",
       "      <td>traffic-accident-hit-and-run</td>\n",
       "      <td>traffic-accident</td>\n",
       "      <td>-105.014162</td>\n",
       "      <td>39.740439</td>\n",
       "      <td>lincoln-park</td>\n",
       "      <td>0</td>\n",
       "      <td>1</td>\n",
       "    </tr>\n",
       "    <tr>\n",
       "      <th>2012-07-01 00:01:00</th>\n",
       "      <td>robbery-street</td>\n",
       "      <td>robbery</td>\n",
       "      <td>-104.924292</td>\n",
       "      <td>39.767585</td>\n",
       "      <td>northeast-park-hill</td>\n",
       "      <td>1</td>\n",
       "      <td>0</td>\n",
       "    </tr>\n",
       "  </tbody>\n",
       "</table>\n",
       "<p>27489 rows × 7 columns</p>\n",
       "</div>"
      ],
      "text/plain": [
       "                                    OFFENSE_TYPE_ID OFFENSE_CATEGORY_ID  \\\n",
       "REPORTED_DATE                                                             \n",
       "2012-01-02 00:06:00              aggravated-assault  aggravated-assault   \n",
       "2012-01-02 00:06:00  violation-of-restraining-order    all-other-crimes   \n",
       "2012-01-02 00:16:00       traffic-accident-dui-duid    traffic-accident   \n",
       "2012-01-02 00:47:00                traffic-accident    traffic-accident   \n",
       "2012-01-02 01:35:00              aggravated-assault  aggravated-assault   \n",
       "...                                             ...                 ...   \n",
       "2012-06-30 23:40:00       traffic-accident-dui-duid    traffic-accident   \n",
       "2012-06-30 23:44:00                traffic-accident    traffic-accident   \n",
       "2012-06-30 23:50:00       criminal-mischief-mtr-veh     public-disorder   \n",
       "2012-06-30 23:54:00    traffic-accident-hit-and-run    traffic-accident   \n",
       "2012-07-01 00:01:00                  robbery-street             robbery   \n",
       "\n",
       "                        GEO_LON    GEO_LAT      NEIGHBORHOOD_ID  IS_CRIME  \\\n",
       "REPORTED_DATE                                                               \n",
       "2012-01-02 00:06:00 -104.816860  39.796717            montbello         1   \n",
       "2012-01-02 00:06:00 -104.816860  39.796717            montbello         1   \n",
       "2012-01-02 00:16:00 -104.971851  39.736874        cheesman-park         0   \n",
       "2012-01-02 00:47:00 -104.951824  39.740168        congress-park         0   \n",
       "2012-01-02 01:35:00 -104.998131  39.749922        union-station         1   \n",
       "...                         ...        ...                  ...       ...   \n",
       "2012-06-30 23:40:00 -104.922266  39.678471            goldsmith         0   \n",
       "2012-06-30 23:44:00 -104.987578  39.711158                baker         0   \n",
       "2012-06-30 23:50:00 -104.838271  39.788683            montbello         1   \n",
       "2012-06-30 23:54:00 -105.014162  39.740439         lincoln-park         0   \n",
       "2012-07-01 00:01:00 -104.924292  39.767585  northeast-park-hill         1   \n",
       "\n",
       "                     IS_TRAFFIC  \n",
       "REPORTED_DATE                    \n",
       "2012-01-02 00:06:00           0  \n",
       "2012-01-02 00:06:00           0  \n",
       "2012-01-02 00:16:00           1  \n",
       "2012-01-02 00:47:00           1  \n",
       "2012-01-02 01:35:00           0  \n",
       "...                         ...  \n",
       "2012-06-30 23:40:00           1  \n",
       "2012-06-30 23:44:00           1  \n",
       "2012-06-30 23:50:00           0  \n",
       "2012-06-30 23:54:00           1  \n",
       "2012-07-01 00:01:00           0  \n",
       "\n",
       "[27489 rows x 7 columns]"
      ]
     },
     "execution_count": 37,
     "metadata": {},
     "output_type": "execute_result"
    }
   ],
   "source": [
    "# first() 메서드 활용해 시간에 대해 첫 n 세그먼트 선택 가능 -> pd.offsets 모듈에 있는 DateOffset 객체로 표시\n",
    "# 첫 날짜 및 시간으로부터 6개월 안에 있는 데이터 표시('2012-01-02 00:06:00' ~ '2012-07-01 00:06:00')\n",
    "# MonthBegin()에 normalize=True 인자 전달할 수 있으나, 이것도 엄밀히는 부정확('2012-07-01 00:00:00' 데이터가 포함)\n",
    "# -> loc속성을 활용한 슬라이싱을 진행하는 것이 6월까지 데이터를 얻기에는 가장 정확\n",
    "crime.first(pd.offsets.MonthBegin(6))"
   ]
  },
  {
   "cell_type": "code",
   "execution_count": 40,
   "metadata": {},
   "outputs": [
    {
     "data": {
      "text/plain": [
       "True"
      ]
     },
     "execution_count": 40,
     "metadata": {},
     "output_type": "execute_result"
    }
   ],
   "source": [
    "# pd.offset.MonthBegin() 대신 오프셋 별칭(offset alias) 활용 가능\n",
    "# 'D', 'B'(영업일), 'W', 'MS', 'QS', 'A' 등 전달\n",
    "crime.first('6MS').equals(crime.first(pd.offsets.MonthBegin(6)))"
   ]
  },
  {
   "cell_type": "code",
   "execution_count": 44,
   "metadata": {},
   "outputs": [
    {
     "data": {
      "text/plain": [
       "(Timestamp('2012-07-01 00:01:00'), Timestamp('2012-07-01 00:06:00'))"
      ]
     },
     "execution_count": 44,
     "metadata": {},
     "output_type": "execute_result"
    }
   ],
   "source": [
    "# first() 메서드에 pd.offsets를 전달하는 경우 첫 번째 인덱스에 pd.offsets를 더하는 형태와 동일\n",
    "# 원하는 offset이 없을 때는 pd.DateOffset() 함수로 사용자 정의 DateOffset 구축\n",
    "crime.first(pd.offsets.MonthBegin(6)).index[-1], crime.index[0] + pd.offsets.MonthBegin(6)"
   ]
  },
  {
   "cell_type": "code",
   "execution_count": 46,
   "metadata": {},
   "outputs": [
    {
     "data": {
      "text/plain": [
       "REPORTED_DATE\n",
       "2012-01-08     877\n",
       "2012-01-15    1071\n",
       "2012-01-22     991\n",
       "2012-01-29     988\n",
       "2012-02-05     888\n",
       "Freq: W-SUN, dtype: int64"
      ]
     },
     "execution_count": 46,
     "metadata": {},
     "output_type": "execute_result"
    }
   ],
   "source": [
    "# resample() 메서드를 통해 가능한 시간 범위별로 그룹화 가능 -> DatetimeIndex 특유의 groupby() 메서드 느낌\n",
    "(crime\n",
    "# 'D', 'M', 'Y' 등 전달 가능\n",
    "# 기본 설정 파악 필요 : 'W' 인자 전달 시 한 주의 마지막 날은 일요일로 선택 -> 'W-THU' 형식으로 전달하여 변경 가능\n",
    ".resample('W')\n",
    ".size()\n",
    ".head()\n",
    ")"
   ]
  },
  {
   "cell_type": "code",
   "execution_count": 47,
   "metadata": {},
   "outputs": [
    {
     "data": {
      "text/plain": [
       "REPORTED_DATE\n",
       "2012-01-08     877\n",
       "2012-01-15    1071\n",
       "2012-01-22     991\n",
       "2012-01-29     988\n",
       "2012-02-05     888\n",
       "Freq: W-SUN, dtype: int64"
      ]
     },
     "execution_count": 47,
     "metadata": {},
     "output_type": "execute_result"
    }
   ],
   "source": [
    "# pd.Grouper(freq='') 전달하여 groupby() 메서드로 재현 가능\n",
    "(crime\n",
    ".groupby(pd.Grouper(freq='W'))\n",
    ".size()\n",
    ".head()\n",
    ")"
   ]
  },
  {
   "cell_type": "code",
   "execution_count": 48,
   "metadata": {},
   "outputs": [
    {
     "data": {
      "text/plain": [
       "REPORTED_DATE\n",
       "2012-01-08     877\n",
       "2012-01-15    1071\n",
       "2012-01-22     991\n",
       "2012-01-29     988\n",
       "2012-02-05     888\n",
       "Freq: W-SUN, dtype: int64"
      ]
     },
     "execution_count": 48,
     "metadata": {},
     "output_type": "execute_result"
    }
   ],
   "source": [
    "# Timestamp가 인덱스에 포함되어있지 않더라도 해당 열을 지정함으로써 resample() 메서드 활용 가능\n",
    "crime2 = pd.read_hdf(p1 / 'crime.h5', 'crime')\n",
    "(crime2\n",
    "# on 파라미터를 활용해 datetime 성질을 가진 열 전달\n",
    ".resample('W', on='REPORTED_DATE')\n",
    ".size()\n",
    ".head()\n",
    ")"
   ]
  },
  {
   "cell_type": "code",
   "execution_count": 51,
   "metadata": {},
   "outputs": [
    {
     "data": {
      "text/plain": [
       "<AxesSubplot:xlabel='REPORTED_DATE'>"
      ]
     },
     "execution_count": 51,
     "metadata": {},
     "output_type": "execute_result"
    },
    {
     "data": {
      "image/png": "[encoded data removed]",
      "text/plain": [
       "<Figure size 432x288 with 1 Axes>"
      ]
     },
     "metadata": {
      "needs_background": "light"
     },
     "output_type": "display_data"
    }
   ],
   "source": [
    "# Timestamp가 인덱스에 포함되어있지 않더라도 해당 열을 지정함으로써 groupby() 메서드로 복제 가능\n",
    "(crime2\n",
    "# pd.Grouper() 함수에 key 파라미터를 활용해 datetime 성질을 가진 열 전달\n",
    ".groupby(pd.Grouper(freq='W', key='REPORTED_DATE'))\n",
    ".size()\n",
    "# plot() 메서드를 호출하여 도식화 가능\n",
    ".plot()\n",
    ")"
   ]
  },
  {
   "cell_type": "code",
   "execution_count": null,
   "metadata": {},
   "outputs": [],
   "source": []
  }
 ],
 "metadata": {
  "kernelspec": {
   "display_name": "Python 3.9.12 ('base')",
   "language": "python",
   "name": "python3"
  },
  "language_info": {
   "codemirror_mode": {
    "name": "ipython",
    "version": 3
   },
   "file_extension": ".py",
   "mimetype": "text/x-python",
   "name": "python",
   "nbconvert_exporter": "python",
   "pygments_lexer": "ipython3",
   "version": "3.9.12"
  },
  "orig_nbformat": 4,
  "vscode": {
   "interpreter": {
    "hash": "610a6f344c2137faf927ea819c63f6cee33a2c04455044b28099f39fe9722347"
   }
  }
 },
 "nbformat": 4,
 "nbformat_minor": 2
}
