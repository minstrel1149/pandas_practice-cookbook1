{
 "cells": [
  {
   "cell_type": "code",
   "execution_count": 1,
   "metadata": {},
   "outputs": [],
   "source": [
    "import pandas as pd\n",
    "import numpy as np\n",
    "from pathlib import Path\n",
    "import zipfile\n",
    "import matplotlib.pyplot as plt\n",
    "import seaborn as sns\n",
    "import glob\n",
    "import datetime as dt"
   ]
  },
  {
   "cell_type": "code",
   "execution_count": 2,
   "metadata": {},
   "outputs": [
    {
     "name": "stdout",
     "output_type": "stream",
     "text": [
      "['multipleChoiceResponses.csv', 'freeFormResponses.csv', 'SurveySchema.csv']\n"
     ]
    },
    {
     "name": "stderr",
     "output_type": "stream",
     "text": [
      "C:\\Users\\admin\\AppData\\Local\\Temp\\ipykernel_14724\\2818711165.py:5: DtypeWarning: Columns (0,2,8,10,21,23,24,25,26,27,28,44,56,64,83,85,87,107,109,123,125,150,157,172,174,194,210,218,219,223,246,249,262,264,276,277,278,279,280,281,282,283,284,285,286,287,288,289,290,304,306,325,326,329,341,368,371,384,385,389,390,391,393,394) have mixed types. Specify dtype option on import or set low_memory=False.\n",
      "  kag = pd.read_csv(z.open('multipleChoiceResponses.csv'))\n"
     ]
    }
   ],
   "source": [
    "p1 = Path.cwd() / 'back_data'\n",
    "url = p1 / 'kaggle-survey-2018.zip'\n",
    "with zipfile.ZipFile(url) as z:\n",
    "    print(z.namelist())\n",
    "    kag = pd.read_csv(z.open('multipleChoiceResponses.csv'))\n",
    "    df = kag.iloc[1:, :]"
   ]
  },
  {
   "cell_type": "code",
   "execution_count": 8,
   "metadata": {},
   "outputs": [
    {
     "data": {
      "text/plain": [
       "Male       19430\n",
       "Female      4010\n",
       "Another      419\n",
       "Name: Gender, dtype: int64"
      ]
     },
     "execution_count": 8,
     "metadata": {},
     "output_type": "execute_result"
    }
   ],
   "source": [
    "df.loc[:, 'Q1'].value_counts()\n",
    "q1 = (df.loc[:, 'Q1']\n",
    " .replace({'Prefer not to say':'Another', 'Prefer to self-describe':'Another'})\n",
    " .rename('Gender')\n",
    ")\n",
    "q1.value_counts()"
   ]
  },
  {
   "cell_type": "code",
   "execution_count": 11,
   "metadata": {},
   "outputs": [
    {
     "data": {
      "text/plain": [
       "25    6159\n",
       "22    5141\n",
       "30    3776\n",
       "18    3037\n",
       "35    2253\n",
       "40    1360\n",
       "45     858\n",
       "50     582\n",
       "55     328\n",
       "60     273\n",
       "70      53\n",
       "80      39\n",
       "Name: Age, dtype: int64"
      ]
     },
     "execution_count": 11,
     "metadata": {},
     "output_type": "execute_result"
    }
   ],
   "source": [
    "df.loc[:, 'Q2'].value_counts()\n",
    "q2 = (df.loc[:, 'Q2']\n",
    " .str.slice(0, 2)\n",
    " .astype('int')\n",
    " .rename('Age')\n",
    ")\n",
    "q2.value_counts()\n"
   ]
  },
  {
   "cell_type": "code",
   "execution_count": 39,
   "metadata": {},
   "outputs": [
    {
     "data": {
      "text/plain": [
       "Other                       10733\n",
       "United States of America     4716\n",
       "India                        4417\n",
       "China                        1644\n",
       "Russia                        879\n",
       "Brazil                        736\n",
       "Germany                       734\n",
       "Name: Country, dtype: int64"
      ]
     },
     "execution_count": 39,
     "metadata": {},
     "output_type": "execute_result"
    }
   ],
   "source": [
    "df.loc[:, 'Q3'].value_counts()\n",
    "q3 = (df.loc[:, 'Q3']\n",
    "      .where(lambda ser: ser.isin(ser.value_counts().index[:7]), 'Other')\n",
    "      .rename('Country')\n",
    ")\n",
    "q3.value_counts()"
   ]
  },
  {
   "cell_type": "code",
   "execution_count": 23,
   "metadata": {},
   "outputs": [
    {
     "data": {
      "text/plain": [
       "18.0    10855\n",
       "16.0     7083\n",
       "20.0     3357\n",
       "13.0      967\n",
       "11.0      766\n",
       "19.0      599\n",
       "12.0      232\n",
       "Name: Edu, dtype: int64"
      ]
     },
     "execution_count": 23,
     "metadata": {},
     "output_type": "execute_result"
    }
   ],
   "source": [
    "df.loc[:, 'Q4'].value_counts()\n",
    "q4 = (df['Q4']\n",
    ".replace({'Master’s degree': 18, 'Bachelor’s degree': 16, 'Doctoral degree': 20,\n",
    "'Some college/university study without earning a bachelor’s degree': 13, 'Professional degree': 19,\n",
    "'I prefer not to answer': np.nan, 'No formal education past high school': 12})\n",
    ".fillna(11)\n",
    ".rename('Edu')\n",
    ")\n",
    "q4.value_counts()"
   ]
  },
  {
   "cell_type": "code",
   "execution_count": 58,
   "metadata": {},
   "outputs": [
    {
     "data": {
      "text/plain": [
       "Computer       9430\n",
       "Other          5983\n",
       "Engineering    3705\n",
       "Math/Stats     2950\n",
       "Business       1791\n",
       "Name: Major, dtype: int64"
      ]
     },
     "execution_count": 58,
     "metadata": {},
     "output_type": "execute_result"
    }
   ],
   "source": [
    "df.loc[:, 'Q5'].value_counts()\n",
    "q5 = (df.loc[:, 'Q5']\n",
    " .where(lambda ser: ser.isin(ser.value_counts().index[:4]), 'Other')\n",
    " .replace({'Computer science (software engineering, etc.)':'Computer', 'Engineering (non-computer focused)':'Engineering',\n",
    "           'Mathematics or statistics':'Math/Stats', 'A business discipline (accounting, economics, finance, etc.)':'Business'})\n",
    ".rename('Major')\n",
    ")\n",
    "q5.value_counts()"
   ]
  },
  {
   "cell_type": "code",
   "execution_count": 37,
   "metadata": {},
   "outputs": [
    {
     "data": {
      "text/plain": [
       "Other                5732\n",
       "DS/RS                5326\n",
       "Student              5253\n",
       "Software Engineer    3130\n",
       "DA/BA                2694\n",
       "DE                    882\n",
       "Not employed          842\n",
       "Name: Occupation, dtype: int64"
      ]
     },
     "execution_count": 37,
     "metadata": {},
     "output_type": "execute_result"
    }
   ],
   "source": [
    "df.loc[:, 'Q6'].value_counts()\n",
    "q6 = (df.loc[:, 'Q6']\n",
    " .replace({'Data Scientist':'DS/RS', 'Research Scientist':'DS/RS', 'Data Analyst':'DA/BA', 'Business Analyst':'DA/BA',\n",
    "          'Data Engineer':'DE', 'DBA/Database Engineer':'DE'})\n",
    ".where(lambda ser: ser.isin(ser.value_counts().index[:7]), 'Other')\n",
    ".rename('Occupation')\n",
    ")\n",
    "q6.value_counts()"
   ]
  },
  {
   "cell_type": "code",
   "execution_count": 66,
   "metadata": {},
   "outputs": [
    {
     "data": {
      "text/plain": [
       "Other                                     7813\n",
       "Computers/Technology                      5584\n",
       "STUDENT                                   4658\n",
       "Academics/Education                       2749\n",
       "Accounting/Finance                        1433\n",
       "Online Service/Internet-based Services     871\n",
       "Medical/Pharmaceutical                     751\n",
       "Name: Field, dtype: int64"
      ]
     },
     "execution_count": 66,
     "metadata": {},
     "output_type": "execute_result"
    }
   ],
   "source": [
    "df.loc[:, 'Q7'].value_counts()\n",
    "q7 = (df.loc[:, 'Q7']\n",
    " .replace({'I am a student':'STUDENT'})\n",
    ".where(lambda ser: ser.isin(ser.value_counts().index[:7]), 'Other')\n",
    ".rename('Field')\n",
    ")\n",
    "q7.value_counts()"
   ]
  },
  {
   "cell_type": "code",
   "execution_count": 67,
   "metadata": {},
   "outputs": [
    {
     "data": {
      "text/plain": [
       "0     8656\n",
       "1     3745\n",
       "2     2577\n",
       "5     2524\n",
       "3     1751\n",
       "10    1512\n",
       "4     1488\n",
       "15     854\n",
       "20     384\n",
       "30     197\n",
       "25     171\n",
       "Name: Experience, dtype: int64"
      ]
     },
     "execution_count": 67,
     "metadata": {},
     "output_type": "execute_result"
    }
   ],
   "source": [
    "df.loc[:, 'Q8'].value_counts()\n",
    "q8 = (df.loc[:, 'Q8']\n",
    " .str.replace(' ', '-')\n",
    " .str.split('-', expand=True).iloc[:, 0]\n",
    " .fillna(0)\n",
    " .astype('int')\n",
    " .rename('Experience')\n",
    ")\n",
    "q8.value_counts()"
   ]
  },
  {
   "cell_type": "code",
   "execution_count": 63,
   "metadata": {},
   "outputs": [
    {
     "data": {
      "text/plain": [
       "0.0         4398\n",
       "10000.0     1937\n",
       "20000.0     1395\n",
       "30000.0     1119\n",
       "40000.0      965\n",
       "50000.0      919\n",
       "100000.0     843\n",
       "60000.0      729\n",
       "70000.0      677\n",
       "90000.0      566\n",
       "125000.0     533\n",
       "80000.0      506\n",
       "150000.0     457\n",
       "200000.0     172\n",
       "250000.0      75\n",
       "500000.0      63\n",
       "300000.0      52\n",
       "400000.0      23\n",
       "Name: Salary, dtype: int64"
      ]
     },
     "execution_count": 63,
     "metadata": {},
     "output_type": "execute_result"
    }
   ],
   "source": [
    "df.loc[:, 'Q9'].value_counts()\n",
    "q9 = (df.loc[:, 'Q9']\n",
    " .replace({'I do not wish to disclose my approximate yearly compensation':np.nan, '500,000+':'500'})\n",
    " .str.split('-', expand=True).iloc[:, 0]\n",
    " .apply(lambda ser: pd.to_numeric(ser, errors='ignore'))\n",
    " .mul(1000)\n",
    " .rename('Salary')\n",
    ")\n",
    "q9.value_counts()"
   ]
  },
  {
   "cell_type": "code",
   "execution_count": 68,
   "metadata": {},
   "outputs": [
    {
     "data": {
      "text/html": [
       "<div>\n",
       "<style scoped>\n",
       "    .dataframe tbody tr th:only-of-type {\n",
       "        vertical-align: middle;\n",
       "    }\n",
       "\n",
       "    .dataframe tbody tr th {\n",
       "        vertical-align: top;\n",
       "    }\n",
       "\n",
       "    .dataframe thead th {\n",
       "        text-align: right;\n",
       "    }\n",
       "</style>\n",
       "<table border=\"1\" class=\"dataframe\">\n",
       "  <thead>\n",
       "    <tr style=\"text-align: right;\">\n",
       "      <th></th>\n",
       "      <th>Gender</th>\n",
       "      <th>Age</th>\n",
       "      <th>Country</th>\n",
       "      <th>Edu</th>\n",
       "      <th>Major</th>\n",
       "      <th>Occupation</th>\n",
       "      <th>Field</th>\n",
       "      <th>Experience</th>\n",
       "      <th>Salary</th>\n",
       "    </tr>\n",
       "  </thead>\n",
       "  <tbody>\n",
       "    <tr>\n",
       "      <th>1</th>\n",
       "      <td>Female</td>\n",
       "      <td>45</td>\n",
       "      <td>United States of America</td>\n",
       "      <td>20.0</td>\n",
       "      <td>Other</td>\n",
       "      <td>Other</td>\n",
       "      <td>Other</td>\n",
       "      <td>0</td>\n",
       "      <td>NaN</td>\n",
       "    </tr>\n",
       "    <tr>\n",
       "      <th>2</th>\n",
       "      <td>Male</td>\n",
       "      <td>30</td>\n",
       "      <td>Other</td>\n",
       "      <td>16.0</td>\n",
       "      <td>Engineering</td>\n",
       "      <td>Other</td>\n",
       "      <td>Other</td>\n",
       "      <td>5</td>\n",
       "      <td>10000.0</td>\n",
       "    </tr>\n",
       "    <tr>\n",
       "      <th>3</th>\n",
       "      <td>Female</td>\n",
       "      <td>30</td>\n",
       "      <td>United States of America</td>\n",
       "      <td>18.0</td>\n",
       "      <td>Computer</td>\n",
       "      <td>DS/RS</td>\n",
       "      <td>STUDENT</td>\n",
       "      <td>0</td>\n",
       "      <td>0.0</td>\n",
       "    </tr>\n",
       "    <tr>\n",
       "      <th>4</th>\n",
       "      <td>Male</td>\n",
       "      <td>35</td>\n",
       "      <td>United States of America</td>\n",
       "      <td>18.0</td>\n",
       "      <td>Other</td>\n",
       "      <td>Not employed</td>\n",
       "      <td>Other</td>\n",
       "      <td>0</td>\n",
       "      <td>NaN</td>\n",
       "    </tr>\n",
       "    <tr>\n",
       "      <th>5</th>\n",
       "      <td>Male</td>\n",
       "      <td>22</td>\n",
       "      <td>India</td>\n",
       "      <td>18.0</td>\n",
       "      <td>Math/Stats</td>\n",
       "      <td>DA/BA</td>\n",
       "      <td>STUDENT</td>\n",
       "      <td>0</td>\n",
       "      <td>0.0</td>\n",
       "    </tr>\n",
       "    <tr>\n",
       "      <th>...</th>\n",
       "      <td>...</td>\n",
       "      <td>...</td>\n",
       "      <td>...</td>\n",
       "      <td>...</td>\n",
       "      <td>...</td>\n",
       "      <td>...</td>\n",
       "      <td>...</td>\n",
       "      <td>...</td>\n",
       "      <td>...</td>\n",
       "    </tr>\n",
       "    <tr>\n",
       "      <th>23855</th>\n",
       "      <td>Male</td>\n",
       "      <td>45</td>\n",
       "      <td>Other</td>\n",
       "      <td>20.0</td>\n",
       "      <td>Computer</td>\n",
       "      <td>Other</td>\n",
       "      <td>Computers/Technology</td>\n",
       "      <td>5</td>\n",
       "      <td>250000.0</td>\n",
       "    </tr>\n",
       "    <tr>\n",
       "      <th>23856</th>\n",
       "      <td>Female</td>\n",
       "      <td>25</td>\n",
       "      <td>Other</td>\n",
       "      <td>18.0</td>\n",
       "      <td>Engineering</td>\n",
       "      <td>Other</td>\n",
       "      <td>Other</td>\n",
       "      <td>0</td>\n",
       "      <td>NaN</td>\n",
       "    </tr>\n",
       "    <tr>\n",
       "      <th>23857</th>\n",
       "      <td>Male</td>\n",
       "      <td>22</td>\n",
       "      <td>Other</td>\n",
       "      <td>18.0</td>\n",
       "      <td>Computer</td>\n",
       "      <td>Software Engineer</td>\n",
       "      <td>Computers/Technology</td>\n",
       "      <td>0</td>\n",
       "      <td>10000.0</td>\n",
       "    </tr>\n",
       "    <tr>\n",
       "      <th>23858</th>\n",
       "      <td>Male</td>\n",
       "      <td>25</td>\n",
       "      <td>Other</td>\n",
       "      <td>11.0</td>\n",
       "      <td>Other</td>\n",
       "      <td>Other</td>\n",
       "      <td>Other</td>\n",
       "      <td>0</td>\n",
       "      <td>NaN</td>\n",
       "    </tr>\n",
       "    <tr>\n",
       "      <th>23859</th>\n",
       "      <td>Male</td>\n",
       "      <td>25</td>\n",
       "      <td>Other</td>\n",
       "      <td>18.0</td>\n",
       "      <td>Math/Stats</td>\n",
       "      <td>Other</td>\n",
       "      <td>Other</td>\n",
       "      <td>0</td>\n",
       "      <td>NaN</td>\n",
       "    </tr>\n",
       "  </tbody>\n",
       "</table>\n",
       "<p>23859 rows × 9 columns</p>\n",
       "</div>"
      ],
      "text/plain": [
       "       Gender  Age                   Country   Edu        Major  \\\n",
       "1      Female   45  United States of America  20.0        Other   \n",
       "2        Male   30                     Other  16.0  Engineering   \n",
       "3      Female   30  United States of America  18.0     Computer   \n",
       "4        Male   35  United States of America  18.0        Other   \n",
       "5        Male   22                     India  18.0   Math/Stats   \n",
       "...       ...  ...                       ...   ...          ...   \n",
       "23855    Male   45                     Other  20.0     Computer   \n",
       "23856  Female   25                     Other  18.0  Engineering   \n",
       "23857    Male   22                     Other  18.0     Computer   \n",
       "23858    Male   25                     Other  11.0        Other   \n",
       "23859    Male   25                     Other  18.0   Math/Stats   \n",
       "\n",
       "              Occupation                 Field  Experience    Salary  \n",
       "1                  Other                 Other           0       NaN  \n",
       "2                  Other                 Other           5   10000.0  \n",
       "3                  DS/RS               STUDENT           0       0.0  \n",
       "4           Not employed                 Other           0       NaN  \n",
       "5                  DA/BA               STUDENT           0       0.0  \n",
       "...                  ...                   ...         ...       ...  \n",
       "23855              Other  Computers/Technology           5  250000.0  \n",
       "23856              Other                 Other           0       NaN  \n",
       "23857  Software Engineer  Computers/Technology           0   10000.0  \n",
       "23858              Other                 Other           0       NaN  \n",
       "23859              Other                 Other           0       NaN  \n",
       "\n",
       "[23859 rows x 9 columns]"
      ]
     },
     "execution_count": 68,
     "metadata": {},
     "output_type": "execute_result"
    }
   ],
   "source": [
    "kag2 = pd.concat([q1, q2, q3, q4, q5, q6, q7, q8, q9], axis=1)\n",
    "kag2"
   ]
  },
  {
   "cell_type": "code",
   "execution_count": 69,
   "metadata": {},
   "outputs": [
    {
     "data": {
      "text/plain": [
       "Country\n",
       "Brazil                      0.350281\n",
       "China                       0.252835\n",
       "Germany                     0.261992\n",
       "India                       0.167262\n",
       "Other                       0.302266\n",
       "Russia                      0.198358\n",
       "United States of America    0.353616\n",
       "dtype: float64"
      ]
     },
     "execution_count": 69,
     "metadata": {},
     "output_type": "execute_result"
    }
   ],
   "source": [
    "(kag2\n",
    " .groupby('Country')\n",
    " .apply(lambda group: group.Salary.corr(group.Experience))\n",
    ")"
   ]
  },
  {
   "cell_type": "code",
   "execution_count": null,
   "metadata": {},
   "outputs": [],
   "source": []
  }
 ],
 "metadata": {
  "kernelspec": {
   "display_name": "base",
   "language": "python",
   "name": "python3"
  },
  "language_info": {
   "codemirror_mode": {
    "name": "ipython",
    "version": 3
   },
   "file_extension": ".py",
   "mimetype": "text/x-python",
   "name": "python",
   "nbconvert_exporter": "python",
   "pygments_lexer": "ipython3",
   "version": "3.9.12"
  },
  "orig_nbformat": 4,
  "vscode": {
   "interpreter": {
    "hash": "610a6f344c2137faf927ea819c63f6cee33a2c04455044b28099f39fe9722347"
   }
  }
 },
 "nbformat": 4,
 "nbformat_minor": 2
}
